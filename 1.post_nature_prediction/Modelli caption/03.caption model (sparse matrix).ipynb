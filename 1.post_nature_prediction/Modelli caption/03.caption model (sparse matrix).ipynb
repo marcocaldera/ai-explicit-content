{
 "cells": [
  {
   "cell_type": "markdown",
   "metadata": {},
   "source": [
    "# Caption\n",
    "\n",
    "\n",
    "https://realpython.com/python-keras-text-classification/"
   ]
  },
  {
   "cell_type": "code",
   "execution_count": 1,
   "metadata": {},
   "outputs": [],
   "source": [
    "import numpy as np\n",
    "import pandas as pd\n",
    "from sklearn.model_selection import train_test_split\n",
    "from mlxtend.plotting import plot_confusion_matrix\n",
    "from sklearn.metrics import confusion_matrix, classification_report\n",
    "from sklearn.preprocessing import LabelEncoder\n",
    "import matplotlib\n",
    "import matplotlib.pyplot as plt"
   ]
  },
  {
   "cell_type": "code",
   "execution_count": 2,
   "metadata": {
    "scrolled": true
   },
   "outputs": [
    {
     "name": "stdout",
     "output_type": "stream",
     "text": [
      "Numero di esempi:  11905\n"
     ]
    },
    {
     "data": {
      "text/html": [
       "<div>\n",
       "<style scoped>\n",
       "    .dataframe tbody tr th:only-of-type {\n",
       "        vertical-align: middle;\n",
       "    }\n",
       "\n",
       "    .dataframe tbody tr th {\n",
       "        vertical-align: top;\n",
       "    }\n",
       "\n",
       "    .dataframe thead th {\n",
       "        text-align: right;\n",
       "    }\n",
       "</style>\n",
       "<table border=\"1\" class=\"dataframe\">\n",
       "  <thead>\n",
       "    <tr style=\"text-align: right;\">\n",
       "      <th></th>\n",
       "      <th>index</th>\n",
       "      <th>username</th>\n",
       "      <th>photo_id</th>\n",
       "      <th>followed_by</th>\n",
       "      <th>hashtag</th>\n",
       "      <th>tag</th>\n",
       "      <th>caption</th>\n",
       "      <th>is_video</th>\n",
       "      <th>timestamp</th>\n",
       "      <th>n_comment</th>\n",
       "      <th>n_likes</th>\n",
       "      <th>target</th>\n",
       "    </tr>\n",
       "  </thead>\n",
       "  <tbody>\n",
       "    <tr>\n",
       "      <th>0</th>\n",
       "      <td>0</td>\n",
       "      <td>viniciusjunior</td>\n",
       "      <td>viniciusjunior0</td>\n",
       "      <td>9012479</td>\n",
       "      <td>[]</td>\n",
       "      <td>[]</td>\n",
       "      <td>Obrigado pelo carinho de sempre a todos que ac...</td>\n",
       "      <td>False</td>\n",
       "      <td>1582322398</td>\n",
       "      <td>1043</td>\n",
       "      <td>386524</td>\n",
       "      <td>standard</td>\n",
       "    </tr>\n",
       "    <tr>\n",
       "      <th>1</th>\n",
       "      <td>1</td>\n",
       "      <td>viniciusjunior</td>\n",
       "      <td>viniciusjunior1</td>\n",
       "      <td>9012479</td>\n",
       "      <td>[]</td>\n",
       "      <td>[]</td>\n",
       "      <td>“Algumas pessoas querem que algo aconteça outr...</td>\n",
       "      <td>False</td>\n",
       "      <td>1582141911</td>\n",
       "      <td>1564</td>\n",
       "      <td>522107</td>\n",
       "      <td>standard</td>\n",
       "    </tr>\n",
       "    <tr>\n",
       "      <th>2</th>\n",
       "      <td>2</td>\n",
       "      <td>viniciusjunior</td>\n",
       "      <td>NaN</td>\n",
       "      <td>9012479</td>\n",
       "      <td>['#VOLTAFOOTBALL', '#FIFA20']</td>\n",
       "      <td>['@rodrygogoes', '@dani.carvajal.2', '@fedeeva...</td>\n",
       "      <td>Mi amigo y yo llevamos el equipo a las calles ...</td>\n",
       "      <td>True</td>\n",
       "      <td>1581615465</td>\n",
       "      <td>395</td>\n",
       "      <td>179341</td>\n",
       "      <td>standard</td>\n",
       "    </tr>\n",
       "    <tr>\n",
       "      <th>3</th>\n",
       "      <td>3</td>\n",
       "      <td>viniciusjunior</td>\n",
       "      <td>NaN</td>\n",
       "      <td>9012479</td>\n",
       "      <td>[]</td>\n",
       "      <td>[]</td>\n",
       "      <td>💪🏾</td>\n",
       "      <td>True</td>\n",
       "      <td>1581532095</td>\n",
       "      <td>2303</td>\n",
       "      <td>380096</td>\n",
       "      <td>standard</td>\n",
       "    </tr>\n",
       "    <tr>\n",
       "      <th>4</th>\n",
       "      <td>4</td>\n",
       "      <td>viniciusjunior</td>\n",
       "      <td>viniciusjunior4</td>\n",
       "      <td>9012479</td>\n",
       "      <td>[]</td>\n",
       "      <td>['@pedroscooby']</td>\n",
       "      <td>Day off 🏄🏼‍♂️ tava pro surf das ondas gigantes...</td>\n",
       "      <td>False</td>\n",
       "      <td>1581440777</td>\n",
       "      <td>895</td>\n",
       "      <td>387117</td>\n",
       "      <td>standard</td>\n",
       "    </tr>\n",
       "  </tbody>\n",
       "</table>\n",
       "</div>"
      ],
      "text/plain": [
       "   index        username         photo_id  followed_by  \\\n",
       "0      0  viniciusjunior  viniciusjunior0      9012479   \n",
       "1      1  viniciusjunior  viniciusjunior1      9012479   \n",
       "2      2  viniciusjunior              NaN      9012479   \n",
       "3      3  viniciusjunior              NaN      9012479   \n",
       "4      4  viniciusjunior  viniciusjunior4      9012479   \n",
       "\n",
       "                         hashtag  \\\n",
       "0                             []   \n",
       "1                             []   \n",
       "2  ['#VOLTAFOOTBALL', '#FIFA20']   \n",
       "3                             []   \n",
       "4                             []   \n",
       "\n",
       "                                                 tag  \\\n",
       "0                                                 []   \n",
       "1                                                 []   \n",
       "2  ['@rodrygogoes', '@dani.carvajal.2', '@fedeeva...   \n",
       "3                                                 []   \n",
       "4                                   ['@pedroscooby']   \n",
       "\n",
       "                                             caption  is_video   timestamp  \\\n",
       "0  Obrigado pelo carinho de sempre a todos que ac...     False  1582322398   \n",
       "1  “Algumas pessoas querem que algo aconteça outr...     False  1582141911   \n",
       "2  Mi amigo y yo llevamos el equipo a las calles ...      True  1581615465   \n",
       "3                                                 💪🏾      True  1581532095   \n",
       "4  Day off 🏄🏼‍♂️ tava pro surf das ondas gigantes...     False  1581440777   \n",
       "\n",
       "   n_comment  n_likes    target  \n",
       "0       1043   386524  standard  \n",
       "1       1564   522107  standard  \n",
       "2        395   179341  standard  \n",
       "3       2303   380096  standard  \n",
       "4        895   387117  standard  "
      ]
     },
     "execution_count": 2,
     "metadata": {},
     "output_type": "execute_result"
    }
   ],
   "source": [
    "dataset = pd.read_csv('../dataset/influencer_dataset.csv')\n",
    "print(\"Numero di esempi: \", len(dataset))\n",
    "dataset.head()"
   ]
  },
  {
   "cell_type": "markdown",
   "metadata": {},
   "source": [
    "#### Aggiungo come post sponsorizzati quelli che contengono come hashtag `adv`, `ad` etc."
   ]
  },
  {
   "cell_type": "code",
   "execution_count": 3,
   "metadata": {},
   "outputs": [],
   "source": [
    "mask = dataset.hashtag.str.lower().str.contains(\"'#adv'|'#ad'|'#sponsored'|'#supplied'\")\n",
    "column_name = 'target'\n",
    "dataset.loc[mask, column_name] = 'paid'\n",
    "# dataset.loc[mask_adv | mask_sponsored | mask_supplied, column_name] = 'paid'"
   ]
  },
  {
   "cell_type": "markdown",
   "metadata": {},
   "source": [
    "#### Aggiungo i post dei prend come fossero a pagamento"
   ]
  },
  {
   "cell_type": "code",
   "execution_count": 4,
   "metadata": {},
   "outputs": [
    {
     "data": {
      "text/plain": [
       "'victoriassecret|nikefootball|nike|nikebasketball|chanelofficial|gucci|zara|louisvuitton|adidas|adidasfootball|adidasoriginals|bmw|mercedesbenz|kyliecosmetics|lamborghini|versace|starbucks'"
      ]
     },
     "execution_count": 4,
     "metadata": {},
     "output_type": "execute_result"
    }
   ],
   "source": [
    "brand_list = ['victoriassecret', 'nikefootball', 'nike',\n",
    "        'nikebasketball', 'chanelofficial', 'gucci',\n",
    "        'zara', 'louisvuitton', 'adidas',\n",
    "       'adidasfootball', 'adidasoriginals', 'bmw',\n",
    "       'mercedesbenz', 'kyliecosmetics', 'lamborghini',\n",
    "       'versace', 'starbucks']\n",
    "\"|\".join(brand_list)"
   ]
  },
  {
   "cell_type": "code",
   "execution_count": 5,
   "metadata": {},
   "outputs": [],
   "source": [
    "mask = dataset.username.str.lower().str.contains(\"|\".join(brand_list))\n",
    "column_name = 'target'\n",
    "dataset.loc[mask, column_name] = 'paid'"
   ]
  },
  {
   "cell_type": "markdown",
   "metadata": {},
   "source": [
    "#### Trasfromazione etichette in 0-1"
   ]
  },
  {
   "cell_type": "code",
   "execution_count": 6,
   "metadata": {},
   "outputs": [],
   "source": [
    "# paid = 0\n",
    "# standard = 1\n",
    "label = LabelEncoder()\n",
    "dataset['target'] = label.fit_transform(dataset['target'])"
   ]
  },
  {
   "cell_type": "markdown",
   "metadata": {},
   "source": [
    "#### Costruzione dataset"
   ]
  },
  {
   "cell_type": "code",
   "execution_count": 7,
   "metadata": {},
   "outputs": [],
   "source": [
    "X = dataset['caption'].values.astype('U') # U = unicode\n",
    "y = dataset['target']\n",
    "\n",
    "X_train, X_test, y_train, y_test = train_test_split(X, y, test_size=0.25, stratify=y, random_state=0)"
   ]
  },
  {
   "cell_type": "code",
   "execution_count": 8,
   "metadata": {},
   "outputs": [
    {
     "name": "stdout",
     "output_type": "stream",
     "text": [
      "Esempi training standard:  8564\n",
      "Esempi training paid:  364\n"
     ]
    }
   ],
   "source": [
    "print('Esempi training standard: ', sum(y_train == 1))\n",
    "print('Esempi training paid: ', sum((y_train == 0)))"
   ]
  },
  {
   "cell_type": "code",
   "execution_count": 9,
   "metadata": {},
   "outputs": [
    {
     "name": "stdout",
     "output_type": "stream",
     "text": [
      "Esempi test standard:  2856\n",
      "Esempi test paid:  121\n"
     ]
    }
   ],
   "source": [
    "print('Esempi test standard: ', sum(y_test == 1))\n",
    "print('Esempi test paid: ', sum(y_test == 0))"
   ]
  },
  {
   "cell_type": "code",
   "execution_count": 10,
   "metadata": {},
   "outputs": [
    {
     "data": {
      "text/plain": [
       "(8928, 2977)"
      ]
     },
     "execution_count": 10,
     "metadata": {},
     "output_type": "execute_result"
    }
   ],
   "source": [
    "len(X_train), len(X_test)"
   ]
  },
  {
   "cell_type": "code",
   "execution_count": 11,
   "metadata": {},
   "outputs": [
    {
     "data": {
      "text/plain": [
       "1    8564\n",
       "0     364\n",
       "Name: target, dtype: int64"
      ]
     },
     "execution_count": 11,
     "metadata": {},
     "output_type": "execute_result"
    }
   ],
   "source": [
    "y_train.value_counts()"
   ]
  },
  {
   "cell_type": "code",
   "execution_count": 12,
   "metadata": {},
   "outputs": [
    {
     "data": {
      "text/plain": [
       "1    2856\n",
       "0     121\n",
       "Name: target, dtype: int64"
      ]
     },
     "execution_count": 12,
     "metadata": {},
     "output_type": "execute_result"
    }
   ],
   "source": [
    "y_test.value_counts()"
   ]
  },
  {
   "cell_type": "markdown",
   "metadata": {},
   "source": [
    "### Vectorized"
   ]
  },
  {
   "cell_type": "code",
   "execution_count": 13,
   "metadata": {},
   "outputs": [],
   "source": [
    "from sklearn.feature_extraction.text import CountVectorizer"
   ]
  },
  {
   "cell_type": "code",
   "execution_count": 14,
   "metadata": {},
   "outputs": [
    {
     "data": {
      "text/plain": [
       "{'emma': 7283,\n",
       " 'gellergreen': 9217,\n",
       " '16': 153,\n",
       " 'years': 23455,\n",
       " 'later': 12440,\n",
       " 'the': 21251,\n",
       " 'sheldon': 19387,\n",
       " 'twins': 21995,\n",
       " 'and': 1547,\n",
       " 'swung': 20716,\n",
       " 'by': 3587,\n",
       " 'central': 4032,\n",
       " 'perk': 16203,\n",
       " 'to': 21482,\n",
       " 'reflect': 17863,\n",
       " 'on': 15329,\n",
       " 'their': 21261,\n",
       " 'time': 21409,\n",
       " 'show': 19466,\n",
       " 'brasilzão': 3313,\n",
       " 'de': 5788,\n",
       " 'volta': 22796,\n",
       " 'no': 14919,\n",
       " 'feed': 8353,\n",
       " 'exato': 7941,\n",
       " '깡총깡총': 29030,\n",
       " 'apdm': 1724,\n",
       " 'allora': 1357,\n",
       " 'vi': 22569,\n",
       " 'piaciuta': 16344,\n",
       " 'io': 11249,\n",
       " 'ero': 7613,\n",
       " 'emozionatissimaaaaaa': 7302,\n",
       " 'da': 5638,\n",
       " 'stanotte': 20227,\n",
       " 'sarà': 18778,\n",
       " 'fuori': 8993,\n",
       " 'ovunque': 15569,\n",
       " 'domani': 6732,\n",
       " 'ore': 15445,\n",
       " '10': 26,\n",
       " 'il': 10750,\n",
       " 'video': 22615,\n",
       " 'nan': 14615,\n",
       " 'наши': 25488,\n",
       " 'дорогие': 24509,\n",
       " 'мужчины': 25360,\n",
       " 'лучшайшая': 25149,\n",
       " 'шляпа': 27343,\n",
       " 'esta': 7759,\n",
       " 'canción': 3765,\n",
       " 'es': 7627,\n",
       " 'para': 15748,\n",
       " 'toda': 21490,\n",
       " 'la': 12297,\n",
       " 'gente': 9261,\n",
       " 'que': 17465,\n",
       " 'tiene': 21378,\n",
       " 'el': 7174,\n",
       " 'corazón': 5169,\n",
       " 'roto': 18442,\n",
       " 'todavía': 21492,\n",
       " 'ha': 9856,\n",
       " 'olvidado': 15308,\n",
       " 'darían': 5742,\n",
       " 'todo': 21500,\n",
       " 'porque': 16688,\n",
       " 'ese': 7679,\n",
       " 'edificio': 7092,\n",
       " 'se': 18923,\n",
       " 'derrumbara': 6073,\n",
       " 'si': 19491,\n",
       " 'me': 13560,\n",
       " 'dices': 6326,\n",
       " 'sí': 20744,\n",
       " 'tribu': 21788,\n",
       " 'pueden': 17308,\n",
       " 'creer': 5356,\n",
       " 'estemos': 7788,\n",
       " 'haciendo': 9899,\n",
       " 'una': 22097,\n",
       " 'con': 4841,\n",
       " 'yo': 23489,\n",
       " 'can': 3756,\n",
       " 'you': 23508,\n",
       " 'guess': 9742,\n",
       " 'what': 23062,\n",
       " 'that': 21248,\n",
       " 'is': 11277,\n",
       " 'next': 14811,\n",
       " 'my': 14493,\n",
       " 'head': 10129,\n",
       " 'comment': 4700,\n",
       " 'below': 2746,\n",
       " 'join': 11571,\n",
       " 'us': 22275,\n",
       " 'year': 23452,\n",
       " 'in': 10873,\n",
       " 'russia': 18512,\n",
       " 'tickets': 21365,\n",
       " 'are': 1856,\n",
       " 'available': 2182,\n",
       " 'now': 15045,\n",
       " 'twentyonepilotscom': 21987,\n",
       " 'rainbow': 17609,\n",
       " 'look': 12935,\n",
       " 'london': 12924,\n",
       " 'with': 23181,\n",
       " '나이아가라폭포': 29037,\n",
       " 'very': 22551,\n",
       " 'talented': 20827,\n",
       " 'actor': 919,\n",
       " 'younger': 23513,\n",
       " 'bro': 3397,\n",
       " 'tonight': 21547,\n",
       " 'all': 1334,\n",
       " 'best': 2875,\n",
       " 'for': 8736,\n",
       " 'releasing': 17968,\n",
       " 'thekapilsharmashow': 21263,\n",
       " 'never': 14800,\n",
       " 'game': 9072,\n",
       " 'at': 2041,\n",
       " 'garden': 9125,\n",
       " 'always': 1421,\n",
       " 'nothing': 15007,\n",
       " 'like': 12705,\n",
       " 'mecca': 13576,\n",
       " 'we': 22999,\n",
       " 'got': 9534,\n",
       " 'dub': 6911,\n",
       " 'great': 9635,\n",
       " 'get': 9305,\n",
       " 'back': 2332,\n",
       " 'other': 15499,\n",
       " 'column': 4623,\n",
       " 'thinking': 21297,\n",
       " 'of': 15204,\n",
       " 'more': 14257,\n",
       " 'from': 8915,\n",
       " 'bali': 2429,\n",
       " 'hope': 10473,\n",
       " 'be': 2614,\n",
       " 'indonesia': 10956,\n",
       " 'thank': 21236,\n",
       " 'having': 10097,\n",
       " 'tive': 21465,\n",
       " 'ouvir': 15546,\n",
       " 'muita': 14406,\n",
       " 'eu': 7879,\n",
       " 'não': 15118,\n",
       " 'iria': 11261,\n",
       " 'pra': 16811,\n",
       " 'frente': 8883,\n",
       " 'mas': 13445,\n",
       " 'foguete': 8701,\n",
       " 'tem': 21017,\n",
       " 'ré': 18531,\n",
       " 'hi': 10281,\n",
       " 'love': 12985,\n",
       " 'happy': 10027,\n",
       " 'one': 15341,\n",
       " 'ya': 23365,\n",
       " 'sé': 20741,\n",
       " 'pero': 16219,\n",
       " 'siempre': 19518,\n",
       " 'te': 20950,\n",
       " 'voy': 22841,\n",
       " 'ver': 22501,\n",
       " 'como': 4726,\n",
       " 'mi': 13917,\n",
       " 'niño': 14913,\n",
       " 'felicidades': 8376,\n",
       " 'hijo': 10323,\n",
       " 'amo': 1502,\n",
       " 'birthday': 3027,\n",
       " 'little': 12803,\n",
       " 'boy': 3278,\n",
       " 'she': 19377,\n",
       " 'says': 18823,\n",
       " 'know': 12141,\n",
       " 've': 22441,\n",
       " 'really': 17734,\n",
       " 'met': 13871,\n",
       " 'someone': 19923,\n",
       " 'black': 3061,\n",
       " 'friday': 8898,\n",
       " 'wearing': 23006,\n",
       " 'new': 14802,\n",
       " '3d': 469,\n",
       " 'merch': 13819,\n",
       " 'collection': 4587,\n",
       " 'ogwolfpackcom': 15229,\n",
       " 'using': 22301,\n",
       " 'satellite': 18785,\n",
       " 'data': 5746,\n",
       " 'scientists': 18882,\n",
       " 'documenting': 6697,\n",
       " 'inexorable': 10972,\n",
       " 'melting': 13661,\n",
       " 'south': 20031,\n",
       " 'america': 1483,\n",
       " 'glaciers': 9397,\n",
       " 'ice': 10682,\n",
       " 'fields': 8461,\n",
       " 'findings': 8527,\n",
       " 'sobering': 19839,\n",
       " 'ninetyeight': 14893,\n",
       " 'percent': 16147,\n",
       " 'andean': 1554,\n",
       " 'have': 10094,\n",
       " 'shrunk': 19483,\n",
       " 'this': 21304,\n",
       " 'century': 4036,\n",
       " 'losing': 12958,\n",
       " 'an': 1532,\n",
       " 'average': 2201,\n",
       " 'three': 21325,\n",
       " 'feet': 8362,\n",
       " 'thickness': 21288,\n",
       " 'since': 19608,\n",
       " '2000': 234,\n",
       " 'area': 1857,\n",
       " 'covered': 5277,\n",
       " 'peru': 16263,\n",
       " 'example': 7939,\n",
       " 'shrank': 19478,\n",
       " 'nearly': 14709,\n",
       " 'third': 21300,\n",
       " '2016': 258,\n",
       " 'southern': 20034,\n",
       " 'andes': 1558,\n",
       " 'particularly': 15830,\n",
       " 'patagonia': 15917,\n",
       " 'some': 19918,\n",
       " 'retreated': 18198,\n",
       " '55': 556,\n",
       " 'miles': 13976,\n",
       " 'past': 15902,\n",
       " 'loss': 12959,\n",
       " 'poses': 16710,\n",
       " 'threat': 21322,\n",
       " 'water': 22983,\n",
       " 'supplies': 20590,\n",
       " 'agriculture': 1130,\n",
       " 'bolivia': 3159,\n",
       " 'chile': 4257,\n",
       " 'disappearance': 6505,\n",
       " 'will': 23133,\n",
       " 'impact': 10819,\n",
       " 'cities': 4392,\n",
       " 'but': 3571,\n",
       " 'not': 14995,\n",
       " 'just': 11685,\n",
       " 'locals': 12884,\n",
       " 'farmers': 8249,\n",
       " 'people': 16119,\n",
       " 'who': 23098,\n",
       " 'do': 6679,\n",
       " 'broadly': 3399,\n",
       " 'scientist': 18881,\n",
       " 'read': 17710,\n",
       " 'full': 8962,\n",
       " 'story': 20323,\n",
       " 'click': 4457,\n",
       " 'link': 12763,\n",
       " 'bio': 2995,\n",
       " 'reporting': 18053,\n",
       " 'jonathan': 11587,\n",
       " 'moens': 14164,\n",
       " 'photo': 16320,\n",
       " 'credit': 5348,\n",
       " 'david': 5759,\n",
       " 'silvermangetty': 19578,\n",
       " 'images': 10786,\n",
       " '2020': 268,\n",
       " 'energy': 7424,\n",
       " 'parts': 15848,\n",
       " 'joblife': 11546,\n",
       " 'getting': 9309,\n",
       " 'meet': 13601,\n",
       " 'extraordinary': 8091,\n",
       " 'activists': 914,\n",
       " 'advocates': 1045,\n",
       " 'such': 20466,\n",
       " 'person': 16234,\n",
       " 'her': 10237,\n",
       " 'twin': 21990,\n",
       " 'sister': 19657,\n",
       " 'activist': 913,\n",
       " 'psychotherapist': 17275,\n",
       " 'launched': 12459,\n",
       " 'fundraising': 8984,\n",
       " 'campaign': 3741,\n",
       " 'finish': 8540,\n",
       " 'selfhelp': 19081,\n",
       " 'book': 3196,\n",
       " 'called': 3687,\n",
       " 'voices': 22785,\n",
       " 'essential': 7752,\n",
       " 'please': 16527,\n",
       " 'hearing': 10151,\n",
       " 'them': 21264,\n",
       " 'supporting': 20596,\n",
       " 'provide': 17227,\n",
       " '1000': 28,\n",
       " 'books': 3199,\n",
       " 'healing': 10144,\n",
       " 'seminars': 19116,\n",
       " 'native': 14671,\n",
       " 'women': 23208,\n",
       " 'making': 13217,\n",
       " 'donation': 6757,\n",
       " 'born': 3223,\n",
       " 'change': 4122,\n",
       " 'champion': 4110,\n",
       " 'mahomie': 13180,\n",
       " 'so': 19830,\n",
       " 'excited': 7956,\n",
       " 'announce': 1629,\n",
       " 'launch': 12458,\n",
       " 'jlo': 11540,\n",
       " 'jennifer': 11492,\n",
       " 'lopez': 12946,\n",
       " 'footwear': 8735,\n",
       " 'designed': 6152,\n",
       " 'sold': 19883,\n",
       " 'only': 15357,\n",
       " 'httpdswcomjlo': 10541,\n",
       " 'signup': 19550,\n",
       " 'shop': 19443,\n",
       " 'early': 7045,\n",
       " 'enter': 7508,\n",
       " 'chance': 4118,\n",
       " 'hang': 10005,\n",
       " 'stories': 20317,\n",
       " 'it': 11311,\n",
       " 'about': 751,\n",
       " 'eye': 8103,\n",
       " 'contact': 5035,\n",
       " 'baby': 2319,\n",
       " 'did': 6335,\n",
       " 'order': 15439,\n",
       " 'hostess': 10500,\n",
       " 'pumped': 17341,\n",
       " 'hosting': 10501,\n",
       " 'event': 7902,\n",
       " 'raise': 17617,\n",
       " 'money': 14210,\n",
       " 'national': 14667,\n",
       " 'bushfire': 3560,\n",
       " 'relief': 17972,\n",
       " 'already': 1393,\n",
       " 'started': 20240,\n",
       " 'stretching': 20363,\n",
       " 'go': 9452,\n",
       " 'sale': 18660,\n",
       " 'today': 21493,\n",
       " '12noon': 110,\n",
       " 'aedt': 1051,\n",
       " 'wwwfirefightaustraliacom': 23308,\n",
       " 'yeee': 23459,\n",
       " 'dgoyangin': 6281,\n",
       " 'hari': 10041,\n",
       " 'ini': 11028,\n",
       " 'bersama': 2850,\n",
       " 'sw': 20667,\n",
       " 'daddy': 5653,\n",
       " 'daughter': 5755,\n",
       " 'giddy': 9344,\n",
       " 'up': 22239,\n",
       " 'follow': 8710,\n",
       " 'triller': 21803,\n",
       " 'theacefamily': 21252,\n",
       " 'bruno': 3433,\n",
       " 'fell': 8391,\n",
       " 'him': 10338,\n",
       " 'first': 8564,\n",
       " 'moment': 14186,\n",
       " 'saw': 18810,\n",
       " 'as': 1948,\n",
       " 'see': 18982,\n",
       " 'stay': 20258,\n",
       " 'away': 2234,\n",
       " 'his': 10359,\n",
       " 'favourite': 8302,\n",
       " 'meal': 13562,\n",
       " 'heart': 10153,\n",
       " 'set': 19261,\n",
       " 'yummy': 23539,\n",
       " 'nutritious': 15094,\n",
       " 'food': 8719,\n",
       " 'he': 10128,\n",
       " 'leaves': 12513,\n",
       " 'bowl': 3270,\n",
       " 'spotless': 20154,\n",
       " 'your': 23520,\n",
       " 'free': 8868,\n",
       " 'sample': 18710,\n",
       " 'share': 19358,\n",
       " 'pet': 16280,\n",
       " 'relishing': 17975,\n",
       " 'drools': 6885,\n",
       " 'lucky': 13029,\n",
       " 'winner': 23156,\n",
       " 'stands': 20222,\n",
       " 'win': 23141,\n",
       " 'exciting': 7958,\n",
       " 'hamper': 9981,\n",
       " 'don': 6745,\n",
       " 'forget': 8753,\n",
       " 'tag': 20791,\n",
       " 'starting': 20241,\n",
       " 'out': 15519,\n",
       " 'fine': 8529,\n",
       " 'girl': 9378,\n",
       " 'happiest': 10022,\n",
       " 'allplus': 1362,\n",
       " 'those': 21309,\n",
       " 'motivational': 14303,\n",
       " 'things': 21294,\n",
       " 'saying': 18822,\n",
       " 'smwhy': 19799,\n",
       " 'notthat': 15017,\n",
       " 'too': 21555,\n",
       " 'em': 7242,\n",
       " '23': 333,\n",
       " 'old': 15259,\n",
       " 'ready': 17713,\n",
       " 'number': 15074,\n",
       " 'sure': 20609,\n",
       " 'if': 10719,\n",
       " 'or': 15420,\n",
       " 'terrified': 21171,\n",
       " 'yet': 23480,\n",
       " 'll': 12826,\n",
       " 'figure': 8479,\n",
       " 'st3': 20197,\n",
       " 'premier': 16890,\n",
       " 'yoona': 23499,\n",
       " 'noche': 14928,\n",
       " 'nuestro': 15061,\n",
       " 'cine': 4364,\n",
       " 'entrada': 7523,\n",
       " 'los': 12953,\n",
       " '20': 232,\n",
       " 'gracias': 9565,\n",
       " 'mis': 14082,\n",
       " 'amores': 1513,\n",
       " 'por': 16684,\n",
       " 'vuestro': 22853,\n",
       " 'impecable': 10827,\n",
       " 'trabajo': 21641,\n",
       " 'ayer': 2254,\n",
       " 'todxs': 21505,\n",
       " 'hoy': 10525,\n",
       " 'vuestras': 22852,\n",
       " 'felicitaciones': 8377,\n",
       " 'reading': 17711,\n",
       " 'ahead': 1150,\n",
       " 'world': 23249,\n",
       " 'day': 5767,\n",
       " 'whilst': 23083,\n",
       " 'train': 21679,\n",
       " 'physically': 16339,\n",
       " 'least': 12509,\n",
       " 'exercise': 7980,\n",
       " 'mind': 14027,\n",
       " 'good': 9491,\n",
       " 'weekend': 23021,\n",
       " 'everyone': 7917,\n",
       " 'would': 23262,\n",
       " 'enjoy': 7458,\n",
       " 'swing': 20703,\n",
       " 'travel': 21742,\n",
       " 'ideas': 10701,\n",
       " 'summer': 20532,\n",
       " 'monday': 14204,\n",
       " 'staples': 20228,\n",
       " 'niños': 14914,\n",
       " 'quiero': 17530,\n",
       " 'compartir': 4753,\n",
       " 'algo': 1296,\n",
       " 'demasiado': 5990,\n",
       " 'importante': 10842,\n",
       " 'ustedes': 22306,\n",
       " 'día': 7011,\n",
       " 'inaugure': 10882,\n",
       " 'primer': 17000,\n",
       " 'studio': 20396,\n",
       " 'belleza': 2735,\n",
       " 'aquí': 1837,\n",
       " 'en': 7347,\n",
       " 'tijuana': 21394,\n",
       " 'bc': 2610,\n",
       " 'verdad': 22505,\n",
       " 'estoy': 7808,\n",
       " 'súper': 20756,\n",
       " 'feliz': 8385,\n",
       " 'poder': 16566,\n",
       " 'logrado': 12904,\n",
       " 'así': 2040,\n",
       " 'saber': 18564,\n",
       " 'este': 7785,\n",
       " 'logro': 12908,\n",
       " 'más': 14519,\n",
       " 'están': 7830,\n",
       " 'todos': 21503,\n",
       " 'infinitamente': 10980,\n",
       " 'año': 2288,\n",
       " 'nuevo': 15066,\n",
       " 'proyectos': 17238,\n",
       " 'nuevos': 15067,\n",
       " 'wait': 22897,\n",
       " 'bff': 2907,\n",
       " 'tomorrow': 21541,\n",
       " 'bih': 2961,\n",
       " 'outfit': 15525,\n",
       " 'present': 16934,\n",
       " 'visionary': 22705,\n",
       " 'award': 2228,\n",
       " 'ves': 22556,\n",
       " 'awards': 2230,\n",
       " 'honor': 10451,\n",
       " 'friend': 8902,\n",
       " 'write': 23276,\n",
       " 'speech': 20094,\n",
       " 'try': 21876,\n",
       " 'sum': 20522,\n",
       " 'masterful': 13465,\n",
       " 'career': 3865,\n",
       " 'has': 10061,\n",
       " 'had': 9905,\n",
       " 'continuing': 5079,\n",
       " 'was': 22966,\n",
       " 'special': 20086,\n",
       " 'known': 12144,\n",
       " 'roland': 18379,\n",
       " '13': 115,\n",
       " 'done': 6761,\n",
       " 'films': 8505,\n",
       " 'together': 21508,\n",
       " 'working': 23243,\n",
       " 'being': 2705,\n",
       " 'able': 747,\n",
       " 'family': 8211,\n",
       " 'privilege': 17040,\n",
       " 'feel': 8356,\n",
       " 'real': 17716,\n",
       " 'darn': 5737,\n",
       " 'been': 2670,\n",
       " 'part': 15810,\n",
       " 'aniversariante': 1600,\n",
       " 'passando': 15882,\n",
       " 'na': 14555,\n",
       " 'sua': 20420,\n",
       " 'timeline': 21411,\n",
       " 'vanita': 22399,\n",
       " 'kerala': 11956,\n",
       " 'cagandono': 3659,\n",
       " 'frío': 8930,\n",
       " 'un': 22096,\n",
       " 'shato': 19369,\n",
       " 'carnaval': 3895,\n",
       " 'já': 11701,\n",
       " 'começa': 4672,\n",
       " 'agora': 1109,\n",
       " 'mim': 14016,\n",
       " 'com': 4625,\n",
       " 'esse': 7748,\n",
       " 'especial': 7702,\n",
       " 'pro': 17047,\n",
       " 'aqui': 1833,\n",
       " 'salvador': 18689,\n",
       " 'hoje': 10401,\n",
       " 'vamos': 22388,\n",
       " 'falar': 8175,\n",
       " 'sobre': 19843,\n",
       " 'panda': 15700,\n",
       " 'vocês': 22776,\n",
       " 'sabiam': 18568,\n",
       " 'mesmo': 13859,\n",
       " 'após': 1820,\n",
       " 'proibição': 17127,\n",
       " 'caça': 3980,\n",
       " 'aos': 1697,\n",
       " 'pandas': 15702,\n",
       " 'gigantes': 9353,\n",
       " 'china': 4269,\n",
       " 'os': 15486,\n",
       " 'ursos': 22271,\n",
       " 'ainda': 1173,\n",
       " 'correm': 5208,\n",
       " 'risco': 18312,\n",
       " 'extinção': 8087,\n",
       " 'dessa': 6191,\n",
       " 'vez': 22566,\n",
       " 'pelas': 16044,\n",
       " 'mudanças': 14388,\n",
       " 'climáticas': 4467,\n",
       " 'causadas': 3971,\n",
       " 'pela': 16041,\n",
       " 'poluição': 16633,\n",
       " 'homem': 10423,\n",
       " 'ao': 1696,\n",
       " 'meio': 13618,\n",
       " 'ambiente': 1470,\n",
       " 'sensíveis': 19162,\n",
       " 'essas': 7747,\n",
       " 'estimase': 7796,\n",
       " '35': 448,\n",
       " 'das': 5743,\n",
       " 'florestas': 8659,\n",
       " 'bambu': 2445,\n",
       " 'sumirão': 20530,\n",
       " 'planeta': 16480,\n",
       " 'nos': 14984,\n",
       " 'próximos': 17257,\n",
       " '80': 628,\n",
       " 'anos': 1640,\n",
       " 'elas': 7176,\n",
       " 'só': 20746,\n",
       " 'alimentam': 1325,\n",
       " 'disso': 6589,\n",
       " 'preciso': 16858,\n",
       " 'cada': 3643,\n",
       " 'um': 22086,\n",
       " 'nós': 15123,\n",
       " 'tente': 21090,\n",
       " 'fazer': 8308,\n",
       " 'parte': 15812,\n",
       " 'seja': 19047,\n",
       " 'ela': 7175,\n",
       " 'tamanho': 20842,\n",
       " 'essa': 7746,\n",
       " 'outras': 15532,\n",
       " 'espécies': 7734,\n",
       " 'desapareçam': 6084,\n",
       " 'wannabe': 22943,\n",
       " 'newyorker': 14810,\n",
       " 'bittersweet': 3052,\n",
       " 'arrow': 1927,\n",
       " 'meant': 13569,\n",
       " 'much': 14371,\n",
       " 'many': 13341,\n",
       " 'transformative': 21712,\n",
       " 'journey': 11607,\n",
       " 'let': 12594,\n",
       " 'lace': 12310,\n",
       " 'boots': 3208,\n",
       " 'hood': 10463,\n",
       " 'last': 12429,\n",
       " 'forever': 8751,\n",
       " 'cherish': 4223,\n",
       " 'ambassador': 1467,\n",
       " 'oliver': 15290,\n",
       " 'queen': 17479,\n",
       " 'comblée': 4639,\n",
       " 'amour': 1520,\n",
       " 'par': 15747,\n",
       " 'mes': 13848,\n",
       " 'valentins': 22363,\n",
       " 'femmeheureuse': 8400,\n",
       " 'je': 11460,\n",
       " 'aime': 1169,\n",
       " 'plus': 16544,\n",
       " 'tout': 21616,\n",
       " 'mon': 14200,\n",
       " 'quieren': 17528,\n",
       " 'gira': 9375,\n",
       " 'jukilop': 11648,\n",
       " 'comenta': 4651,\n",
       " 'qué': 17560,\n",
       " 'ciudad': 4397,\n",
       " 'zumito': 23625,\n",
       " 'llevo': 12855,\n",
       " 'varios': 22410,\n",
       " 'meses': 13852,\n",
       " 'comiendo': 4690,\n",
       " 'bien': 2948,\n",
       " 'siguiendo': 19556,\n",
       " 'pasos': 15876,\n",
       " 'nutricionista': 15090,\n",
       " 'encuentro': 7400,\n",
       " 'genial': 9255,\n",
       " 'enfermado': 7429,\n",
       " 'ni': 14846,\n",
       " 'mientras': 13952,\n",
       " 'familiares': 8206,\n",
       " 'amigos': 1493,\n",
       " 'lo': 12870,\n",
       " 'han': 9986,\n",
       " 'estado': 7763,\n",
       " 'asi': 1963,\n",
       " 'intuyo': 11211,\n",
       " 'buena': 3477,\n",
       " 'señal': 19318,\n",
       " 'ademas': 965,\n",
       " 'esto': 7805,\n",
       " 'ayudado': 2261,\n",
       " 'probar': 17053,\n",
       " 'tipo': 21436,\n",
       " 'comida': 4688,\n",
       " 'encontrarme': 7385,\n",
       " 'energia': 7420,\n",
       " 'algun': 1301,\n",
       " 'dia': 6289,\n",
       " 'explicare': 8048,\n",
       " 'took': 21556,\n",
       " 'few': 8441,\n",
       " 'days': 5771,\n",
       " 'relax': 17960,\n",
       " 'fam': 8200,\n",
       " 'celebrate': 4003,\n",
       " 'woke': 23197,\n",
       " 'incredible': 10913,\n",
       " 'amount': 1518,\n",
       " 'messages': 13863,\n",
       " 'feeling': 8358,\n",
       " 'loved': 12987,\n",
       " 'kid': 12030,\n",
       " '24': 348,\n",
       " 'kemarin': 11920,\n",
       " 'itu': 11324,\n",
       " 'aku': 1235,\n",
       " 'lagi': 12330,\n",
       " 'pengen': 16085,\n",
       " 'beliin': 2728,\n",
       " 'kado': 11725,\n",
       " 'buat': 3455,\n",
       " 'suami': 20421,\n",
       " 'dalam': 5673,\n",
       " 'rangka': 17648,\n",
       " 'menyambut': 13800,\n",
       " 'valentine': 22358,\n",
       " 'soalnya': 19834,\n",
       " 'belakangan': 2717,\n",
       " 'sangat': 18737,\n",
       " 'helpful': 10221,\n",
       " 'bantuin': 2483,\n",
       " 'ngurus': 14840,\n",
       " 'kembar': 11924,\n",
       " 'jadi': 11377,\n",
       " 'pingin': 16420,\n",
       " 'kasih': 11823,\n",
       " 'hadiah': 9907,\n",
       " 'spesial': 20103,\n",
       " 'sebagai': 18948,\n",
       " 'bentuk': 2783,\n",
       " 'apresiasiku': 1797,\n",
       " 'untuk': 22229,\n",
       " 'supportnya': 20598,\n",
       " 'yang': 23399,\n",
       " 'ngga': 14833,\n",
       " 'biasa': 2935,\n",
       " 'mesti': 13869,\n",
       " 'heboh': 10176,\n",
       " 'juga': 11638,\n",
       " 'sih': 19558,\n",
       " 'sesuatu': 19259,\n",
       " 'memang': 13664,\n",
       " 'butuhkan': 3578,\n",
       " 'lalu': 12349,\n",
       " 'ingat': 11012,\n",
       " 'jeje': 11479,\n",
       " 'pernah': 16217,\n",
       " 'mention': 13785,\n",
       " 'kalau': 11746,\n",
       " 'pelihara': 16052,\n",
       " 'kumis': 12246,\n",
       " 'dan': 5689,\n",
       " 'jenggot': 11486,\n",
       " 'kadang': 11718,\n",
       " 'repot': 18059,\n",
       " 'numbuhnya': 15076,\n",
       " 'beraturan': 2797,\n",
       " 'aha': 1148,\n",
       " 'akhirnya': 1214,\n",
       " 'philips': 16311,\n",
       " 'mg5730': 13912,\n",
       " 'dari': 5725,\n",
       " 'trimmer': 21807,\n",
       " 'lengkap': 12574,\n",
       " 'banget': 2462,\n",
       " 'aksesorisnya': 1225,\n",
       " 'bisa': 3032,\n",
       " 'disesuaikan': 6545,\n",
       " 'dengan': 6010,\n",
       " 'kebutuhan': 11873,\n",
       " 'amaze': 1457,\n",
       " 'lho': 12644,\n",
       " 'digunakan': 6392,\n",
       " 'rambut': 17637,\n",
       " 'sampai': 18706,\n",
       " 'badan': 2348,\n",
       " 'pun': 17343,\n",
       " 'langsung': 12383,\n",
       " 'mikir': 13964,\n",
       " 'kayanya': 11849,\n",
       " 'bakal': 2408,\n",
       " 'berguna': 2817,\n",
       " 'nih': 14875,\n",
       " 'suamiku': 20422,\n",
       " 'hihiihi': 10316,\n",
       " 'makin': 13216,\n",
       " 'yakin': 23387,\n",
       " 'karena': 11805,\n",
       " 'ada': 936,\n",
       " 'garansi': 9115,\n",
       " 'tahun': 20798,\n",
       " 'kamu': 11769,\n",
       " 'sudah': 20474,\n",
       " 'siapin': 19498,\n",
       " 'pasangan': 15862,\n",
       " 'belum': 2751,\n",
       " 'pasti': 15908,\n",
       " 'seneng': 19145,\n",
       " 'dikasi': 6401,\n",
       " 'penasaran': 16075,\n",
       " 'aja': 1189,\n",
       " 'cek': 3995,\n",
       " 'info': 10995,\n",
       " 'lebih': 12518,\n",
       " 'detail': 6217,\n",
       " 'di': 6288,\n",
       " 'official': 15218,\n",
       " 'store': 20314,\n",
       " 'shopee': 19445,\n",
       " 'ssst': 20194,\n",
       " 'sekarang': 19052,\n",
       " 'promo': 17150,\n",
       " 'menarik': 13701,\n",
       " 'seguimos': 19009,\n",
       " 'efecto': 7122,\n",
       " 'quien': 17522,\n",
       " 'está': 7828,\n",
       " 'pegado': 16026,\n",
       " 'etiqueta': 7860,\n",
       " 'tu': 21891,\n",
       " 'amiga': 1490,\n",
       " 'entusada': 7549,\n",
       " 'soltersmiren': 19900,\n",
       " 'hasta': 10072,\n",
       " 'final': 8515,\n",
       " 'guachos': 9717,\n",
       " 'viene': 22638,\n",
       " 'muy': 14484,\n",
       " 'grande': 9583,\n",
       " 'compañeros': 4766,\n",
       " 'acercan': 841,\n",
       " 'las': 12421,\n",
       " 'navidades': 14683,\n",
       " 'hay': 10102,\n",
       " 'mejor': 13621,\n",
       " 'lugar': 13034,\n",
       " 'encontrar': 7384,\n",
       " 'necesites': 14717,\n",
       " 'además': 966,\n",
       " 'tendrás': 21059,\n",
       " 'oportunidad': 15397,\n",
       " 'ser': 19212,\n",
       " 'elegido': 7196,\n",
       " 'gran': 9580,\n",
       " 'sinpa': 19638,\n",
       " 'llevarte': 12853,\n",
       " 'quieras': 17526,\n",
       " 'durante': 6960,\n",
       " '2min': 400,\n",
       " 'conmigo': 4946,\n",
       " 'al': 1241,\n",
       " 'lado': 12322,\n",
       " 'ladronzuelos': 12324,\n",
       " 'reunido': 18208,\n",
       " 'hacer': 9891,\n",
       " 'compritas': 4821,\n",
       " 'sabríais': 18577,\n",
       " 'adivinar': 991,\n",
       " 'quién': 17555,\n",
       " 'uno': 22210,\n",
       " 'puercos': 17311,\n",
       " 'equipo': 7594,\n",
       " 'adivine': 992,\n",
       " 'comentarios': 4654,\n",
       " 'ganará': 9088,\n",
       " 'sabroso': 18574,\n",
       " 'turrón': 21956,\n",
       " 'compuesto': 4831,\n",
       " 'crujientes': 5443,\n",
       " 'puñetazos': 17396,\n",
       " 'navideños': 14685,\n",
       " 'paris': 15793,\n",
       " 'tokyo': 21520,\n",
       " 'take': 20810,\n",
       " 'ballgame': 2433,\n",
       " 'intense': 11152,\n",
       " 'raw': 17685,\n",
       " 'drops': 6889,\n",
       " 'sumainyo': 20524,\n",
       " 'ang': 1569,\n",
       " 'vibes': 22584,\n",
       " 'madlang': 13140,\n",
       " 'fresh': 8891,\n",
       " 'clean': 4443,\n",
       " 'sleek': 19742,\n",
       " 'piece': 16374,\n",
       " 'hardware': 10036,\n",
       " 're': 17699,\n",
       " 'looking': 12939,\n",
       " 'laser': 12424,\n",
       " 'communications': 4721,\n",
       " 'relay': 17964,\n",
       " 'demonstration': 6004,\n",
       " 'lcrd': 12487,\n",
       " 'jan': 11421,\n",
       " '22': 316,\n",
       " 'mission': 14100,\n",
       " 'shipped': 19414,\n",
       " 'integration': 11142,\n",
       " 'into': 11205,\n",
       " 'space': 20058,\n",
       " 'test': 21197,\n",
       " 'program': 17116,\n",
       " 'our': 15516,\n",
       " 'optical': 15411,\n",
       " 'demonstrate': 6003,\n",
       " 'capabilities': 3812,\n",
       " 'missions': 14101,\n",
       " 'moon': 14244,\n",
       " 'mars': 13421,\n",
       " 'beyond': 2904,\n",
       " 'play': 16511,\n",
       " 'key': 11995,\n",
       " 'role': 18382,\n",
       " 'bringing': 3383,\n",
       " 'science': 18878,\n",
       " 'earth': 7052,\n",
       " 'well': 23036,\n",
       " 'enable': 7349,\n",
       " 'astronauts': 2031,\n",
       " 'phone': 16318,\n",
       " 'home': 10420,\n",
       " 'nasachris': 14645,\n",
       " 'gunn': 9775,\n",
       " 'episode': 7576,\n",
       " 'season': 18937,\n",
       " 'directed': 6470,\n",
       " 'session': 19255,\n",
       " 'afternoon': 1086,\n",
       " 'pitch': 16453,\n",
       " 'heavy': 10173,\n",
       " 'break': 3329,\n",
       " 'genteeee': 9263,\n",
       " 'ta': 20774,\n",
       " 'chegando': 4208,\n",
       " 'cheio': 4215,\n",
       " 'filtro': 8510,\n",
       " 'incrível': 10920,\n",
       " 'baixa': 2396,\n",
       " 'app': 1751,\n",
       " 'segue': 19004,\n",
       " 'sou': 20013,\n",
       " 'vem': 22468,\n",
       " 'sambar': 18700,\n",
       " 'comigo': 4692,\n",
       " 'view': 22646,\n",
       " 'missing': 14099,\n",
       " 'when': 23074,\n",
       " 'built': 3493,\n",
       " 'table': 20780,\n",
       " 'snacks': 19802,\n",
       " 'goods': 9501,\n",
       " 'nasceu': 14652,\n",
       " 'uma': 22087,\n",
       " 'família': 8219,\n",
       " 'chegada': 4206,\n",
       " 'pai': 15640,\n",
       " 'mãe': 14523,\n",
       " 'cuidar': 5500,\n",
       " 'amar': 1452,\n",
       " 'você': 22775,\n",
       " 'pouco': 16785,\n",
       " 'sono': 19950,\n",
       " 'muito': 14409,\n",
       " 'amor': 1510,\n",
       " 'tanto': 20883,\n",
       " 'fica': 8450,\n",
       " 'difícil': 6371,\n",
       " 'expressar': 8073,\n",
       " 'palavras': 15676,\n",
       " 'somem': 19922,\n",
       " 'diante': 6301,\n",
       " 'tanta': 20878,\n",
       " 'poesiaas': 16588,\n",
       " 'são': 20739,\n",
       " 'completamente': 4782,\n",
       " 'dispensáveis': 6577,\n",
       " 'perto': 16262,\n",
       " 'desse': 6193,\n",
       " 'meu': 13890,\n",
       " 'minha': 14040,\n",
       " ...}"
      ]
     },
     "execution_count": 14,
     "metadata": {},
     "output_type": "execute_result"
    }
   ],
   "source": [
    "vectorizer = CountVectorizer()\n",
    "vectorizer.fit(X_train) # creiamo il vocabolario solo con X_train (così X_test è come se non lo avessimo mai visto)\n",
    "vectorizer.vocabulary_"
   ]
  },
  {
   "cell_type": "code",
   "execution_count": 15,
   "metadata": {},
   "outputs": [],
   "source": [
    "X_train = vectorizer.transform(X_train)\n",
    "X_test = vectorizer.transform(X_test)"
   ]
  },
  {
   "cell_type": "code",
   "execution_count": 36,
   "metadata": {},
   "outputs": [
    {
     "data": {
      "text/plain": [
       "<17128x29809 sparse matrix of type '<class 'numpy.int64'>'\n",
       "\twith 381923 stored elements in Compressed Sparse Row format>"
      ]
     },
     "execution_count": 36,
     "metadata": {},
     "output_type": "execute_result"
    }
   ],
   "source": [
    "# Ogni cella della matrice indica il numero di volte in cui una determinata parola compare in un esempio\n",
    "X_train # matrice sparsa"
   ]
  },
  {
   "cell_type": "code",
   "execution_count": 37,
   "metadata": {},
   "outputs": [
    {
     "data": {
      "text/plain": [
       "(17128, 29809)"
      ]
     },
     "execution_count": 37,
     "metadata": {},
     "output_type": "execute_result"
    }
   ],
   "source": [
    "X_train.shape"
   ]
  },
  {
   "cell_type": "markdown",
   "metadata": {},
   "source": [
    "### Inflate\n",
    "\n",
    "(migliora la classificazione per gli esempi paid)"
   ]
  },
  {
   "cell_type": "code",
   "execution_count": 18,
   "metadata": {},
   "outputs": [],
   "source": [
    "from imblearn.over_sampling import SMOTE"
   ]
  },
  {
   "cell_type": "code",
   "execution_count": 19,
   "metadata": {},
   "outputs": [
    {
     "data": {
      "text/plain": [
       "((17128, 29809), (17128,))"
      ]
     },
     "execution_count": 19,
     "metadata": {},
     "output_type": "execute_result"
    }
   ],
   "source": [
    "sm = SMOTE(random_state=2)\n",
    "X_train, y_train = sm.fit_sample(X_train, y_train.ravel())\n",
    "X_train.shape, y_train.shape"
   ]
  },
  {
   "cell_type": "markdown",
   "metadata": {},
   "source": [
    "### Baseline model Logistic Regression"
   ]
  },
  {
   "cell_type": "code",
   "execution_count": 20,
   "metadata": {},
   "outputs": [],
   "source": [
    "from sklearn.linear_model import LogisticRegression"
   ]
  },
  {
   "cell_type": "code",
   "execution_count": 21,
   "metadata": {},
   "outputs": [
    {
     "name": "stdout",
     "output_type": "stream",
     "text": [
      "Accuracy: 0.7191803829358414\n"
     ]
    },
    {
     "name": "stderr",
     "output_type": "stream",
     "text": [
      "/opt/anaconda3/envs/ai/lib/python3.6/site-packages/sklearn/linear_model/_logistic.py:940: ConvergenceWarning: lbfgs failed to converge (status=1):\n",
      "STOP: TOTAL NO. of ITERATIONS REACHED LIMIT.\n",
      "\n",
      "Increase the number of iterations (max_iter) or scale the data as shown in:\n",
      "    https://scikit-learn.org/stable/modules/preprocessing.html\n",
      "Please also refer to the documentation for alternative solver options:\n",
      "    https://scikit-learn.org/stable/modules/linear_model.html#logistic-regression\n",
      "  extra_warning_msg=_LOGISTIC_SOLVER_CONVERGENCE_MSG)\n"
     ]
    }
   ],
   "source": [
    "classifier = LogisticRegression()\n",
    "classifier.fit(X_train, y_train)\n",
    "y_pred = classifier.predict(X_test)\n",
    "\n",
    "accuracy = classifier.score(X_test, y_test)\n",
    "print(\"Accuracy:\", accuracy)"
   ]
  },
  {
   "cell_type": "code",
   "execution_count": 22,
   "metadata": {},
   "outputs": [
    {
     "data": {
      "text/plain": [
       "(<Figure size 360x360 with 1 Axes>,\n",
       " <matplotlib.axes._subplots.AxesSubplot at 0x1a2e6d5438>)"
      ]
     },
     "execution_count": 22,
     "metadata": {},
     "output_type": "execute_result"
    },
    {
     "data": {
      "image/png": "[encoded data removed]",
      "text/plain": [
       "<Figure size 360x360 with 1 Axes>"
      ]
     },
     "metadata": {
      "needs_background": "light"
     },
     "output_type": "display_data"
    }
   ],
   "source": [
    "class_names = ['paid', 'standard']\n",
    "font = {'size': 12}\n",
    "matplotlib.rc('font', **font)\n",
    "mat = confusion_matrix(y_test, y_pred)\n",
    "plot_confusion_matrix(conf_mat=mat, figsize=(5,5), class_names = class_names, show_normed=True)"
   ]
  },
  {
   "cell_type": "code",
   "execution_count": 23,
   "metadata": {
    "scrolled": true
   },
   "outputs": [
    {
     "name": "stdout",
     "output_type": "stream",
     "text": [
      "              precision    recall  f1-score   support\n",
      "\n",
      "           0       0.06      0.42      0.11       121\n",
      "           1       0.97      0.73      0.83      2856\n",
      "\n",
      "    accuracy                           0.72      2977\n",
      "   macro avg       0.52      0.58      0.47      2977\n",
      "weighted avg       0.93      0.72      0.80      2977\n",
      "\n"
     ]
    }
   ],
   "source": [
    "print(classification_report(y_test, y_pred))"
   ]
  },
  {
   "cell_type": "markdown",
   "metadata": {},
   "source": [
    "### Multinomial"
   ]
  },
  {
   "cell_type": "code",
   "execution_count": 24,
   "metadata": {},
   "outputs": [],
   "source": [
    "from sklearn.naive_bayes import MultinomialNB"
   ]
  },
  {
   "cell_type": "code",
   "execution_count": 25,
   "metadata": {},
   "outputs": [],
   "source": [
    "clf = MultinomialNB().fit(X_train ,y_train)"
   ]
  },
  {
   "cell_type": "code",
   "execution_count": 26,
   "metadata": {},
   "outputs": [
    {
     "name": "stdout",
     "output_type": "stream",
     "text": [
      "Accuracy: 0.8165938864628821\n"
     ]
    }
   ],
   "source": [
    "y_pred = clf.predict(X_test)\n",
    "\n",
    "accuracy = clf.score(X_test, y_test)\n",
    "print(\"Accuracy:\", accuracy)"
   ]
  },
  {
   "cell_type": "code",
   "execution_count": 27,
   "metadata": {},
   "outputs": [
    {
     "data": {
      "text/plain": [
       "(<Figure size 360x360 with 1 Axes>,\n",
       " <matplotlib.axes._subplots.AxesSubplot at 0x1a2e536a58>)"
      ]
     },
     "execution_count": 27,
     "metadata": {},
     "output_type": "execute_result"
    },
    {
     "data": {
      "image/png": "[encoded data removed]",
      "text/plain": [
       "<Figure size 360x360 with 1 Axes>"
      ]
     },
     "metadata": {
      "needs_background": "light"
     },
     "output_type": "display_data"
    }
   ],
   "source": [
    "class_names = ['paid', 'standard']\n",
    "font = {'size': 12}\n",
    "matplotlib.rc('font', **font)\n",
    "mat = confusion_matrix(y_test, y_pred)\n",
    "plot_confusion_matrix(conf_mat=mat, figsize=(5,5), class_names = class_names, show_normed=True)"
   ]
  },
  {
   "cell_type": "code",
   "execution_count": 28,
   "metadata": {},
   "outputs": [
    {
     "name": "stdout",
     "output_type": "stream",
     "text": [
      "              precision    recall  f1-score   support\n",
      "\n",
      "           0       0.08      0.34      0.13       121\n",
      "           1       0.97      0.84      0.90      2856\n",
      "\n",
      "    accuracy                           0.82      2977\n",
      "   macro avg       0.52      0.59      0.51      2977\n",
      "weighted avg       0.93      0.82      0.87      2977\n",
      "\n"
     ]
    }
   ],
   "source": [
    "print(classification_report(y_test, y_pred))"
   ]
  },
  {
   "cell_type": "markdown",
   "metadata": {},
   "source": [
    "### Deep learning model"
   ]
  },
  {
   "cell_type": "code",
   "execution_count": 29,
   "metadata": {},
   "outputs": [
    {
     "name": "stdout",
     "output_type": "stream",
     "text": [
      "2.1.0\n"
     ]
    }
   ],
   "source": [
    "import tensorflow as tf\n",
    "from tensorflow import keras\n",
    "from tensorflow.keras import Sequential\n",
    "from tensorflow.keras.layers import Flatten, Dense, Input\n",
    "from tensorflow.keras.wrappers.scikit_learn import KerasClassifier\n",
    "from sklearn.metrics import accuracy_score\n",
    "print(tf.__version__)"
   ]
  },
  {
   "cell_type": "code",
   "execution_count": 30,
   "metadata": {},
   "outputs": [],
   "source": [
    "def create_model():\n",
    "    model = Sequential()\n",
    "    #model.add(Input(shape=(X_train.shape[1],), sparse=True))\n",
    "    model.add(Dense(128, activation=\"relu\", input_dim = X_train.shape[1]))\n",
    "    #model.add(Dense(128, activation=\"relu\"))\n",
    "    model.add(Dense(1, activation='sigmoid'))\n",
    "    \n",
    "    model.compile(optimizer = \"adam\", loss = 'binary_crossentropy', metrics=['accuracy'])\n",
    "    \n",
    "    return model"
   ]
  },
  {
   "cell_type": "code",
   "execution_count": 31,
   "metadata": {},
   "outputs": [
    {
     "data": {
      "text/plain": [
       "(17128, 29809)"
      ]
     },
     "execution_count": 31,
     "metadata": {},
     "output_type": "execute_result"
    }
   ],
   "source": [
    "X_train.shape"
   ]
  },
  {
   "cell_type": "code",
   "execution_count": 32,
   "metadata": {},
   "outputs": [
    {
     "name": "stdout",
     "output_type": "stream",
     "text": [
      "Train on 17128 samples, validate on 2977 samples\n",
      "Epoch 1/10\n",
      "17128/17128 [==============================] - 27s 2ms/sample - loss: 0.3616 - accuracy: 0.8569 - val_loss: 0.4287 - val_accuracy: 0.7901\n",
      "Epoch 2/10\n",
      "17128/17128 [==============================] - 27s 2ms/sample - loss: 0.1882 - accuracy: 0.9300 - val_loss: 0.5089 - val_accuracy: 0.7901\n",
      "Epoch 3/10\n",
      "17128/17128 [==============================] - 25s 1ms/sample - loss: 0.1434 - accuracy: 0.9516 - val_loss: 0.6680 - val_accuracy: 0.7874\n",
      "Epoch 4/10\n",
      "17128/17128 [==============================] - 26s 1ms/sample - loss: 0.1294 - accuracy: 0.9543 - val_loss: 0.6904 - val_accuracy: 0.7911\n",
      "Epoch 5/10\n",
      "17128/17128 [==============================] - 25s 1ms/sample - loss: 0.1260 - accuracy: 0.9556 - val_loss: 0.7847 - val_accuracy: 0.7870\n",
      "Epoch 6/10\n",
      "17128/17128 [==============================] - 25s 1ms/sample - loss: 0.1238 - accuracy: 0.9561 - val_loss: 0.8414 - val_accuracy: 0.7867\n",
      "Epoch 7/10\n",
      "17128/17128 [==============================] - 24s 1ms/sample - loss: 0.1225 - accuracy: 0.9567 - val_loss: 0.8951 - val_accuracy: 0.7840\n",
      "Epoch 8/10\n",
      "17128/17128 [==============================] - 25s 1ms/sample - loss: 0.1242 - accuracy: 0.9561 - val_loss: 0.9690 - val_accuracy: 0.7773\n",
      "Epoch 9/10\n",
      "17128/17128 [==============================] - 25s 1ms/sample - loss: 0.1212 - accuracy: 0.9569 - val_loss: 0.9401 - val_accuracy: 0.7884\n",
      "Epoch 10/10\n",
      "17128/17128 [==============================] - 25s 1ms/sample - loss: 0.1207 - accuracy: 0.9570 - val_loss: 1.0965 - val_accuracy: 0.7746\n"
     ]
    }
   ],
   "source": [
    "model = create_model()\n",
    "history = model.fit(\n",
    "    X_train.toarray(),\n",
    "    y_train,\n",
    "    batch_size = 10,\n",
    "    epochs = 10,\n",
    "    verbose = 1,\n",
    "    validation_data=(X_test.toarray(), y_test)\n",
    ")"
   ]
  },
  {
   "cell_type": "code",
   "execution_count": 33,
   "metadata": {},
   "outputs": [
    {
     "data": {
      "text/plain": [
       "0.7746053073563991"
      ]
     },
     "execution_count": 33,
     "metadata": {},
     "output_type": "execute_result"
    }
   ],
   "source": [
    "y_pred = model.predict_classes(X_test.toarray())\n",
    "accuracy_score(y_test, y_pred)"
   ]
  },
  {
   "cell_type": "code",
   "execution_count": 34,
   "metadata": {},
   "outputs": [
    {
     "data": {
      "text/plain": [
       "(<Figure size 360x360 with 1 Axes>,\n",
       " <matplotlib.axes._subplots.AxesSubplot at 0x120b60b00>)"
      ]
     },
     "execution_count": 34,
     "metadata": {},
     "output_type": "execute_result"
    },
    {
     "data": {
      "image/png": "[encoded data removed]",
      "text/plain": [
       "<Figure size 360x360 with 1 Axes>"
      ]
     },
     "metadata": {
      "needs_background": "light"
     },
     "output_type": "display_data"
    }
   ],
   "source": [
    "class_names = ['paid', 'standard']\n",
    "font = {'size': 12}\n",
    "matplotlib.rc('font', **font)\n",
    "mat = confusion_matrix(y_test, y_pred)\n",
    "plot_confusion_matrix(conf_mat=mat, figsize=(5,5), class_names = class_names, show_normed=True)"
   ]
  },
  {
   "cell_type": "code",
   "execution_count": 35,
   "metadata": {},
   "outputs": [
    {
     "name": "stdout",
     "output_type": "stream",
     "text": [
      "              precision    recall  f1-score   support\n",
      "\n",
      "           0       0.07      0.36      0.11       121\n",
      "           1       0.97      0.79      0.87      2856\n",
      "\n",
      "    accuracy                           0.77      2977\n",
      "   macro avg       0.52      0.57      0.49      2977\n",
      "weighted avg       0.93      0.77      0.84      2977\n",
      "\n"
     ]
    }
   ],
   "source": [
    "print(classification_report(y_test, y_pred))"
   ]
  },
  {
   "cell_type": "code",
   "execution_count": null,
   "metadata": {},
   "outputs": [],
   "source": []
  }
 ],
 "metadata": {
  "kernelspec": {
   "display_name": "Python 3",
   "language": "python",
   "name": "python3"
  },
  "language_info": {
   "codemirror_mode": {
    "name": "ipython",
    "version": 3
   },
   "file_extension": ".py",
   "mimetype": "text/x-python",
   "name": "python",
   "nbconvert_exporter": "python",
   "pygments_lexer": "ipython3",
   "version": "3.6.10"
  }
 },
 "nbformat": 4,
 "nbformat_minor": 2
}
