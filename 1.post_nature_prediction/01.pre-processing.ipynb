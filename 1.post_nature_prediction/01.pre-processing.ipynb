{
 "cells": [
  {
   "cell_type": "markdown",
   "metadata": {},
   "source": [
    "# Pre-processing 01"
   ]
  },
  {
   "cell_type": "code",
   "execution_count": 10,
   "metadata": {},
   "outputs": [],
   "source": [
    "import numpy as np\n",
    "import pandas as pd"
   ]
  },
  {
   "cell_type": "code",
   "execution_count": 16,
   "metadata": {},
   "outputs": [
    {
     "name": "stdout",
     "output_type": "stream",
     "text": [
      "Numero di esempi:  11905\n"
     ]
    }
   ],
   "source": [
    "dataset = pd.read_csv('../dataset/influencer_dataset.csv')\n",
    "print(\"Numero di esempi: \", len(dataset))"
   ]
  },
  {
   "cell_type": "code",
   "execution_count": 17,
   "metadata": {},
   "outputs": [
    {
     "data": {
      "text/plain": [
       "standard    11731\n",
       "paid          174\n",
       "Name: target, dtype: int64"
      ]
     },
     "execution_count": 17,
     "metadata": {},
     "output_type": "execute_result"
    }
   ],
   "source": [
    "dataset['target'].value_counts()"
   ]
  },
  {
   "cell_type": "markdown",
   "metadata": {},
   "source": [
    "#### Aggiungo come post sponsorizzati quelli che contengono come hashtag `adv`, `ad` etc."
   ]
  },
  {
   "cell_type": "code",
   "execution_count": 18,
   "metadata": {},
   "outputs": [],
   "source": [
    "mask = dataset['hashtag'].str.lower().str.contains(\"'#adv'|'#ad'|'#sponsored'|'#supplied'\")\n",
    "column_name = 'target'\n",
    "dataset.loc[mask, column_name] = 'paid'\n",
    "# dataset.loc[mask_adv | mask_sponsored | mask_supplied, column_name] = 'paid'"
   ]
  },
  {
   "cell_type": "code",
   "execution_count": 19,
   "metadata": {},
   "outputs": [
    {
     "data": {
      "text/plain": [
       "(\"['#ADLab', '#ADFoundation', '#HereIGrow', '#JustAKidfromChicago']\",\n",
       " 'standard')"
      ]
     },
     "execution_count": 19,
     "metadata": {},
     "output_type": "execute_result"
    }
   ],
   "source": [
    "dataset.loc[2494,:][4], dataset.loc[2494,:][11]"
   ]
  },
  {
   "cell_type": "code",
   "execution_count": 20,
   "metadata": {},
   "outputs": [
    {
     "data": {
      "text/plain": [
       "(\"['#adidasxIVYPARK']\", 'standard')"
      ]
     },
     "execution_count": 20,
     "metadata": {},
     "output_type": "execute_result"
    }
   ],
   "source": [
    "dataset.loc[7965,:][4], dataset.loc[7965,:][11]"
   ]
  },
  {
   "cell_type": "code",
   "execution_count": 21,
   "metadata": {
    "scrolled": true
   },
   "outputs": [
    {
     "data": {
      "text/plain": [
       "(\"['#chiarawearscalzedonia', '#calzedonia', '#adv']\", 'paid')"
      ]
     },
     "execution_count": 21,
     "metadata": {},
     "output_type": "execute_result"
    }
   ],
   "source": [
    "dataset.loc[2851,:][4], dataset.loc[2851,:][11]"
   ]
  },
  {
   "cell_type": "code",
   "execution_count": 22,
   "metadata": {},
   "outputs": [
    {
     "data": {
      "text/plain": [
       "(\"['#clearstartpartner', '#AD']\", 'paid')"
      ]
     },
     "execution_count": 22,
     "metadata": {},
     "output_type": "execute_result"
    }
   ],
   "source": [
    "dataset.loc[3640,:][4], dataset.loc[3640,:][11]"
   ]
  },
  {
   "cell_type": "code",
   "execution_count": 23,
   "metadata": {},
   "outputs": [
    {
     "data": {
      "text/plain": [
       "(\"['#SmellLikeYourOwnManMan', '#AvailableAtWalmart', '#sponsored']\", 'paid')"
      ]
     },
     "execution_count": 23,
     "metadata": {},
     "output_type": "execute_result"
    }
   ],
   "source": [
    "dataset.loc[3119,:][4], dataset.loc[3119,:][11]"
   ]
  },
  {
   "cell_type": "code",
   "execution_count": 24,
   "metadata": {},
   "outputs": [
    {
     "data": {
      "text/plain": [
       "(\"['#supplied']\", 'paid')"
      ]
     },
     "execution_count": 24,
     "metadata": {},
     "output_type": "execute_result"
    }
   ],
   "source": [
    "dataset.loc[2855,:][4], dataset.loc[2855,:][11]"
   ]
  },
  {
   "cell_type": "code",
   "execution_count": 25,
   "metadata": {
    "scrolled": true
   },
   "outputs": [
    {
     "data": {
      "text/plain": [
       "(\"['#VerizonInnovativeLearning.', '#STEM', '#ad']\", 'paid')"
      ]
     },
     "execution_count": 25,
     "metadata": {},
     "output_type": "execute_result"
    }
   ],
   "source": [
    "dataset.loc[2866,:][4], dataset.loc[2866,:][11]"
   ]
  },
  {
   "cell_type": "code",
   "execution_count": 26,
   "metadata": {},
   "outputs": [
    {
     "data": {
      "text/plain": [
       "standard    11645\n",
       "paid          260\n",
       "Name: target, dtype: int64"
      ]
     },
     "execution_count": 26,
     "metadata": {},
     "output_type": "execute_result"
    }
   ],
   "source": [
    "dataset['target'].value_counts()"
   ]
  },
  {
   "cell_type": "markdown",
   "metadata": {},
   "source": [
    "#### Sostituisco gli array `hashtag` e `tag` con la lunghezza dei diversi array"
   ]
  },
  {
   "cell_type": "code",
   "execution_count": 27,
   "metadata": {
    "scrolled": true
   },
   "outputs": [
    {
     "data": {
      "text/html": [
       "<div>\n",
       "<style scoped>\n",
       "    .dataframe tbody tr th:only-of-type {\n",
       "        vertical-align: middle;\n",
       "    }\n",
       "\n",
       "    .dataframe tbody tr th {\n",
       "        vertical-align: top;\n",
       "    }\n",
       "\n",
       "    .dataframe thead th {\n",
       "        text-align: right;\n",
       "    }\n",
       "</style>\n",
       "<table border=\"1\" class=\"dataframe\">\n",
       "  <thead>\n",
       "    <tr style=\"text-align: right;\">\n",
       "      <th></th>\n",
       "      <th>index</th>\n",
       "      <th>username</th>\n",
       "      <th>photo_id</th>\n",
       "      <th>followed_by</th>\n",
       "      <th>hashtag</th>\n",
       "      <th>tag</th>\n",
       "      <th>caption</th>\n",
       "      <th>is_video</th>\n",
       "      <th>timestamp</th>\n",
       "      <th>n_comment</th>\n",
       "      <th>n_likes</th>\n",
       "      <th>target</th>\n",
       "    </tr>\n",
       "  </thead>\n",
       "  <tbody>\n",
       "    <tr>\n",
       "      <th>0</th>\n",
       "      <td>0</td>\n",
       "      <td>viniciusjunior</td>\n",
       "      <td>viniciusjunior0</td>\n",
       "      <td>9012479</td>\n",
       "      <td>0</td>\n",
       "      <td>0</td>\n",
       "      <td>Obrigado pelo carinho de sempre a todos que ac...</td>\n",
       "      <td>False</td>\n",
       "      <td>1582322398</td>\n",
       "      <td>1043</td>\n",
       "      <td>386524</td>\n",
       "      <td>standard</td>\n",
       "    </tr>\n",
       "    <tr>\n",
       "      <th>1</th>\n",
       "      <td>1</td>\n",
       "      <td>viniciusjunior</td>\n",
       "      <td>viniciusjunior1</td>\n",
       "      <td>9012479</td>\n",
       "      <td>0</td>\n",
       "      <td>0</td>\n",
       "      <td>“Algumas pessoas querem que algo aconteça outr...</td>\n",
       "      <td>False</td>\n",
       "      <td>1582141911</td>\n",
       "      <td>1564</td>\n",
       "      <td>522107</td>\n",
       "      <td>standard</td>\n",
       "    </tr>\n",
       "    <tr>\n",
       "      <th>2</th>\n",
       "      <td>2</td>\n",
       "      <td>viniciusjunior</td>\n",
       "      <td>NaN</td>\n",
       "      <td>9012479</td>\n",
       "      <td>2</td>\n",
       "      <td>4</td>\n",
       "      <td>Mi amigo y yo llevamos el equipo a las calles ...</td>\n",
       "      <td>True</td>\n",
       "      <td>1581615465</td>\n",
       "      <td>395</td>\n",
       "      <td>179341</td>\n",
       "      <td>standard</td>\n",
       "    </tr>\n",
       "    <tr>\n",
       "      <th>3</th>\n",
       "      <td>3</td>\n",
       "      <td>viniciusjunior</td>\n",
       "      <td>NaN</td>\n",
       "      <td>9012479</td>\n",
       "      <td>0</td>\n",
       "      <td>0</td>\n",
       "      <td>💪🏾</td>\n",
       "      <td>True</td>\n",
       "      <td>1581532095</td>\n",
       "      <td>2303</td>\n",
       "      <td>380096</td>\n",
       "      <td>standard</td>\n",
       "    </tr>\n",
       "    <tr>\n",
       "      <th>4</th>\n",
       "      <td>4</td>\n",
       "      <td>viniciusjunior</td>\n",
       "      <td>viniciusjunior4</td>\n",
       "      <td>9012479</td>\n",
       "      <td>0</td>\n",
       "      <td>1</td>\n",
       "      <td>Day off 🏄🏼‍♂️ tava pro surf das ondas gigantes...</td>\n",
       "      <td>False</td>\n",
       "      <td>1581440777</td>\n",
       "      <td>895</td>\n",
       "      <td>387117</td>\n",
       "      <td>standard</td>\n",
       "    </tr>\n",
       "  </tbody>\n",
       "</table>\n",
       "</div>"
      ],
      "text/plain": [
       "   index        username         photo_id  followed_by  hashtag  tag  \\\n",
       "0      0  viniciusjunior  viniciusjunior0      9012479        0    0   \n",
       "1      1  viniciusjunior  viniciusjunior1      9012479        0    0   \n",
       "2      2  viniciusjunior              NaN      9012479        2    4   \n",
       "3      3  viniciusjunior              NaN      9012479        0    0   \n",
       "4      4  viniciusjunior  viniciusjunior4      9012479        0    1   \n",
       "\n",
       "                                             caption  is_video   timestamp  \\\n",
       "0  Obrigado pelo carinho de sempre a todos que ac...     False  1582322398   \n",
       "1  “Algumas pessoas querem que algo aconteça outr...     False  1582141911   \n",
       "2  Mi amigo y yo llevamos el equipo a las calles ...      True  1581615465   \n",
       "3                                                 💪🏾      True  1581532095   \n",
       "4  Day off 🏄🏼‍♂️ tava pro surf das ondas gigantes...     False  1581440777   \n",
       "\n",
       "   n_comment  n_likes    target  \n",
       "0       1043   386524  standard  \n",
       "1       1564   522107  standard  \n",
       "2        395   179341  standard  \n",
       "3       2303   380096  standard  \n",
       "4        895   387117  standard  "
      ]
     },
     "execution_count": 27,
     "metadata": {},
     "output_type": "execute_result"
    }
   ],
   "source": [
    "from ast import literal_eval\n",
    "dataset['hashtag'] = dataset['hashtag'].apply(lambda x: len(literal_eval(str(x))))\n",
    "dataset['tag'] = dataset['tag'].apply(lambda x: len(literal_eval(str(x))))\n",
    "dataset.head()"
   ]
  },
  {
   "cell_type": "markdown",
   "metadata": {},
   "source": [
    "#### Sostituisco l'array  `caption` con la relativa lunghezza"
   ]
  },
  {
   "cell_type": "code",
   "execution_count": 28,
   "metadata": {},
   "outputs": [
    {
     "data": {
      "text/plain": [
       "'Obrigado pelo carinho de sempre a todos que acompanham minha evolução Desde quando vocês me seguem 😉✅ ¡Gracias por el cariño de siempre a todos los que siguen mi evolución Desde cuando me sigues 😉✅ Thanks for the affection of all who see my evolution How long have you followed me 😉✅'"
      ]
     },
     "execution_count": 28,
     "metadata": {},
     "output_type": "execute_result"
    }
   ],
   "source": [
    "dataset.loc[0,:]['caption']"
   ]
  },
  {
   "cell_type": "code",
   "execution_count": 29,
   "metadata": {},
   "outputs": [
    {
     "data": {
      "text/html": [
       "<div>\n",
       "<style scoped>\n",
       "    .dataframe tbody tr th:only-of-type {\n",
       "        vertical-align: middle;\n",
       "    }\n",
       "\n",
       "    .dataframe tbody tr th {\n",
       "        vertical-align: top;\n",
       "    }\n",
       "\n",
       "    .dataframe thead th {\n",
       "        text-align: right;\n",
       "    }\n",
       "</style>\n",
       "<table border=\"1\" class=\"dataframe\">\n",
       "  <thead>\n",
       "    <tr style=\"text-align: right;\">\n",
       "      <th></th>\n",
       "      <th>index</th>\n",
       "      <th>username</th>\n",
       "      <th>photo_id</th>\n",
       "      <th>followed_by</th>\n",
       "      <th>hashtag</th>\n",
       "      <th>tag</th>\n",
       "      <th>caption</th>\n",
       "      <th>is_video</th>\n",
       "      <th>timestamp</th>\n",
       "      <th>n_comment</th>\n",
       "      <th>n_likes</th>\n",
       "      <th>target</th>\n",
       "    </tr>\n",
       "  </thead>\n",
       "  <tbody>\n",
       "    <tr>\n",
       "      <th>0</th>\n",
       "      <td>0</td>\n",
       "      <td>viniciusjunior</td>\n",
       "      <td>viniciusjunior0</td>\n",
       "      <td>9012479</td>\n",
       "      <td>0</td>\n",
       "      <td>0</td>\n",
       "      <td>52</td>\n",
       "      <td>False</td>\n",
       "      <td>1582322398</td>\n",
       "      <td>1043</td>\n",
       "      <td>386524</td>\n",
       "      <td>standard</td>\n",
       "    </tr>\n",
       "    <tr>\n",
       "      <th>1</th>\n",
       "      <td>1</td>\n",
       "      <td>viniciusjunior</td>\n",
       "      <td>viniciusjunior1</td>\n",
       "      <td>9012479</td>\n",
       "      <td>0</td>\n",
       "      <td>0</td>\n",
       "      <td>44</td>\n",
       "      <td>False</td>\n",
       "      <td>1582141911</td>\n",
       "      <td>1564</td>\n",
       "      <td>522107</td>\n",
       "      <td>standard</td>\n",
       "    </tr>\n",
       "    <tr>\n",
       "      <th>2</th>\n",
       "      <td>2</td>\n",
       "      <td>viniciusjunior</td>\n",
       "      <td>NaN</td>\n",
       "      <td>9012479</td>\n",
       "      <td>2</td>\n",
       "      <td>4</td>\n",
       "      <td>16</td>\n",
       "      <td>True</td>\n",
       "      <td>1581615465</td>\n",
       "      <td>395</td>\n",
       "      <td>179341</td>\n",
       "      <td>standard</td>\n",
       "    </tr>\n",
       "    <tr>\n",
       "      <th>3</th>\n",
       "      <td>3</td>\n",
       "      <td>viniciusjunior</td>\n",
       "      <td>NaN</td>\n",
       "      <td>9012479</td>\n",
       "      <td>0</td>\n",
       "      <td>0</td>\n",
       "      <td>1</td>\n",
       "      <td>True</td>\n",
       "      <td>1581532095</td>\n",
       "      <td>2303</td>\n",
       "      <td>380096</td>\n",
       "      <td>standard</td>\n",
       "    </tr>\n",
       "    <tr>\n",
       "      <th>4</th>\n",
       "      <td>4</td>\n",
       "      <td>viniciusjunior</td>\n",
       "      <td>viniciusjunior4</td>\n",
       "      <td>9012479</td>\n",
       "      <td>0</td>\n",
       "      <td>1</td>\n",
       "      <td>26</td>\n",
       "      <td>False</td>\n",
       "      <td>1581440777</td>\n",
       "      <td>895</td>\n",
       "      <td>387117</td>\n",
       "      <td>standard</td>\n",
       "    </tr>\n",
       "  </tbody>\n",
       "</table>\n",
       "</div>"
      ],
      "text/plain": [
       "   index        username         photo_id  followed_by  hashtag  tag  caption  \\\n",
       "0      0  viniciusjunior  viniciusjunior0      9012479        0    0       52   \n",
       "1      1  viniciusjunior  viniciusjunior1      9012479        0    0       44   \n",
       "2      2  viniciusjunior              NaN      9012479        2    4       16   \n",
       "3      3  viniciusjunior              NaN      9012479        0    0        1   \n",
       "4      4  viniciusjunior  viniciusjunior4      9012479        0    1       26   \n",
       "\n",
       "   is_video   timestamp  n_comment  n_likes    target  \n",
       "0     False  1582322398       1043   386524  standard  \n",
       "1     False  1582141911       1564   522107  standard  \n",
       "2      True  1581615465        395   179341  standard  \n",
       "3      True  1581532095       2303   380096  standard  \n",
       "4     False  1581440777        895   387117  standard  "
      ]
     },
     "execution_count": 29,
     "metadata": {},
     "output_type": "execute_result"
    }
   ],
   "source": [
    "dataset['caption'] = dataset['caption'].apply(lambda x: len(str(x).split(' ')))\n",
    "dataset.head()"
   ]
  },
  {
   "cell_type": "markdown",
   "metadata": {},
   "source": [
    "#### Transformo le feature booleane `is_video` e `target` in valori numerici"
   ]
  },
  {
   "cell_type": "code",
   "execution_count": 30,
   "metadata": {},
   "outputs": [],
   "source": [
    "from sklearn.preprocessing import LabelEncoder"
   ]
  },
  {
   "cell_type": "code",
   "execution_count": 31,
   "metadata": {},
   "outputs": [
    {
     "data": {
      "text/html": [
       "<div>\n",
       "<style scoped>\n",
       "    .dataframe tbody tr th:only-of-type {\n",
       "        vertical-align: middle;\n",
       "    }\n",
       "\n",
       "    .dataframe tbody tr th {\n",
       "        vertical-align: top;\n",
       "    }\n",
       "\n",
       "    .dataframe thead th {\n",
       "        text-align: right;\n",
       "    }\n",
       "</style>\n",
       "<table border=\"1\" class=\"dataframe\">\n",
       "  <thead>\n",
       "    <tr style=\"text-align: right;\">\n",
       "      <th></th>\n",
       "      <th>index</th>\n",
       "      <th>username</th>\n",
       "      <th>photo_id</th>\n",
       "      <th>followed_by</th>\n",
       "      <th>hashtag</th>\n",
       "      <th>tag</th>\n",
       "      <th>caption</th>\n",
       "      <th>is_video</th>\n",
       "      <th>timestamp</th>\n",
       "      <th>n_comment</th>\n",
       "      <th>n_likes</th>\n",
       "      <th>target</th>\n",
       "    </tr>\n",
       "  </thead>\n",
       "  <tbody>\n",
       "    <tr>\n",
       "      <th>0</th>\n",
       "      <td>0</td>\n",
       "      <td>viniciusjunior</td>\n",
       "      <td>viniciusjunior0</td>\n",
       "      <td>9012479</td>\n",
       "      <td>0</td>\n",
       "      <td>0</td>\n",
       "      <td>52</td>\n",
       "      <td>0</td>\n",
       "      <td>1582322398</td>\n",
       "      <td>1043</td>\n",
       "      <td>386524</td>\n",
       "      <td>standard</td>\n",
       "    </tr>\n",
       "    <tr>\n",
       "      <th>1</th>\n",
       "      <td>1</td>\n",
       "      <td>viniciusjunior</td>\n",
       "      <td>viniciusjunior1</td>\n",
       "      <td>9012479</td>\n",
       "      <td>0</td>\n",
       "      <td>0</td>\n",
       "      <td>44</td>\n",
       "      <td>0</td>\n",
       "      <td>1582141911</td>\n",
       "      <td>1564</td>\n",
       "      <td>522107</td>\n",
       "      <td>standard</td>\n",
       "    </tr>\n",
       "    <tr>\n",
       "      <th>2</th>\n",
       "      <td>2</td>\n",
       "      <td>viniciusjunior</td>\n",
       "      <td>NaN</td>\n",
       "      <td>9012479</td>\n",
       "      <td>2</td>\n",
       "      <td>4</td>\n",
       "      <td>16</td>\n",
       "      <td>1</td>\n",
       "      <td>1581615465</td>\n",
       "      <td>395</td>\n",
       "      <td>179341</td>\n",
       "      <td>standard</td>\n",
       "    </tr>\n",
       "    <tr>\n",
       "      <th>3</th>\n",
       "      <td>3</td>\n",
       "      <td>viniciusjunior</td>\n",
       "      <td>NaN</td>\n",
       "      <td>9012479</td>\n",
       "      <td>0</td>\n",
       "      <td>0</td>\n",
       "      <td>1</td>\n",
       "      <td>1</td>\n",
       "      <td>1581532095</td>\n",
       "      <td>2303</td>\n",
       "      <td>380096</td>\n",
       "      <td>standard</td>\n",
       "    </tr>\n",
       "    <tr>\n",
       "      <th>4</th>\n",
       "      <td>4</td>\n",
       "      <td>viniciusjunior</td>\n",
       "      <td>viniciusjunior4</td>\n",
       "      <td>9012479</td>\n",
       "      <td>0</td>\n",
       "      <td>1</td>\n",
       "      <td>26</td>\n",
       "      <td>0</td>\n",
       "      <td>1581440777</td>\n",
       "      <td>895</td>\n",
       "      <td>387117</td>\n",
       "      <td>standard</td>\n",
       "    </tr>\n",
       "  </tbody>\n",
       "</table>\n",
       "</div>"
      ],
      "text/plain": [
       "   index        username         photo_id  followed_by  hashtag  tag  caption  \\\n",
       "0      0  viniciusjunior  viniciusjunior0      9012479        0    0       52   \n",
       "1      1  viniciusjunior  viniciusjunior1      9012479        0    0       44   \n",
       "2      2  viniciusjunior              NaN      9012479        2    4       16   \n",
       "3      3  viniciusjunior              NaN      9012479        0    0        1   \n",
       "4      4  viniciusjunior  viniciusjunior4      9012479        0    1       26   \n",
       "\n",
       "   is_video   timestamp  n_comment  n_likes    target  \n",
       "0         0  1582322398       1043   386524  standard  \n",
       "1         0  1582141911       1564   522107  standard  \n",
       "2         1  1581615465        395   179341  standard  \n",
       "3         1  1581532095       2303   380096  standard  \n",
       "4         0  1581440777        895   387117  standard  "
      ]
     },
     "execution_count": 31,
     "metadata": {},
     "output_type": "execute_result"
    }
   ],
   "source": [
    "label1 = LabelEncoder()\n",
    "dataset['is_video'] = label1.fit_transform(dataset['is_video'])\n",
    "dataset.head()"
   ]
  },
  {
   "cell_type": "code",
   "execution_count": 32,
   "metadata": {},
   "outputs": [
    {
     "data": {
      "text/html": [
       "<div>\n",
       "<style scoped>\n",
       "    .dataframe tbody tr th:only-of-type {\n",
       "        vertical-align: middle;\n",
       "    }\n",
       "\n",
       "    .dataframe tbody tr th {\n",
       "        vertical-align: top;\n",
       "    }\n",
       "\n",
       "    .dataframe thead th {\n",
       "        text-align: right;\n",
       "    }\n",
       "</style>\n",
       "<table border=\"1\" class=\"dataframe\">\n",
       "  <thead>\n",
       "    <tr style=\"text-align: right;\">\n",
       "      <th></th>\n",
       "      <th>index</th>\n",
       "      <th>username</th>\n",
       "      <th>photo_id</th>\n",
       "      <th>followed_by</th>\n",
       "      <th>hashtag</th>\n",
       "      <th>tag</th>\n",
       "      <th>caption</th>\n",
       "      <th>is_video</th>\n",
       "      <th>timestamp</th>\n",
       "      <th>n_comment</th>\n",
       "      <th>n_likes</th>\n",
       "      <th>target</th>\n",
       "    </tr>\n",
       "  </thead>\n",
       "  <tbody>\n",
       "    <tr>\n",
       "      <th>0</th>\n",
       "      <td>0</td>\n",
       "      <td>viniciusjunior</td>\n",
       "      <td>viniciusjunior0</td>\n",
       "      <td>9012479</td>\n",
       "      <td>0</td>\n",
       "      <td>0</td>\n",
       "      <td>52</td>\n",
       "      <td>0</td>\n",
       "      <td>1582322398</td>\n",
       "      <td>1043</td>\n",
       "      <td>386524</td>\n",
       "      <td>1</td>\n",
       "    </tr>\n",
       "    <tr>\n",
       "      <th>1</th>\n",
       "      <td>1</td>\n",
       "      <td>viniciusjunior</td>\n",
       "      <td>viniciusjunior1</td>\n",
       "      <td>9012479</td>\n",
       "      <td>0</td>\n",
       "      <td>0</td>\n",
       "      <td>44</td>\n",
       "      <td>0</td>\n",
       "      <td>1582141911</td>\n",
       "      <td>1564</td>\n",
       "      <td>522107</td>\n",
       "      <td>1</td>\n",
       "    </tr>\n",
       "    <tr>\n",
       "      <th>2</th>\n",
       "      <td>2</td>\n",
       "      <td>viniciusjunior</td>\n",
       "      <td>NaN</td>\n",
       "      <td>9012479</td>\n",
       "      <td>2</td>\n",
       "      <td>4</td>\n",
       "      <td>16</td>\n",
       "      <td>1</td>\n",
       "      <td>1581615465</td>\n",
       "      <td>395</td>\n",
       "      <td>179341</td>\n",
       "      <td>1</td>\n",
       "    </tr>\n",
       "    <tr>\n",
       "      <th>3</th>\n",
       "      <td>3</td>\n",
       "      <td>viniciusjunior</td>\n",
       "      <td>NaN</td>\n",
       "      <td>9012479</td>\n",
       "      <td>0</td>\n",
       "      <td>0</td>\n",
       "      <td>1</td>\n",
       "      <td>1</td>\n",
       "      <td>1581532095</td>\n",
       "      <td>2303</td>\n",
       "      <td>380096</td>\n",
       "      <td>1</td>\n",
       "    </tr>\n",
       "    <tr>\n",
       "      <th>4</th>\n",
       "      <td>4</td>\n",
       "      <td>viniciusjunior</td>\n",
       "      <td>viniciusjunior4</td>\n",
       "      <td>9012479</td>\n",
       "      <td>0</td>\n",
       "      <td>1</td>\n",
       "      <td>26</td>\n",
       "      <td>0</td>\n",
       "      <td>1581440777</td>\n",
       "      <td>895</td>\n",
       "      <td>387117</td>\n",
       "      <td>1</td>\n",
       "    </tr>\n",
       "  </tbody>\n",
       "</table>\n",
       "</div>"
      ],
      "text/plain": [
       "   index        username         photo_id  followed_by  hashtag  tag  caption  \\\n",
       "0      0  viniciusjunior  viniciusjunior0      9012479        0    0       52   \n",
       "1      1  viniciusjunior  viniciusjunior1      9012479        0    0       44   \n",
       "2      2  viniciusjunior              NaN      9012479        2    4       16   \n",
       "3      3  viniciusjunior              NaN      9012479        0    0        1   \n",
       "4      4  viniciusjunior  viniciusjunior4      9012479        0    1       26   \n",
       "\n",
       "   is_video   timestamp  n_comment  n_likes  target  \n",
       "0         0  1582322398       1043   386524       1  \n",
       "1         0  1582141911       1564   522107       1  \n",
       "2         1  1581615465        395   179341       1  \n",
       "3         1  1581532095       2303   380096       1  \n",
       "4         0  1581440777        895   387117       1  "
      ]
     },
     "execution_count": 32,
     "metadata": {},
     "output_type": "execute_result"
    }
   ],
   "source": [
    "# standard = 1\n",
    "# paid = 0\n",
    "label2 = LabelEncoder()\n",
    "dataset['target'] = label2.fit_transform(dataset['target'])\n",
    "dataset.head()"
   ]
  },
  {
   "cell_type": "markdown",
   "metadata": {},
   "source": [
    "#### Normalizzo il `n_likes` e `n_comment` in base al `followed_by`"
   ]
  },
  {
   "cell_type": "code",
   "execution_count": 33,
   "metadata": {},
   "outputs": [
    {
     "data": {
      "text/html": [
       "<div>\n",
       "<style scoped>\n",
       "    .dataframe tbody tr th:only-of-type {\n",
       "        vertical-align: middle;\n",
       "    }\n",
       "\n",
       "    .dataframe tbody tr th {\n",
       "        vertical-align: top;\n",
       "    }\n",
       "\n",
       "    .dataframe thead th {\n",
       "        text-align: right;\n",
       "    }\n",
       "</style>\n",
       "<table border=\"1\" class=\"dataframe\">\n",
       "  <thead>\n",
       "    <tr style=\"text-align: right;\">\n",
       "      <th></th>\n",
       "      <th>index</th>\n",
       "      <th>username</th>\n",
       "      <th>photo_id</th>\n",
       "      <th>followed_by</th>\n",
       "      <th>hashtag</th>\n",
       "      <th>tag</th>\n",
       "      <th>caption</th>\n",
       "      <th>is_video</th>\n",
       "      <th>timestamp</th>\n",
       "      <th>n_comment</th>\n",
       "      <th>n_likes</th>\n",
       "      <th>target</th>\n",
       "    </tr>\n",
       "  </thead>\n",
       "  <tbody>\n",
       "    <tr>\n",
       "      <th>0</th>\n",
       "      <td>0</td>\n",
       "      <td>viniciusjunior</td>\n",
       "      <td>viniciusjunior0</td>\n",
       "      <td>9012479</td>\n",
       "      <td>0</td>\n",
       "      <td>0</td>\n",
       "      <td>52</td>\n",
       "      <td>0</td>\n",
       "      <td>1582322398</td>\n",
       "      <td>0.000116</td>\n",
       "      <td>0.042888</td>\n",
       "      <td>1</td>\n",
       "    </tr>\n",
       "    <tr>\n",
       "      <th>1</th>\n",
       "      <td>1</td>\n",
       "      <td>viniciusjunior</td>\n",
       "      <td>viniciusjunior1</td>\n",
       "      <td>9012479</td>\n",
       "      <td>0</td>\n",
       "      <td>0</td>\n",
       "      <td>44</td>\n",
       "      <td>0</td>\n",
       "      <td>1582141911</td>\n",
       "      <td>0.000174</td>\n",
       "      <td>0.057932</td>\n",
       "      <td>1</td>\n",
       "    </tr>\n",
       "    <tr>\n",
       "      <th>2</th>\n",
       "      <td>2</td>\n",
       "      <td>viniciusjunior</td>\n",
       "      <td>NaN</td>\n",
       "      <td>9012479</td>\n",
       "      <td>2</td>\n",
       "      <td>4</td>\n",
       "      <td>16</td>\n",
       "      <td>1</td>\n",
       "      <td>1581615465</td>\n",
       "      <td>0.000044</td>\n",
       "      <td>0.019899</td>\n",
       "      <td>1</td>\n",
       "    </tr>\n",
       "    <tr>\n",
       "      <th>3</th>\n",
       "      <td>3</td>\n",
       "      <td>viniciusjunior</td>\n",
       "      <td>NaN</td>\n",
       "      <td>9012479</td>\n",
       "      <td>0</td>\n",
       "      <td>0</td>\n",
       "      <td>1</td>\n",
       "      <td>1</td>\n",
       "      <td>1581532095</td>\n",
       "      <td>0.000256</td>\n",
       "      <td>0.042174</td>\n",
       "      <td>1</td>\n",
       "    </tr>\n",
       "    <tr>\n",
       "      <th>4</th>\n",
       "      <td>4</td>\n",
       "      <td>viniciusjunior</td>\n",
       "      <td>viniciusjunior4</td>\n",
       "      <td>9012479</td>\n",
       "      <td>0</td>\n",
       "      <td>1</td>\n",
       "      <td>26</td>\n",
       "      <td>0</td>\n",
       "      <td>1581440777</td>\n",
       "      <td>0.000099</td>\n",
       "      <td>0.042953</td>\n",
       "      <td>1</td>\n",
       "    </tr>\n",
       "  </tbody>\n",
       "</table>\n",
       "</div>"
      ],
      "text/plain": [
       "   index        username         photo_id  followed_by  hashtag  tag  caption  \\\n",
       "0      0  viniciusjunior  viniciusjunior0      9012479        0    0       52   \n",
       "1      1  viniciusjunior  viniciusjunior1      9012479        0    0       44   \n",
       "2      2  viniciusjunior              NaN      9012479        2    4       16   \n",
       "3      3  viniciusjunior              NaN      9012479        0    0        1   \n",
       "4      4  viniciusjunior  viniciusjunior4      9012479        0    1       26   \n",
       "\n",
       "   is_video   timestamp  n_comment   n_likes  target  \n",
       "0         0  1582322398   0.000116  0.042888       1  \n",
       "1         0  1582141911   0.000174  0.057932       1  \n",
       "2         1  1581615465   0.000044  0.019899       1  \n",
       "3         1  1581532095   0.000256  0.042174       1  \n",
       "4         0  1581440777   0.000099  0.042953       1  "
      ]
     },
     "execution_count": 33,
     "metadata": {},
     "output_type": "execute_result"
    }
   ],
   "source": [
    "dataset['n_comment'] = dataset['n_comment'] / dataset['followed_by']\n",
    "dataset['n_likes'] = dataset['n_likes'] / dataset['followed_by']\n",
    "dataset.head()"
   ]
  },
  {
   "cell_type": "code",
   "execution_count": 34,
   "metadata": {},
   "outputs": [
    {
     "data": {
      "text/plain": [
       "index                      7\n",
       "username        louisvuitton\n",
       "photo_id       louisvuitton7\n",
       "followed_by         37358071\n",
       "hashtag                    1\n",
       "tag                        0\n",
       "caption                   19\n",
       "is_video                   0\n",
       "timestamp         1582188609\n",
       "n_comment        4.52379e-06\n",
       "n_likes           0.00191945\n",
       "target                     1\n",
       "Name: 9284, dtype: object"
      ]
     },
     "execution_count": 34,
     "metadata": {},
     "output_type": "execute_result"
    }
   ],
   "source": [
    "dataset.loc[9284]"
   ]
  },
  {
   "cell_type": "markdown",
   "metadata": {},
   "source": [
    "#### Gestione `timestamp` in modo da ottenere il giorno di pubblicazione del post"
   ]
  },
  {
   "cell_type": "code",
   "execution_count": 35,
   "metadata": {},
   "outputs": [],
   "source": [
    "from datetime import datetime"
   ]
  },
  {
   "cell_type": "code",
   "execution_count": 38,
   "metadata": {},
   "outputs": [
    {
     "data": {
      "text/plain": [
       "4"
      ]
     },
     "execution_count": 38,
     "metadata": {},
     "output_type": "execute_result"
    }
   ],
   "source": [
    "# Esempio\n",
    "datetime.fromtimestamp(1582322398).weekday()"
   ]
  },
  {
   "cell_type": "code",
   "execution_count": 21,
   "metadata": {
    "scrolled": false
   },
   "outputs": [
    {
     "data": {
      "text/html": [
       "<div>\n",
       "<style scoped>\n",
       "    .dataframe tbody tr th:only-of-type {\n",
       "        vertical-align: middle;\n",
       "    }\n",
       "\n",
       "    .dataframe tbody tr th {\n",
       "        vertical-align: top;\n",
       "    }\n",
       "\n",
       "    .dataframe thead th {\n",
       "        text-align: right;\n",
       "    }\n",
       "</style>\n",
       "<table border=\"1\" class=\"dataframe\">\n",
       "  <thead>\n",
       "    <tr style=\"text-align: right;\">\n",
       "      <th></th>\n",
       "      <th>index</th>\n",
       "      <th>username</th>\n",
       "      <th>photo_id</th>\n",
       "      <th>followed_by</th>\n",
       "      <th>hashtag</th>\n",
       "      <th>tag</th>\n",
       "      <th>caption</th>\n",
       "      <th>is_video</th>\n",
       "      <th>timestamp</th>\n",
       "      <th>n_comment</th>\n",
       "      <th>n_likes</th>\n",
       "      <th>target</th>\n",
       "    </tr>\n",
       "  </thead>\n",
       "  <tbody>\n",
       "    <tr>\n",
       "      <th>0</th>\n",
       "      <td>0</td>\n",
       "      <td>viniciusjunior</td>\n",
       "      <td>viniciusjunior0</td>\n",
       "      <td>9012479</td>\n",
       "      <td>0</td>\n",
       "      <td>0</td>\n",
       "      <td>52</td>\n",
       "      <td>0</td>\n",
       "      <td>4</td>\n",
       "      <td>0.000116</td>\n",
       "      <td>0.042888</td>\n",
       "      <td>1</td>\n",
       "    </tr>\n",
       "    <tr>\n",
       "      <th>1</th>\n",
       "      <td>1</td>\n",
       "      <td>viniciusjunior</td>\n",
       "      <td>viniciusjunior1</td>\n",
       "      <td>9012479</td>\n",
       "      <td>0</td>\n",
       "      <td>0</td>\n",
       "      <td>44</td>\n",
       "      <td>0</td>\n",
       "      <td>2</td>\n",
       "      <td>0.000174</td>\n",
       "      <td>0.057932</td>\n",
       "      <td>1</td>\n",
       "    </tr>\n",
       "    <tr>\n",
       "      <th>2</th>\n",
       "      <td>2</td>\n",
       "      <td>viniciusjunior</td>\n",
       "      <td>NaN</td>\n",
       "      <td>9012479</td>\n",
       "      <td>2</td>\n",
       "      <td>4</td>\n",
       "      <td>16</td>\n",
       "      <td>1</td>\n",
       "      <td>3</td>\n",
       "      <td>0.000044</td>\n",
       "      <td>0.019899</td>\n",
       "      <td>1</td>\n",
       "    </tr>\n",
       "    <tr>\n",
       "      <th>3</th>\n",
       "      <td>3</td>\n",
       "      <td>viniciusjunior</td>\n",
       "      <td>NaN</td>\n",
       "      <td>9012479</td>\n",
       "      <td>0</td>\n",
       "      <td>0</td>\n",
       "      <td>1</td>\n",
       "      <td>1</td>\n",
       "      <td>2</td>\n",
       "      <td>0.000256</td>\n",
       "      <td>0.042174</td>\n",
       "      <td>1</td>\n",
       "    </tr>\n",
       "    <tr>\n",
       "      <th>4</th>\n",
       "      <td>4</td>\n",
       "      <td>viniciusjunior</td>\n",
       "      <td>viniciusjunior4</td>\n",
       "      <td>9012479</td>\n",
       "      <td>0</td>\n",
       "      <td>1</td>\n",
       "      <td>26</td>\n",
       "      <td>0</td>\n",
       "      <td>1</td>\n",
       "      <td>0.000099</td>\n",
       "      <td>0.042953</td>\n",
       "      <td>1</td>\n",
       "    </tr>\n",
       "  </tbody>\n",
       "</table>\n",
       "</div>"
      ],
      "text/plain": [
       "   index        username         photo_id  followed_by  hashtag  tag  caption  \\\n",
       "0      0  viniciusjunior  viniciusjunior0      9012479        0    0       52   \n",
       "1      1  viniciusjunior  viniciusjunior1      9012479        0    0       44   \n",
       "2      2  viniciusjunior              NaN      9012479        2    4       16   \n",
       "3      3  viniciusjunior              NaN      9012479        0    0        1   \n",
       "4      4  viniciusjunior  viniciusjunior4      9012479        0    1       26   \n",
       "\n",
       "   is_video  timestamp  n_comment   n_likes  target  \n",
       "0         0          4   0.000116  0.042888       1  \n",
       "1         0          2   0.000174  0.057932       1  \n",
       "2         1          3   0.000044  0.019899       1  \n",
       "3         1          2   0.000256  0.042174       1  \n",
       "4         0          1   0.000099  0.042953       1  "
      ]
     },
     "execution_count": 21,
     "metadata": {},
     "output_type": "execute_result"
    }
   ],
   "source": [
    "dataset['timestamp'] = dataset['timestamp'].apply(lambda x: datetime.fromtimestamp(x).weekday())\n",
    "dataset.head()"
   ]
  },
  {
   "cell_type": "markdown",
   "metadata": {},
   "source": [
    "### Binarizzazione della feature timestamp"
   ]
  },
  {
   "cell_type": "code",
   "execution_count": 22,
   "metadata": {
    "scrolled": true
   },
   "outputs": [
    {
     "data": {
      "text/html": [
       "<div>\n",
       "<style scoped>\n",
       "    .dataframe tbody tr th:only-of-type {\n",
       "        vertical-align: middle;\n",
       "    }\n",
       "\n",
       "    .dataframe tbody tr th {\n",
       "        vertical-align: top;\n",
       "    }\n",
       "\n",
       "    .dataframe thead th {\n",
       "        text-align: right;\n",
       "    }\n",
       "</style>\n",
       "<table border=\"1\" class=\"dataframe\">\n",
       "  <thead>\n",
       "    <tr style=\"text-align: right;\">\n",
       "      <th></th>\n",
       "      <th>index</th>\n",
       "      <th>username</th>\n",
       "      <th>photo_id</th>\n",
       "      <th>followed_by</th>\n",
       "      <th>hashtag</th>\n",
       "      <th>tag</th>\n",
       "      <th>caption</th>\n",
       "      <th>is_video</th>\n",
       "      <th>n_comment</th>\n",
       "      <th>n_likes</th>\n",
       "      <th>target</th>\n",
       "      <th>timestamp_1</th>\n",
       "      <th>timestamp_2</th>\n",
       "      <th>timestamp_3</th>\n",
       "      <th>timestamp_4</th>\n",
       "      <th>timestamp_5</th>\n",
       "      <th>timestamp_6</th>\n",
       "    </tr>\n",
       "  </thead>\n",
       "  <tbody>\n",
       "    <tr>\n",
       "      <th>0</th>\n",
       "      <td>0</td>\n",
       "      <td>viniciusjunior</td>\n",
       "      <td>viniciusjunior0</td>\n",
       "      <td>9012479</td>\n",
       "      <td>0</td>\n",
       "      <td>0</td>\n",
       "      <td>52</td>\n",
       "      <td>0</td>\n",
       "      <td>0.000116</td>\n",
       "      <td>0.042888</td>\n",
       "      <td>1</td>\n",
       "      <td>0</td>\n",
       "      <td>0</td>\n",
       "      <td>0</td>\n",
       "      <td>1</td>\n",
       "      <td>0</td>\n",
       "      <td>0</td>\n",
       "    </tr>\n",
       "    <tr>\n",
       "      <th>1</th>\n",
       "      <td>1</td>\n",
       "      <td>viniciusjunior</td>\n",
       "      <td>viniciusjunior1</td>\n",
       "      <td>9012479</td>\n",
       "      <td>0</td>\n",
       "      <td>0</td>\n",
       "      <td>44</td>\n",
       "      <td>0</td>\n",
       "      <td>0.000174</td>\n",
       "      <td>0.057932</td>\n",
       "      <td>1</td>\n",
       "      <td>0</td>\n",
       "      <td>1</td>\n",
       "      <td>0</td>\n",
       "      <td>0</td>\n",
       "      <td>0</td>\n",
       "      <td>0</td>\n",
       "    </tr>\n",
       "    <tr>\n",
       "      <th>2</th>\n",
       "      <td>2</td>\n",
       "      <td>viniciusjunior</td>\n",
       "      <td>NaN</td>\n",
       "      <td>9012479</td>\n",
       "      <td>2</td>\n",
       "      <td>4</td>\n",
       "      <td>16</td>\n",
       "      <td>1</td>\n",
       "      <td>0.000044</td>\n",
       "      <td>0.019899</td>\n",
       "      <td>1</td>\n",
       "      <td>0</td>\n",
       "      <td>0</td>\n",
       "      <td>1</td>\n",
       "      <td>0</td>\n",
       "      <td>0</td>\n",
       "      <td>0</td>\n",
       "    </tr>\n",
       "    <tr>\n",
       "      <th>3</th>\n",
       "      <td>3</td>\n",
       "      <td>viniciusjunior</td>\n",
       "      <td>NaN</td>\n",
       "      <td>9012479</td>\n",
       "      <td>0</td>\n",
       "      <td>0</td>\n",
       "      <td>1</td>\n",
       "      <td>1</td>\n",
       "      <td>0.000256</td>\n",
       "      <td>0.042174</td>\n",
       "      <td>1</td>\n",
       "      <td>0</td>\n",
       "      <td>1</td>\n",
       "      <td>0</td>\n",
       "      <td>0</td>\n",
       "      <td>0</td>\n",
       "      <td>0</td>\n",
       "    </tr>\n",
       "    <tr>\n",
       "      <th>4</th>\n",
       "      <td>4</td>\n",
       "      <td>viniciusjunior</td>\n",
       "      <td>viniciusjunior4</td>\n",
       "      <td>9012479</td>\n",
       "      <td>0</td>\n",
       "      <td>1</td>\n",
       "      <td>26</td>\n",
       "      <td>0</td>\n",
       "      <td>0.000099</td>\n",
       "      <td>0.042953</td>\n",
       "      <td>1</td>\n",
       "      <td>1</td>\n",
       "      <td>0</td>\n",
       "      <td>0</td>\n",
       "      <td>0</td>\n",
       "      <td>0</td>\n",
       "      <td>0</td>\n",
       "    </tr>\n",
       "  </tbody>\n",
       "</table>\n",
       "</div>"
      ],
      "text/plain": [
       "   index        username         photo_id  followed_by  hashtag  tag  caption  \\\n",
       "0      0  viniciusjunior  viniciusjunior0      9012479        0    0       52   \n",
       "1      1  viniciusjunior  viniciusjunior1      9012479        0    0       44   \n",
       "2      2  viniciusjunior              NaN      9012479        2    4       16   \n",
       "3      3  viniciusjunior              NaN      9012479        0    0        1   \n",
       "4      4  viniciusjunior  viniciusjunior4      9012479        0    1       26   \n",
       "\n",
       "   is_video  n_comment   n_likes  target  timestamp_1  timestamp_2  \\\n",
       "0         0   0.000116  0.042888       1            0            0   \n",
       "1         0   0.000174  0.057932       1            0            1   \n",
       "2         1   0.000044  0.019899       1            0            0   \n",
       "3         1   0.000256  0.042174       1            0            1   \n",
       "4         0   0.000099  0.042953       1            1            0   \n",
       "\n",
       "   timestamp_3  timestamp_4  timestamp_5  timestamp_6  \n",
       "0            0            1            0            0  \n",
       "1            0            0            0            0  \n",
       "2            1            0            0            0  \n",
       "3            0            0            0            0  \n",
       "4            0            0            0            0  "
      ]
     },
     "execution_count": 22,
     "metadata": {},
     "output_type": "execute_result"
    }
   ],
   "source": [
    "# drop_first = True per rimuovere una delle colonne, in quanto se ho n valori categorici mi basta creare n-1 nuove feature\n",
    "dataset = pd.get_dummies(dataset, drop_first=True, columns=['timestamp'])\n",
    "dataset.head()"
   ]
  },
  {
   "cell_type": "code",
   "execution_count": 23,
   "metadata": {},
   "outputs": [],
   "source": [
    "# axis = 1 perchè guardo alle colonne\n",
    "dataset = dataset.drop(labels=['index', 'username', 'photo_id', 'followed_by'], axis = 1)"
   ]
  },
  {
   "cell_type": "code",
   "execution_count": 24,
   "metadata": {},
   "outputs": [
    {
     "data": {
      "text/html": [
       "<div>\n",
       "<style scoped>\n",
       "    .dataframe tbody tr th:only-of-type {\n",
       "        vertical-align: middle;\n",
       "    }\n",
       "\n",
       "    .dataframe tbody tr th {\n",
       "        vertical-align: top;\n",
       "    }\n",
       "\n",
       "    .dataframe thead th {\n",
       "        text-align: right;\n",
       "    }\n",
       "</style>\n",
       "<table border=\"1\" class=\"dataframe\">\n",
       "  <thead>\n",
       "    <tr style=\"text-align: right;\">\n",
       "      <th></th>\n",
       "      <th>hashtag</th>\n",
       "      <th>tag</th>\n",
       "      <th>caption</th>\n",
       "      <th>is_video</th>\n",
       "      <th>n_comment</th>\n",
       "      <th>n_likes</th>\n",
       "      <th>target</th>\n",
       "      <th>timestamp_1</th>\n",
       "      <th>timestamp_2</th>\n",
       "      <th>timestamp_3</th>\n",
       "      <th>timestamp_4</th>\n",
       "      <th>timestamp_5</th>\n",
       "      <th>timestamp_6</th>\n",
       "    </tr>\n",
       "  </thead>\n",
       "  <tbody>\n",
       "    <tr>\n",
       "      <th>0</th>\n",
       "      <td>0</td>\n",
       "      <td>0</td>\n",
       "      <td>52</td>\n",
       "      <td>0</td>\n",
       "      <td>0.000116</td>\n",
       "      <td>0.042888</td>\n",
       "      <td>1</td>\n",
       "      <td>0</td>\n",
       "      <td>0</td>\n",
       "      <td>0</td>\n",
       "      <td>1</td>\n",
       "      <td>0</td>\n",
       "      <td>0</td>\n",
       "    </tr>\n",
       "    <tr>\n",
       "      <th>1</th>\n",
       "      <td>0</td>\n",
       "      <td>0</td>\n",
       "      <td>44</td>\n",
       "      <td>0</td>\n",
       "      <td>0.000174</td>\n",
       "      <td>0.057932</td>\n",
       "      <td>1</td>\n",
       "      <td>0</td>\n",
       "      <td>1</td>\n",
       "      <td>0</td>\n",
       "      <td>0</td>\n",
       "      <td>0</td>\n",
       "      <td>0</td>\n",
       "    </tr>\n",
       "    <tr>\n",
       "      <th>2</th>\n",
       "      <td>2</td>\n",
       "      <td>4</td>\n",
       "      <td>16</td>\n",
       "      <td>1</td>\n",
       "      <td>0.000044</td>\n",
       "      <td>0.019899</td>\n",
       "      <td>1</td>\n",
       "      <td>0</td>\n",
       "      <td>0</td>\n",
       "      <td>1</td>\n",
       "      <td>0</td>\n",
       "      <td>0</td>\n",
       "      <td>0</td>\n",
       "    </tr>\n",
       "    <tr>\n",
       "      <th>3</th>\n",
       "      <td>0</td>\n",
       "      <td>0</td>\n",
       "      <td>1</td>\n",
       "      <td>1</td>\n",
       "      <td>0.000256</td>\n",
       "      <td>0.042174</td>\n",
       "      <td>1</td>\n",
       "      <td>0</td>\n",
       "      <td>1</td>\n",
       "      <td>0</td>\n",
       "      <td>0</td>\n",
       "      <td>0</td>\n",
       "      <td>0</td>\n",
       "    </tr>\n",
       "    <tr>\n",
       "      <th>4</th>\n",
       "      <td>0</td>\n",
       "      <td>1</td>\n",
       "      <td>26</td>\n",
       "      <td>0</td>\n",
       "      <td>0.000099</td>\n",
       "      <td>0.042953</td>\n",
       "      <td>1</td>\n",
       "      <td>1</td>\n",
       "      <td>0</td>\n",
       "      <td>0</td>\n",
       "      <td>0</td>\n",
       "      <td>0</td>\n",
       "      <td>0</td>\n",
       "    </tr>\n",
       "  </tbody>\n",
       "</table>\n",
       "</div>"
      ],
      "text/plain": [
       "   hashtag  tag  caption  is_video  n_comment   n_likes  target  timestamp_1  \\\n",
       "0        0    0       52         0   0.000116  0.042888       1            0   \n",
       "1        0    0       44         0   0.000174  0.057932       1            0   \n",
       "2        2    4       16         1   0.000044  0.019899       1            0   \n",
       "3        0    0        1         1   0.000256  0.042174       1            0   \n",
       "4        0    1       26         0   0.000099  0.042953       1            1   \n",
       "\n",
       "   timestamp_2  timestamp_3  timestamp_4  timestamp_5  timestamp_6  \n",
       "0            0            0            1            0            0  \n",
       "1            1            0            0            0            0  \n",
       "2            0            1            0            0            0  \n",
       "3            1            0            0            0            0  \n",
       "4            0            0            0            0            0  "
      ]
     },
     "execution_count": 24,
     "metadata": {},
     "output_type": "execute_result"
    }
   ],
   "source": [
    "dataset.head()"
   ]
  },
  {
   "cell_type": "raw",
   "metadata": {},
   "source": [
    "dataset.to_csv('./dataset-processed/pre-processed-01.csv', index=False)"
   ]
  }
 ],
 "metadata": {
  "kernelspec": {
   "display_name": "Python 3",
   "language": "python",
   "name": "python3"
  },
  "language_info": {
   "codemirror_mode": {
    "name": "ipython",
    "version": 3
   },
   "file_extension": ".py",
   "mimetype": "text/x-python",
   "name": "python",
   "nbconvert_exporter": "python",
   "pygments_lexer": "ipython3",
   "version": "3.6.10"
  }
 },
 "nbformat": 4,
 "nbformat_minor": 2
}
