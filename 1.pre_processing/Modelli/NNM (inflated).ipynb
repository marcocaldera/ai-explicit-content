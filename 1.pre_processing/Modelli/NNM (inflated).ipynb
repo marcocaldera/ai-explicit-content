{
 "cells": [
  {
   "cell_type": "markdown",
   "metadata": {},
   "source": [
    "## Neural Network model (inflated data)"
   ]
  },
  {
   "cell_type": "code",
   "execution_count": 1,
   "metadata": {},
   "outputs": [],
   "source": [
    "import numpy as np\n",
    "import pandas as pd\n",
    "from sklearn.model_selection import train_test_split\n",
    "from sklearn.preprocessing import StandardScaler\n",
    "from mlxtend.plotting import plot_confusion_matrix\n",
    "from sklearn.metrics import confusion_matrix, accuracy_score, classification_report\n",
    "import matplotlib\n",
    "import matplotlib.pyplot as plt\n",
    "from sklearn.model_selection import cross_val_score"
   ]
  },
  {
   "cell_type": "code",
   "execution_count": 2,
   "metadata": {
    "scrolled": true
   },
   "outputs": [
    {
     "name": "stdout",
     "output_type": "stream",
     "text": [
      "Numero di esempi:  11905\n"
     ]
    },
    {
     "data": {
      "text/html": [
       "<div>\n",
       "<style scoped>\n",
       "    .dataframe tbody tr th:only-of-type {\n",
       "        vertical-align: middle;\n",
       "    }\n",
       "\n",
       "    .dataframe tbody tr th {\n",
       "        vertical-align: top;\n",
       "    }\n",
       "\n",
       "    .dataframe thead th {\n",
       "        text-align: right;\n",
       "    }\n",
       "</style>\n",
       "<table border=\"1\" class=\"dataframe\">\n",
       "  <thead>\n",
       "    <tr style=\"text-align: right;\">\n",
       "      <th></th>\n",
       "      <th>hashtag</th>\n",
       "      <th>tag</th>\n",
       "      <th>caption</th>\n",
       "      <th>is_video</th>\n",
       "      <th>n_comment</th>\n",
       "      <th>n_likes</th>\n",
       "      <th>target</th>\n",
       "      <th>timestamp_1</th>\n",
       "      <th>timestamp_2</th>\n",
       "      <th>timestamp_3</th>\n",
       "      <th>timestamp_4</th>\n",
       "      <th>timestamp_5</th>\n",
       "      <th>timestamp_6</th>\n",
       "    </tr>\n",
       "  </thead>\n",
       "  <tbody>\n",
       "    <tr>\n",
       "      <th>0</th>\n",
       "      <td>0</td>\n",
       "      <td>0</td>\n",
       "      <td>52</td>\n",
       "      <td>0</td>\n",
       "      <td>0.000116</td>\n",
       "      <td>0.042888</td>\n",
       "      <td>1</td>\n",
       "      <td>0</td>\n",
       "      <td>0</td>\n",
       "      <td>0</td>\n",
       "      <td>1</td>\n",
       "      <td>0</td>\n",
       "      <td>0</td>\n",
       "    </tr>\n",
       "    <tr>\n",
       "      <th>1</th>\n",
       "      <td>0</td>\n",
       "      <td>0</td>\n",
       "      <td>44</td>\n",
       "      <td>0</td>\n",
       "      <td>0.000174</td>\n",
       "      <td>0.057932</td>\n",
       "      <td>1</td>\n",
       "      <td>0</td>\n",
       "      <td>1</td>\n",
       "      <td>0</td>\n",
       "      <td>0</td>\n",
       "      <td>0</td>\n",
       "      <td>0</td>\n",
       "    </tr>\n",
       "    <tr>\n",
       "      <th>2</th>\n",
       "      <td>2</td>\n",
       "      <td>4</td>\n",
       "      <td>16</td>\n",
       "      <td>1</td>\n",
       "      <td>0.000044</td>\n",
       "      <td>0.019899</td>\n",
       "      <td>1</td>\n",
       "      <td>0</td>\n",
       "      <td>0</td>\n",
       "      <td>1</td>\n",
       "      <td>0</td>\n",
       "      <td>0</td>\n",
       "      <td>0</td>\n",
       "    </tr>\n",
       "    <tr>\n",
       "      <th>3</th>\n",
       "      <td>0</td>\n",
       "      <td>0</td>\n",
       "      <td>1</td>\n",
       "      <td>1</td>\n",
       "      <td>0.000256</td>\n",
       "      <td>0.042174</td>\n",
       "      <td>1</td>\n",
       "      <td>0</td>\n",
       "      <td>1</td>\n",
       "      <td>0</td>\n",
       "      <td>0</td>\n",
       "      <td>0</td>\n",
       "      <td>0</td>\n",
       "    </tr>\n",
       "    <tr>\n",
       "      <th>4</th>\n",
       "      <td>0</td>\n",
       "      <td>1</td>\n",
       "      <td>26</td>\n",
       "      <td>0</td>\n",
       "      <td>0.000099</td>\n",
       "      <td>0.042953</td>\n",
       "      <td>1</td>\n",
       "      <td>1</td>\n",
       "      <td>0</td>\n",
       "      <td>0</td>\n",
       "      <td>0</td>\n",
       "      <td>0</td>\n",
       "      <td>0</td>\n",
       "    </tr>\n",
       "  </tbody>\n",
       "</table>\n",
       "</div>"
      ],
      "text/plain": [
       "   hashtag  tag  caption  is_video  n_comment   n_likes  target  timestamp_1  \\\n",
       "0        0    0       52         0   0.000116  0.042888       1            0   \n",
       "1        0    0       44         0   0.000174  0.057932       1            0   \n",
       "2        2    4       16         1   0.000044  0.019899       1            0   \n",
       "3        0    0        1         1   0.000256  0.042174       1            0   \n",
       "4        0    1       26         0   0.000099  0.042953       1            1   \n",
       "\n",
       "   timestamp_2  timestamp_3  timestamp_4  timestamp_5  timestamp_6  \n",
       "0            0            0            1            0            0  \n",
       "1            1            0            0            0            0  \n",
       "2            0            1            0            0            0  \n",
       "3            1            0            0            0            0  \n",
       "4            0            0            0            0            0  "
      ]
     },
     "execution_count": 2,
     "metadata": {},
     "output_type": "execute_result"
    }
   ],
   "source": [
    "# dataset = pd.read_csv('../../dataset-processed/pre-processed-01.csv')\n",
    "dataset = pd.read_csv('../../dataset-processed/pre-processed-02-brand-paid.csv')\n",
    "print(\"Numero di esempi: \", len(dataset))\n",
    "dataset.head()"
   ]
  },
  {
   "cell_type": "markdown",
   "metadata": {},
   "source": [
    "### Caratteristiche iniziati del dataset"
   ]
  },
  {
   "cell_type": "code",
   "execution_count": 3,
   "metadata": {
    "scrolled": true
   },
   "outputs": [
    {
     "data": {
      "text/plain": [
       "1    11420\n",
       "0      485\n",
       "Name: target, dtype: int64"
      ]
     },
     "execution_count": 3,
     "metadata": {},
     "output_type": "execute_result"
    }
   ],
   "source": [
    "dataset['target'].value_counts()"
   ]
  },
  {
   "cell_type": "code",
   "execution_count": 4,
   "metadata": {},
   "outputs": [],
   "source": [
    "X = dataset.drop(labels=['target'], axis = 1)\n",
    "y = dataset['target']"
   ]
  },
  {
   "cell_type": "code",
   "execution_count": 5,
   "metadata": {
    "scrolled": true
   },
   "outputs": [
    {
     "data": {
      "text/html": [
       "<div>\n",
       "<style scoped>\n",
       "    .dataframe tbody tr th:only-of-type {\n",
       "        vertical-align: middle;\n",
       "    }\n",
       "\n",
       "    .dataframe tbody tr th {\n",
       "        vertical-align: top;\n",
       "    }\n",
       "\n",
       "    .dataframe thead th {\n",
       "        text-align: right;\n",
       "    }\n",
       "</style>\n",
       "<table border=\"1\" class=\"dataframe\">\n",
       "  <thead>\n",
       "    <tr style=\"text-align: right;\">\n",
       "      <th></th>\n",
       "      <th>hashtag</th>\n",
       "      <th>tag</th>\n",
       "      <th>caption</th>\n",
       "      <th>is_video</th>\n",
       "      <th>n_comment</th>\n",
       "      <th>n_likes</th>\n",
       "      <th>timestamp_1</th>\n",
       "      <th>timestamp_2</th>\n",
       "      <th>timestamp_3</th>\n",
       "      <th>timestamp_4</th>\n",
       "      <th>timestamp_5</th>\n",
       "      <th>timestamp_6</th>\n",
       "    </tr>\n",
       "  </thead>\n",
       "  <tbody>\n",
       "    <tr>\n",
       "      <th>0</th>\n",
       "      <td>0</td>\n",
       "      <td>0</td>\n",
       "      <td>52</td>\n",
       "      <td>0</td>\n",
       "      <td>0.000116</td>\n",
       "      <td>0.042888</td>\n",
       "      <td>0</td>\n",
       "      <td>0</td>\n",
       "      <td>0</td>\n",
       "      <td>1</td>\n",
       "      <td>0</td>\n",
       "      <td>0</td>\n",
       "    </tr>\n",
       "    <tr>\n",
       "      <th>1</th>\n",
       "      <td>0</td>\n",
       "      <td>0</td>\n",
       "      <td>44</td>\n",
       "      <td>0</td>\n",
       "      <td>0.000174</td>\n",
       "      <td>0.057932</td>\n",
       "      <td>0</td>\n",
       "      <td>1</td>\n",
       "      <td>0</td>\n",
       "      <td>0</td>\n",
       "      <td>0</td>\n",
       "      <td>0</td>\n",
       "    </tr>\n",
       "  </tbody>\n",
       "</table>\n",
       "</div>"
      ],
      "text/plain": [
       "   hashtag  tag  caption  is_video  n_comment   n_likes  timestamp_1  \\\n",
       "0        0    0       52         0   0.000116  0.042888            0   \n",
       "1        0    0       44         0   0.000174  0.057932            0   \n",
       "\n",
       "   timestamp_2  timestamp_3  timestamp_4  timestamp_5  timestamp_6  \n",
       "0            0            0            1            0            0  \n",
       "1            1            0            0            0            0  "
      ]
     },
     "execution_count": 5,
     "metadata": {},
     "output_type": "execute_result"
    }
   ],
   "source": [
    "X.head(2)"
   ]
  },
  {
   "cell_type": "code",
   "execution_count": 6,
   "metadata": {},
   "outputs": [],
   "source": [
    "# z-score\n",
    "scaler = StandardScaler()\n",
    "X = scaler.fit_transform(X)"
   ]
  },
  {
   "cell_type": "code",
   "execution_count": 7,
   "metadata": {},
   "outputs": [],
   "source": [
    "X_train, X_test, y_train, y_test = train_test_split(X, y, test_size = 0.2, random_state = 0, stratify = y)"
   ]
  },
  {
   "cell_type": "raw",
   "metadata": {},
   "source": [
    "X_test_pandas = X_test"
   ]
  },
  {
   "cell_type": "markdown",
   "metadata": {},
   "source": [
    "### Inflate minority class\n",
    "\n",
    "\"By oversampling only on the training data, none of the information in the validation data is being used to create synthetic observations. So these results should be generalizable. Let’s see if that’s true.\"\n",
    "\n",
    "Classi:\n",
    "- paid = 0\n",
    "- standard = 1"
   ]
  },
  {
   "cell_type": "code",
   "execution_count": 8,
   "metadata": {},
   "outputs": [],
   "source": [
    "from imblearn.over_sampling import SMOTE"
   ]
  },
  {
   "cell_type": "code",
   "execution_count": 9,
   "metadata": {},
   "outputs": [
    {
     "data": {
      "text/plain": [
       "((18272, 12), (18272,))"
      ]
     },
     "execution_count": 9,
     "metadata": {},
     "output_type": "execute_result"
    }
   ],
   "source": [
    "sm = SMOTE(random_state=2)\n",
    "X_train, y_train = sm.fit_sample(X_train, y_train.ravel())\n",
    "X_train.shape, y_train.shape"
   ]
  },
  {
   "cell_type": "code",
   "execution_count": 10,
   "metadata": {},
   "outputs": [
    {
     "name": "stdout",
     "output_type": "stream",
     "text": [
      "Esempi training standard:  9136\n",
      "Esempi training paid:  9136\n"
     ]
    }
   ],
   "source": [
    "print('Esempi training standard: ', sum(y_train == 1))\n",
    "print('Esempi training paid: ', len(X_train) - sum((y_train == 0)))"
   ]
  },
  {
   "cell_type": "code",
   "execution_count": 11,
   "metadata": {},
   "outputs": [
    {
     "name": "stdout",
     "output_type": "stream",
     "text": [
      "Esempi test standard:  2284\n",
      "Esempi test paid:  97\n"
     ]
    }
   ],
   "source": [
    "print('Esempi test standard: ', sum(y_test == 1))\n",
    "print('Esempi test paid: ', sum(y_test == 0))"
   ]
  },
  {
   "cell_type": "markdown",
   "metadata": {},
   "source": [
    "### Neural network model"
   ]
  },
  {
   "cell_type": "code",
   "execution_count": 12,
   "metadata": {},
   "outputs": [
    {
     "name": "stdout",
     "output_type": "stream",
     "text": [
      "2.1.0\n"
     ]
    }
   ],
   "source": [
    "import tensorflow as tf\n",
    "from tensorflow import keras\n",
    "from tensorflow.keras import Sequential\n",
    "from tensorflow.keras.layers import Flatten, Dense\n",
    "from tensorflow.keras.wrappers.scikit_learn import KerasClassifier\n",
    "from tensorflow.keras.callbacks import ModelCheckpoint\n",
    "from tensorflow.keras.models import load_model\n",
    "print(tf.__version__)"
   ]
  },
  {
   "cell_type": "code",
   "execution_count": 13,
   "metadata": {},
   "outputs": [],
   "source": [
    "def create_model():\n",
    "    model = Sequential()\n",
    "    model.add(Dense(X.shape[1], activation=\"relu\", input_dim = X.shape[1]))\n",
    "    model.add(Dense(512, activation=\"relu\"))\n",
    "    model.add(Dense(256, activation=\"relu\"))\n",
    "    model.add(Dense(128, activation=\"relu\"))\n",
    "    model.add(Dense(1, activation='sigmoid'))\n",
    "    \n",
    "    model.compile(optimizer = \"adam\", loss = 'binary_crossentropy', metrics=['accuracy'])\n",
    "    \n",
    "    return model"
   ]
  },
  {
   "cell_type": "code",
   "execution_count": 14,
   "metadata": {
    "scrolled": true
   },
   "outputs": [
    {
     "name": "stdout",
     "output_type": "stream",
     "text": [
      "Train on 18272 samples, validate on 2381 samples\n",
      "Epoch 1/20\n",
      "18260/18272 [============================>.] - ETA: 0s - loss: 0.4449 - accuracy: 0.7916 ETA: 4s - loss: 0\n",
      "Epoch 00001: saving model to model-ep001-loss0.445-val_loss0.427.h5\n",
      "18272/18272 [==============================] - 5s 255us/sample - loss: 0.4448 - accuracy: 0.7917 - val_loss: 0.4268 - val_accuracy: 0.7766\n",
      "Epoch 2/20\n",
      "18120/18272 [============================>.] - ETA: 0s - loss: 0.3490 - accuracy: 0.8501\n",
      "Epoch 00002: saving model to model-ep002-loss0.349-val_loss0.392.h5\n",
      "18272/18272 [==============================] - 4s 218us/sample - loss: 0.3488 - accuracy: 0.8501 - val_loss: 0.3920 - val_accuracy: 0.7971\n",
      "Epoch 3/20\n",
      "18250/18272 [============================>.] - ETA: 0s - loss: 0.3107 - accuracy: 0.8729\n",
      "Epoch 00003: saving model to model-ep003-loss0.311-val_loss0.323.h5\n",
      "18272/18272 [==============================] - 4s 227us/sample - loss: 0.3106 - accuracy: 0.8728 - val_loss: 0.3233 - val_accuracy: 0.8404\n",
      "Epoch 4/20\n",
      "18160/18272 [============================>.] - ETA: 0s - loss: 0.2809 - accuracy: 0.8873\n",
      "Epoch 00004: saving model to model-ep004-loss0.281-val_loss0.329.h5\n",
      "18272/18272 [==============================] - 4s 226us/sample - loss: 0.2811 - accuracy: 0.8873 - val_loss: 0.3295 - val_accuracy: 0.8639\n",
      "Epoch 5/20\n",
      "18030/18272 [============================>.] - ETA: 0s - loss: 0.2611 - accuracy: 0.8963\n",
      "Epoch 00005: saving model to model-ep005-loss0.262-val_loss0.311.h5\n",
      "18272/18272 [==============================] - 4s 221us/sample - loss: 0.2616 - accuracy: 0.8961 - val_loss: 0.3107 - val_accuracy: 0.8551\n",
      "Epoch 6/20\n",
      "18240/18272 [============================>.] - ETA: 0s - loss: 0.2463 - accuracy: 0.9035\n",
      "Epoch 00006: saving model to model-ep006-loss0.246-val_loss0.372.h5\n",
      "18272/18272 [==============================] - 4s 218us/sample - loss: 0.2463 - accuracy: 0.9035 - val_loss: 0.3725 - val_accuracy: 0.8391\n",
      "Epoch 7/20\n",
      "18040/18272 [============================>.] - ETA: 0s - loss: 0.2327 - accuracy: 0.9111 E - ETA: 0s - loss: 0.2341 - accura\n",
      "Epoch 00007: saving model to model-ep007-loss0.233-val_loss0.399.h5\n",
      "18272/18272 [==============================] - 4s 221us/sample - loss: 0.2331 - accuracy: 0.9110 - val_loss: 0.3985 - val_accuracy: 0.8249\n",
      "Epoch 8/20\n",
      "18180/18272 [============================>.] - ETA: 0s - loss: 0.2277 - accuracy: 0.9121\n",
      "Epoch 00008: saving model to model-ep008-loss0.228-val_loss0.337.h5\n",
      "18272/18272 [==============================] - 4s 219us/sample - loss: 0.2277 - accuracy: 0.9122 - val_loss: 0.3368 - val_accuracy: 0.8585\n",
      "Epoch 9/20\n",
      "18150/18272 [============================>.] - ETA: 0s - loss: 0.2159 - accuracy: 0.9166\n",
      "Epoch 00009: saving model to model-ep009-loss0.216-val_loss0.374.h5\n",
      "18272/18272 [==============================] - 5s 285us/sample - loss: 0.2161 - accuracy: 0.9165 - val_loss: 0.3740 - val_accuracy: 0.8614\n",
      "Epoch 10/20\n",
      "18200/18272 [============================>.] - ETA: 0s - loss: 0.2080 - accuracy: 0.9209\n",
      "Epoch 00010: saving model to model-ep010-loss0.208-val_loss0.412.h5\n",
      "18272/18272 [==============================] - 6s 346us/sample - loss: 0.2078 - accuracy: 0.9210 - val_loss: 0.4116 - val_accuracy: 0.8379\n",
      "Epoch 11/20\n",
      "18120/18272 [============================>.] - ETA: 0s - loss: 0.1977 - accuracy: 0.9252\n",
      "Epoch 00011: saving model to model-ep011-loss0.198-val_loss0.367.h5\n",
      "18272/18272 [==============================] - 5s 274us/sample - loss: 0.1982 - accuracy: 0.9251 - val_loss: 0.3671 - val_accuracy: 0.8719\n",
      "Epoch 12/20\n",
      "18200/18272 [============================>.] - ETA: 0s - loss: 0.1912 - accuracy: 0.9286\n",
      "Epoch 00012: saving model to model-ep012-loss0.191-val_loss0.437.h5\n",
      "18272/18272 [==============================] - 5s 276us/sample - loss: 0.1909 - accuracy: 0.9287 - val_loss: 0.4369 - val_accuracy: 0.8618\n",
      "Epoch 13/20\n",
      "18260/18272 [============================>.] - ETA: 0s - loss: 0.1875 - accuracy: 0.9294\n",
      "Epoch 00013: saving model to model-ep013-loss0.187-val_loss0.416.h5\n",
      "18272/18272 [==============================] - 5s 297us/sample - loss: 0.1874 - accuracy: 0.9295 - val_loss: 0.4159 - val_accuracy: 0.8732\n",
      "Epoch 14/20\n",
      "18090/18272 [============================>.] - ETA: 0s - loss: 0.1834 - accuracy: 0.9301\n",
      "Epoch 00014: saving model to model-ep014-loss0.183-val_loss0.443.h5\n",
      "18272/18272 [==============================] - 6s 325us/sample - loss: 0.1834 - accuracy: 0.9301 - val_loss: 0.4432 - val_accuracy: 0.8786\n",
      "Epoch 15/20\n",
      "18110/18272 [============================>.] - ETA: 0s - loss: 0.1771 - accuracy: 0.9335 ETA: 0s - loss: 0.1774 - accu\n",
      "Epoch 00015: saving model to model-ep015-loss0.177-val_loss0.440.h5\n",
      "18272/18272 [==============================] - 5s 253us/sample - loss: 0.1771 - accuracy: 0.9336 - val_loss: 0.4400 - val_accuracy: 0.8774\n",
      "Epoch 16/20\n",
      "18120/18272 [============================>.] - ETA: 0s - loss: 0.1705 - accuracy: 0.9366\n",
      "Epoch 00016: saving model to model-ep016-loss0.171-val_loss0.386.h5\n",
      "18272/18272 [==============================] - 4s 232us/sample - loss: 0.1707 - accuracy: 0.9366 - val_loss: 0.3860 - val_accuracy: 0.8811\n",
      "Epoch 17/20\n",
      "18140/18272 [============================>.] - ETA: 0s - loss: 0.1686 - accuracy: 0.9372 ETA: 0s - loss:\n",
      "Epoch 00017: saving model to model-ep017-loss0.169-val_loss0.409.h5\n",
      "18272/18272 [==============================] - 4s 228us/sample - loss: 0.1687 - accuracy: 0.9372 - val_loss: 0.4091 - val_accuracy: 0.8811\n",
      "Epoch 18/20\n",
      "18090/18272 [============================>.] - ETA: 0s - loss: 0.1663 - accuracy: 0.9362\n",
      "Epoch 00018: saving model to model-ep018-loss0.166-val_loss0.452.h5\n",
      "18272/18272 [==============================] - 4s 241us/sample - loss: 0.1662 - accuracy: 0.9361 - val_loss: 0.4524 - val_accuracy: 0.8748\n",
      "Epoch 19/20\n",
      "18240/18272 [============================>.] - ETA: 0s - loss: 0.1598 - accuracy: 0.9405 ETA: 0s - loss: 0.1\n",
      "Epoch 00019: saving model to model-ep019-loss0.160-val_loss0.430.h5\n",
      "18272/18272 [==============================] - 4s 232us/sample - loss: 0.1599 - accuracy: 0.9403 - val_loss: 0.4299 - val_accuracy: 0.8874\n",
      "Epoch 20/20\n",
      "18220/18272 [============================>.] - ETA: 0s - loss: 0.1567 - accuracy: 0.9410\n",
      "Epoch 00020: saving model to model-ep020-loss0.157-val_loss0.406.h5\n",
      "18272/18272 [==============================] - 4s 231us/sample - loss: 0.1566 - accuracy: 0.9410 - val_loss: 0.4058 - val_accuracy: 0.8925\n"
     ]
    }
   ],
   "source": [
    "epochs = 20\n",
    "checkpoint_path = 'model-ep{epoch:03d}-loss{loss:.3f}-val_loss{val_loss:.3f}.h5'\n",
    "checkpoint = ModelCheckpoint(\n",
    "    checkpoint_path,\n",
    "    monitor='val_loss', \n",
    "    verbose=1,\n",
    "    save_best_only=False,\n",
    "    mode='min'\n",
    ")\n",
    "\n",
    "model = create_model()\n",
    "history = model.fit(\n",
    "    X_train,\n",
    "    y_train,\n",
    "    batch_size = 10,\n",
    "    epochs = epochs,\n",
    "    verbose = 1,\n",
    "    validation_data=(X_test, y_test),\n",
    "    #callbacks=[checkpoint]\n",
    ")"
   ]
  },
  {
   "cell_type": "raw",
   "metadata": {},
   "source": [
    "model.save('01_nn_inflated_data-09032020.h5')"
   ]
  },
  {
   "cell_type": "raw",
   "metadata": {},
   "source": [
    "# INFO: Da modificare con il filename dell'epoca migliore\n",
    "filename = 'model-ep007-loss0.246-val_loss0.305.h5'\n",
    "filename = '01_nn_inflated_data-09032020.h5'\n",
    "model = create_model()\n",
    "model = load_model(filename)"
   ]
  },
  {
   "cell_type": "code",
   "execution_count": 15,
   "metadata": {},
   "outputs": [
    {
     "data": {
      "image/png": "[encoded data removed]",
      "text/plain": [
       "<Figure size 432x288 with 1 Axes>"
      ]
     },
     "metadata": {
      "needs_background": "light"
     },
     "output_type": "display_data"
    },
    {
     "data": {
      "image/png": "[encoded data removed]",
      "text/plain": [
       "<Figure size 432x288 with 1 Axes>"
      ]
     },
     "metadata": {
      "needs_background": "light"
     },
     "output_type": "display_data"
    }
   ],
   "source": [
    "# Plot training & validation accuracy values\n",
    "epoch_range = range(1, epochs+1)\n",
    "plt.plot(epoch_range, history.history['accuracy'])\n",
    "plt.plot(epoch_range, history.history['val_accuracy'])\n",
    "plt.title('Model accuracy')\n",
    "plt.ylabel('Accuracy')\n",
    "plt.xlabel('Epoch')\n",
    "plt.legend(['Train', 'Val'], loc='upper left')\n",
    "plt.show()\n",
    "\n",
    "# Plot training & validation loss values\n",
    "plt.plot(epoch_range, history.history['loss'])\n",
    "plt.plot(epoch_range, history.history['val_loss'])\n",
    "plt.title('Model loss')\n",
    "plt.ylabel('Loss')\n",
    "plt.xlabel('Epoch')\n",
    "plt.legend(['Train', 'Val'], loc='upper left')\n",
    "plt.show()"
   ]
  },
  {
   "cell_type": "markdown",
   "metadata": {},
   "source": [
    "### Evaluate the model"
   ]
  },
  {
   "cell_type": "code",
   "execution_count": 16,
   "metadata": {},
   "outputs": [
    {
     "data": {
      "text/plain": [
       "0.8924821503569929"
      ]
     },
     "execution_count": 16,
     "metadata": {},
     "output_type": "execute_result"
    }
   ],
   "source": [
    "y_pred = model.predict_classes(X_test)\n",
    "accuracy_score(y_test, y_pred)"
   ]
  },
  {
   "cell_type": "code",
   "execution_count": 17,
   "metadata": {},
   "outputs": [
    {
     "data": {
      "text/plain": [
       "(<Figure size 360x360 with 1 Axes>,\n",
       " <matplotlib.axes._subplots.AxesSubplot at 0x1a42ac1a58>)"
      ]
     },
     "execution_count": 17,
     "metadata": {},
     "output_type": "execute_result"
    },
    {
     "data": {
      "image/png": "[encoded data removed]",
      "text/plain": [
       "<Figure size 360x360 with 1 Axes>"
      ]
     },
     "metadata": {
      "needs_background": "light"
     },
     "output_type": "display_data"
    }
   ],
   "source": [
    "class_names = ['paid', 'standard']\n",
    "font = {'size': 12}\n",
    "matplotlib.rc('font', **font)\n",
    "mat = confusion_matrix(y_test, y_pred)\n",
    "plot_confusion_matrix(conf_mat=mat, figsize=(5,5), class_names = class_names, show_normed=True)"
   ]
  },
  {
   "cell_type": "code",
   "execution_count": 18,
   "metadata": {},
   "outputs": [
    {
     "name": "stdout",
     "output_type": "stream",
     "text": [
      "              precision    recall  f1-score   support\n",
      "\n",
      "           0       0.19      0.49      0.27        97\n",
      "           1       0.98      0.91      0.94      2284\n",
      "\n",
      "    accuracy                           0.89      2381\n",
      "   macro avg       0.58      0.70      0.61      2381\n",
      "weighted avg       0.94      0.89      0.91      2381\n",
      "\n"
     ]
    }
   ],
   "source": [
    "print(classification_report(y_test, y_pred))"
   ]
  },
  {
   "cell_type": "raw",
   "metadata": {},
   "source": [
    "X_new, y_new = sm.fit_sample(X, y.ravel())\n",
    "\n",
    "clf_nn = KerasClassifier(build_fn=create_model, \n",
    "                                 epochs=10,\n",
    "                                 batch_size=10, \n",
    "                                 verbose=0)\n",
    "\n",
    "cv_score = cross_val_score(clf_nn, X_new, y_new, cv=10)"
   ]
  },
  {
   "cell_type": "markdown",
   "metadata": {},
   "source": [
    "### Considerazioni sui risultati ottenuti"
   ]
  },
  {
   "cell_type": "code",
   "execution_count": 19,
   "metadata": {},
   "outputs": [],
   "source": [
    "# df = pd.read_csv('../../dataset/influencer_dataset.csv')\n",
    "df = pd.read_csv('../../dataset-processed/pre-processed-02-brand-paid.csv')\n",
    "X = dataset.drop(labels=['target'], axis = 1)\n",
    "X_train, X_test, y_train, y_test = train_test_split(X, y, test_size = 0.2, random_state = 0, stratify = y)"
   ]
  },
  {
   "cell_type": "markdown",
   "metadata": {},
   "source": [
    "##### Valutazione dei F_paid (False Paid)\n",
    "\n",
    "Predetti come `paid` ma in realta sono `standard`"
   ]
  },
  {
   "cell_type": "code",
   "execution_count": 31,
   "metadata": {},
   "outputs": [
    {
     "name": "stdout",
     "output_type": "stream",
     "text": [
      "207\n"
     ]
    },
    {
     "data": {
      "text/plain": [
       "[8134, 3533, 10252, 7715, 9566]"
      ]
     },
     "execution_count": 31,
     "metadata": {},
     "output_type": "execute_result"
    }
   ],
   "source": [
    "false_paid = X_test[(y_test == 1) & (y_pred[:,0].T == 0)]\n",
    "print(len(false_paid))\n",
    "F_paid_index = false_paid.index.to_list()\n",
    "F_paid_index[:5]"
   ]
  },
  {
   "cell_type": "code",
   "execution_count": 56,
   "metadata": {},
   "outputs": [],
   "source": [
    "influ = pd.read_csv('../../dataset/influencer_dataset.csv')"
   ]
  },
  {
   "cell_type": "markdown",
   "metadata": {},
   "source": [
    "##### Verifica siano tutti elementi `standard`"
   ]
  },
  {
   "cell_type": "code",
   "execution_count": 58,
   "metadata": {},
   "outputs": [
    {
     "data": {
      "text/plain": [
       "standard    207\n",
       "Name: target, dtype: int64"
      ]
     },
     "execution_count": 58,
     "metadata": {},
     "output_type": "execute_result"
    }
   ],
   "source": [
    "orginal_dataset_FPaid = influ[influ.index.isin(F_paid_index)]\n",
    "orginal_dataset_FPaid['target'].value_counts()"
   ]
  },
  {
   "cell_type": "code",
   "execution_count": 59,
   "metadata": {},
   "outputs": [
    {
     "data": {
      "text/html": [
       "<div>\n",
       "<style scoped>\n",
       "    .dataframe tbody tr th:only-of-type {\n",
       "        vertical-align: middle;\n",
       "    }\n",
       "\n",
       "    .dataframe tbody tr th {\n",
       "        vertical-align: top;\n",
       "    }\n",
       "\n",
       "    .dataframe thead th {\n",
       "        text-align: right;\n",
       "    }\n",
       "</style>\n",
       "<table border=\"1\" class=\"dataframe\">\n",
       "  <thead>\n",
       "    <tr style=\"text-align: right;\">\n",
       "      <th></th>\n",
       "      <th>index</th>\n",
       "      <th>username</th>\n",
       "      <th>photo_id</th>\n",
       "      <th>followed_by</th>\n",
       "      <th>hashtag</th>\n",
       "      <th>tag</th>\n",
       "      <th>caption</th>\n",
       "      <th>is_video</th>\n",
       "      <th>timestamp</th>\n",
       "      <th>n_comment</th>\n",
       "      <th>n_likes</th>\n",
       "      <th>target</th>\n",
       "    </tr>\n",
       "  </thead>\n",
       "  <tbody>\n",
       "    <tr>\n",
       "      <th>52</th>\n",
       "      <td>52</td>\n",
       "      <td>attahalilintar</td>\n",
       "      <td>NaN</td>\n",
       "      <td>11878543</td>\n",
       "      <td>['#TanpaTapiChallenge', '#UnlimitedTanpaTapi']</td>\n",
       "      <td>['@smartfrenworld.']</td>\n",
       "      <td>Buruan join di TikTok nya aku udah cobain nih ...</td>\n",
       "      <td>True</td>\n",
       "      <td>1582186242</td>\n",
       "      <td>636</td>\n",
       "      <td>101548</td>\n",
       "      <td>standard</td>\n",
       "    </tr>\n",
       "  </tbody>\n",
       "</table>\n",
       "</div>"
      ],
      "text/plain": [
       "    index        username photo_id  followed_by  \\\n",
       "52     52  attahalilintar      NaN     11878543   \n",
       "\n",
       "                                           hashtag                   tag  \\\n",
       "52  ['#TanpaTapiChallenge', '#UnlimitedTanpaTapi']  ['@smartfrenworld.']   \n",
       "\n",
       "                                              caption  is_video   timestamp  \\\n",
       "52  Buruan join di TikTok nya aku udah cobain nih ...      True  1582186242   \n",
       "\n",
       "    n_comment  n_likes    target  \n",
       "52        636   101548  standard  "
      ]
     },
     "execution_count": 59,
     "metadata": {},
     "output_type": "execute_result"
    }
   ],
   "source": [
    "orginal_dataset_FPaid.head(1)"
   ]
  },
  {
   "cell_type": "code",
   "execution_count": 55,
   "metadata": {},
   "outputs": [
    {
     "data": {
      "text/plain": [
       "index                                                          9\n",
       "username                                              paulwalker\n",
       "photo_id                                             paulwalker9\n",
       "followed_by                                             11734105\n",
       "hashtag                                                       []\n",
       "tag                       ['@pencilsofpromise', '@meadowwalker']\n",
       "caption        “Today I am launching a campaign with to build...\n",
       "is_video                                                   False\n",
       "timestamp                                             1576199357\n",
       "n_comment                                                    365\n",
       "n_likes                                                   124552\n",
       "target                                                  standard\n",
       "Name: 8134, dtype: object"
      ]
     },
     "execution_count": 55,
     "metadata": {},
     "output_type": "execute_result"
    }
   ],
   "source": [
    "influ.loc[8134]"
   ]
  },
  {
   "cell_type": "code",
   "execution_count": 21,
   "metadata": {
    "scrolled": false
   },
   "outputs": [
    {
     "data": {
      "text/html": [
       "<div>\n",
       "<style scoped>\n",
       "    .dataframe tbody tr th:only-of-type {\n",
       "        vertical-align: middle;\n",
       "    }\n",
       "\n",
       "    .dataframe tbody tr th {\n",
       "        vertical-align: top;\n",
       "    }\n",
       "\n",
       "    .dataframe thead th {\n",
       "        text-align: right;\n",
       "    }\n",
       "</style>\n",
       "<table border=\"1\" class=\"dataframe\">\n",
       "  <thead>\n",
       "    <tr style=\"text-align: right;\">\n",
       "      <th></th>\n",
       "      <th>hashtag</th>\n",
       "      <th>tag</th>\n",
       "      <th>caption</th>\n",
       "      <th>is_video</th>\n",
       "      <th>n_comment</th>\n",
       "      <th>n_likes</th>\n",
       "      <th>target</th>\n",
       "      <th>timestamp_1</th>\n",
       "      <th>timestamp_2</th>\n",
       "      <th>timestamp_3</th>\n",
       "      <th>timestamp_4</th>\n",
       "      <th>timestamp_5</th>\n",
       "      <th>timestamp_6</th>\n",
       "    </tr>\n",
       "  </thead>\n",
       "  <tbody>\n",
       "    <tr>\n",
       "      <th>8134</th>\n",
       "      <td>0</td>\n",
       "      <td>2</td>\n",
       "      <td>45</td>\n",
       "      <td>0</td>\n",
       "      <td>0.000031</td>\n",
       "      <td>0.010615</td>\n",
       "      <td>1</td>\n",
       "      <td>0</td>\n",
       "      <td>0</td>\n",
       "      <td>0</td>\n",
       "      <td>1</td>\n",
       "      <td>0</td>\n",
       "      <td>0</td>\n",
       "    </tr>\n",
       "    <tr>\n",
       "      <th>3533</th>\n",
       "      <td>3</td>\n",
       "      <td>1</td>\n",
       "      <td>405</td>\n",
       "      <td>1</td>\n",
       "      <td>0.000250</td>\n",
       "      <td>0.030704</td>\n",
       "      <td>1</td>\n",
       "      <td>1</td>\n",
       "      <td>0</td>\n",
       "      <td>0</td>\n",
       "      <td>0</td>\n",
       "      <td>0</td>\n",
       "      <td>0</td>\n",
       "    </tr>\n",
       "    <tr>\n",
       "      <th>10252</th>\n",
       "      <td>0</td>\n",
       "      <td>1</td>\n",
       "      <td>5</td>\n",
       "      <td>0</td>\n",
       "      <td>0.000082</td>\n",
       "      <td>0.004347</td>\n",
       "      <td>1</td>\n",
       "      <td>0</td>\n",
       "      <td>0</td>\n",
       "      <td>0</td>\n",
       "      <td>1</td>\n",
       "      <td>0</td>\n",
       "      <td>0</td>\n",
       "    </tr>\n",
       "    <tr>\n",
       "      <th>7715</th>\n",
       "      <td>0</td>\n",
       "      <td>0</td>\n",
       "      <td>11</td>\n",
       "      <td>1</td>\n",
       "      <td>0.000026</td>\n",
       "      <td>0.005993</td>\n",
       "      <td>1</td>\n",
       "      <td>0</td>\n",
       "      <td>0</td>\n",
       "      <td>0</td>\n",
       "      <td>0</td>\n",
       "      <td>0</td>\n",
       "      <td>0</td>\n",
       "    </tr>\n",
       "    <tr>\n",
       "      <th>9566</th>\n",
       "      <td>1</td>\n",
       "      <td>1</td>\n",
       "      <td>33</td>\n",
       "      <td>0</td>\n",
       "      <td>0.000735</td>\n",
       "      <td>0.113040</td>\n",
       "      <td>1</td>\n",
       "      <td>0</td>\n",
       "      <td>0</td>\n",
       "      <td>1</td>\n",
       "      <td>0</td>\n",
       "      <td>0</td>\n",
       "      <td>0</td>\n",
       "    </tr>\n",
       "  </tbody>\n",
       "</table>\n",
       "</div>"
      ],
      "text/plain": [
       "       hashtag  tag  caption  is_video  n_comment   n_likes  target  \\\n",
       "8134         0    2       45         0   0.000031  0.010615       1   \n",
       "3533         3    1      405         1   0.000250  0.030704       1   \n",
       "10252        0    1        5         0   0.000082  0.004347       1   \n",
       "7715         0    0       11         1   0.000026  0.005993       1   \n",
       "9566         1    1       33         0   0.000735  0.113040       1   \n",
       "\n",
       "       timestamp_1  timestamp_2  timestamp_3  timestamp_4  timestamp_5  \\\n",
       "8134             0            0            0            1            0   \n",
       "3533             1            0            0            0            0   \n",
       "10252            0            0            0            1            0   \n",
       "7715             0            0            0            0            0   \n",
       "9566             0            0            1            0            0   \n",
       "\n",
       "       timestamp_6  \n",
       "8134             0  \n",
       "3533             0  \n",
       "10252            0  \n",
       "7715             0  \n",
       "9566             0  "
      ]
     },
     "execution_count": 21,
     "metadata": {},
     "output_type": "execute_result"
    }
   ],
   "source": [
    "df.loc[F_paid_index].head()"
   ]
  },
  {
   "cell_type": "markdown",
   "metadata": {},
   "source": [
    "##### Valutazione dei T_paid (True Paid)"
   ]
  },
  {
   "cell_type": "code",
   "execution_count": 22,
   "metadata": {},
   "outputs": [
    {
     "name": "stdout",
     "output_type": "stream",
     "text": [
      "48\n"
     ]
    },
    {
     "data": {
      "text/plain": [
       "[10935, 1824, 6473, 3427, 2858]"
      ]
     },
     "execution_count": 22,
     "metadata": {},
     "output_type": "execute_result"
    }
   ],
   "source": [
    "true_paid = X_test[(y_test == 0) & (y_pred[:,0].T == 0)]\n",
    "print(len(true_paid))\n",
    "T_paid_index = true_paid.index.to_list()\n",
    "T_paid_index[:5]"
   ]
  },
  {
   "cell_type": "code",
   "execution_count": 23,
   "metadata": {
    "scrolled": false
   },
   "outputs": [
    {
     "data": {
      "text/html": [
       "<div>\n",
       "<style scoped>\n",
       "    .dataframe tbody tr th:only-of-type {\n",
       "        vertical-align: middle;\n",
       "    }\n",
       "\n",
       "    .dataframe tbody tr th {\n",
       "        vertical-align: top;\n",
       "    }\n",
       "\n",
       "    .dataframe thead th {\n",
       "        text-align: right;\n",
       "    }\n",
       "</style>\n",
       "<table border=\"1\" class=\"dataframe\">\n",
       "  <thead>\n",
       "    <tr style=\"text-align: right;\">\n",
       "      <th></th>\n",
       "      <th>hashtag</th>\n",
       "      <th>tag</th>\n",
       "      <th>caption</th>\n",
       "      <th>is_video</th>\n",
       "      <th>n_comment</th>\n",
       "      <th>n_likes</th>\n",
       "      <th>target</th>\n",
       "      <th>timestamp_1</th>\n",
       "      <th>timestamp_2</th>\n",
       "      <th>timestamp_3</th>\n",
       "      <th>timestamp_4</th>\n",
       "      <th>timestamp_5</th>\n",
       "      <th>timestamp_6</th>\n",
       "    </tr>\n",
       "  </thead>\n",
       "  <tbody>\n",
       "    <tr>\n",
       "      <th>10935</th>\n",
       "      <td>1</td>\n",
       "      <td>1</td>\n",
       "      <td>12</td>\n",
       "      <td>0</td>\n",
       "      <td>0.000012</td>\n",
       "      <td>0.004342</td>\n",
       "      <td>0</td>\n",
       "      <td>0</td>\n",
       "      <td>0</td>\n",
       "      <td>0</td>\n",
       "      <td>0</td>\n",
       "      <td>1</td>\n",
       "      <td>0</td>\n",
       "    </tr>\n",
       "    <tr>\n",
       "      <th>1824</th>\n",
       "      <td>3</td>\n",
       "      <td>1</td>\n",
       "      <td>49</td>\n",
       "      <td>0</td>\n",
       "      <td>0.000024</td>\n",
       "      <td>0.008321</td>\n",
       "      <td>0</td>\n",
       "      <td>0</td>\n",
       "      <td>0</td>\n",
       "      <td>1</td>\n",
       "      <td>0</td>\n",
       "      <td>0</td>\n",
       "      <td>0</td>\n",
       "    </tr>\n",
       "    <tr>\n",
       "      <th>6473</th>\n",
       "      <td>3</td>\n",
       "      <td>1</td>\n",
       "      <td>33</td>\n",
       "      <td>0</td>\n",
       "      <td>0.000027</td>\n",
       "      <td>0.004920</td>\n",
       "      <td>0</td>\n",
       "      <td>0</td>\n",
       "      <td>0</td>\n",
       "      <td>1</td>\n",
       "      <td>0</td>\n",
       "      <td>0</td>\n",
       "      <td>0</td>\n",
       "    </tr>\n",
       "    <tr>\n",
       "      <th>3427</th>\n",
       "      <td>3</td>\n",
       "      <td>1</td>\n",
       "      <td>23</td>\n",
       "      <td>0</td>\n",
       "      <td>0.000118</td>\n",
       "      <td>0.027792</td>\n",
       "      <td>0</td>\n",
       "      <td>0</td>\n",
       "      <td>0</td>\n",
       "      <td>0</td>\n",
       "      <td>0</td>\n",
       "      <td>0</td>\n",
       "      <td>0</td>\n",
       "    </tr>\n",
       "    <tr>\n",
       "      <th>2858</th>\n",
       "      <td>1</td>\n",
       "      <td>1</td>\n",
       "      <td>5</td>\n",
       "      <td>0</td>\n",
       "      <td>0.000033</td>\n",
       "      <td>0.023578</td>\n",
       "      <td>0</td>\n",
       "      <td>0</td>\n",
       "      <td>0</td>\n",
       "      <td>1</td>\n",
       "      <td>0</td>\n",
       "      <td>0</td>\n",
       "      <td>0</td>\n",
       "    </tr>\n",
       "  </tbody>\n",
       "</table>\n",
       "</div>"
      ],
      "text/plain": [
       "       hashtag  tag  caption  is_video  n_comment   n_likes  target  \\\n",
       "10935        1    1       12         0   0.000012  0.004342       0   \n",
       "1824         3    1       49         0   0.000024  0.008321       0   \n",
       "6473         3    1       33         0   0.000027  0.004920       0   \n",
       "3427         3    1       23         0   0.000118  0.027792       0   \n",
       "2858         1    1        5         0   0.000033  0.023578       0   \n",
       "\n",
       "       timestamp_1  timestamp_2  timestamp_3  timestamp_4  timestamp_5  \\\n",
       "10935            0            0            0            0            1   \n",
       "1824             0            0            1            0            0   \n",
       "6473             0            0            1            0            0   \n",
       "3427             0            0            0            0            0   \n",
       "2858             0            0            1            0            0   \n",
       "\n",
       "       timestamp_6  \n",
       "10935            0  \n",
       "1824             0  \n",
       "6473             0  \n",
       "3427             0  \n",
       "2858             0  "
      ]
     },
     "execution_count": 23,
     "metadata": {},
     "output_type": "execute_result"
    }
   ],
   "source": [
    "df.loc[T_paid_index].head()"
   ]
  },
  {
   "cell_type": "markdown",
   "metadata": {},
   "source": [
    "##### Valutazione dei F_standard (False Standard)"
   ]
  },
  {
   "cell_type": "code",
   "execution_count": 24,
   "metadata": {},
   "outputs": [
    {
     "name": "stdout",
     "output_type": "stream",
     "text": [
      "49\n"
     ]
    },
    {
     "data": {
      "text/plain": [
       "[8492, 7406, 653, 3646, 9986]"
      ]
     },
     "execution_count": 24,
     "metadata": {},
     "output_type": "execute_result"
    }
   ],
   "source": [
    "false_standard = X_test[(y_test == 0) & (y_pred[:,0].T == 1)]\n",
    "print(len(false_standard))\n",
    "F_standard_index = false_standard.index.to_list()\n",
    "F_standard_index[:5]"
   ]
  },
  {
   "cell_type": "code",
   "execution_count": 25,
   "metadata": {
    "scrolled": false
   },
   "outputs": [
    {
     "data": {
      "text/html": [
       "<div>\n",
       "<style scoped>\n",
       "    .dataframe tbody tr th:only-of-type {\n",
       "        vertical-align: middle;\n",
       "    }\n",
       "\n",
       "    .dataframe tbody tr th {\n",
       "        vertical-align: top;\n",
       "    }\n",
       "\n",
       "    .dataframe thead th {\n",
       "        text-align: right;\n",
       "    }\n",
       "</style>\n",
       "<table border=\"1\" class=\"dataframe\">\n",
       "  <thead>\n",
       "    <tr style=\"text-align: right;\">\n",
       "      <th></th>\n",
       "      <th>hashtag</th>\n",
       "      <th>tag</th>\n",
       "      <th>caption</th>\n",
       "      <th>is_video</th>\n",
       "      <th>n_comment</th>\n",
       "      <th>n_likes</th>\n",
       "      <th>target</th>\n",
       "      <th>timestamp_1</th>\n",
       "      <th>timestamp_2</th>\n",
       "      <th>timestamp_3</th>\n",
       "      <th>timestamp_4</th>\n",
       "      <th>timestamp_5</th>\n",
       "      <th>timestamp_6</th>\n",
       "    </tr>\n",
       "  </thead>\n",
       "  <tbody>\n",
       "    <tr>\n",
       "      <th>8492</th>\n",
       "      <td>1</td>\n",
       "      <td>0</td>\n",
       "      <td>19</td>\n",
       "      <td>1</td>\n",
       "      <td>0.000024</td>\n",
       "      <td>0.009362</td>\n",
       "      <td>0</td>\n",
       "      <td>0</td>\n",
       "      <td>0</td>\n",
       "      <td>0</td>\n",
       "      <td>0</td>\n",
       "      <td>0</td>\n",
       "      <td>0</td>\n",
       "    </tr>\n",
       "    <tr>\n",
       "      <th>7406</th>\n",
       "      <td>2</td>\n",
       "      <td>2</td>\n",
       "      <td>86</td>\n",
       "      <td>0</td>\n",
       "      <td>0.003996</td>\n",
       "      <td>0.116902</td>\n",
       "      <td>0</td>\n",
       "      <td>0</td>\n",
       "      <td>1</td>\n",
       "      <td>0</td>\n",
       "      <td>0</td>\n",
       "      <td>0</td>\n",
       "      <td>0</td>\n",
       "    </tr>\n",
       "    <tr>\n",
       "      <th>653</th>\n",
       "      <td>0</td>\n",
       "      <td>0</td>\n",
       "      <td>15</td>\n",
       "      <td>0</td>\n",
       "      <td>0.000109</td>\n",
       "      <td>0.022363</td>\n",
       "      <td>0</td>\n",
       "      <td>0</td>\n",
       "      <td>0</td>\n",
       "      <td>0</td>\n",
       "      <td>0</td>\n",
       "      <td>0</td>\n",
       "      <td>0</td>\n",
       "    </tr>\n",
       "    <tr>\n",
       "      <th>3646</th>\n",
       "      <td>2</td>\n",
       "      <td>2</td>\n",
       "      <td>13</td>\n",
       "      <td>0</td>\n",
       "      <td>0.000506</td>\n",
       "      <td>0.166504</td>\n",
       "      <td>0</td>\n",
       "      <td>0</td>\n",
       "      <td>1</td>\n",
       "      <td>0</td>\n",
       "      <td>0</td>\n",
       "      <td>0</td>\n",
       "      <td>0</td>\n",
       "    </tr>\n",
       "    <tr>\n",
       "      <th>9986</th>\n",
       "      <td>5</td>\n",
       "      <td>1</td>\n",
       "      <td>283</td>\n",
       "      <td>0</td>\n",
       "      <td>0.000027</td>\n",
       "      <td>0.010415</td>\n",
       "      <td>0</td>\n",
       "      <td>0</td>\n",
       "      <td>0</td>\n",
       "      <td>0</td>\n",
       "      <td>0</td>\n",
       "      <td>1</td>\n",
       "      <td>0</td>\n",
       "    </tr>\n",
       "  </tbody>\n",
       "</table>\n",
       "</div>"
      ],
      "text/plain": [
       "      hashtag  tag  caption  is_video  n_comment   n_likes  target  \\\n",
       "8492        1    0       19         1   0.000024  0.009362       0   \n",
       "7406        2    2       86         0   0.003996  0.116902       0   \n",
       "653         0    0       15         0   0.000109  0.022363       0   \n",
       "3646        2    2       13         0   0.000506  0.166504       0   \n",
       "9986        5    1      283         0   0.000027  0.010415       0   \n",
       "\n",
       "      timestamp_1  timestamp_2  timestamp_3  timestamp_4  timestamp_5  \\\n",
       "8492            0            0            0            0            0   \n",
       "7406            0            1            0            0            0   \n",
       "653             0            0            0            0            0   \n",
       "3646            0            1            0            0            0   \n",
       "9986            0            0            0            0            1   \n",
       "\n",
       "      timestamp_6  \n",
       "8492            0  \n",
       "7406            0  \n",
       "653             0  \n",
       "3646            0  \n",
       "9986            0  "
      ]
     },
     "execution_count": 25,
     "metadata": {},
     "output_type": "execute_result"
    }
   ],
   "source": [
    "df.loc[F_standard_index].head()"
   ]
  },
  {
   "cell_type": "code",
   "execution_count": null,
   "metadata": {},
   "outputs": [],
   "source": []
  }
 ],
 "metadata": {
  "kernelspec": {
   "display_name": "Python 3",
   "language": "python",
   "name": "python3"
  },
  "language_info": {
   "codemirror_mode": {
    "name": "ipython",
    "version": 3
   },
   "file_extension": ".py",
   "mimetype": "text/x-python",
   "name": "python",
   "nbconvert_exporter": "python",
   "pygments_lexer": "ipython3",
   "version": "3.6.10"
  }
 },
 "nbformat": 4,
 "nbformat_minor": 2
}
