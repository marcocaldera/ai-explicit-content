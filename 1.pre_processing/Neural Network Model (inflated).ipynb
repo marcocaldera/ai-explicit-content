{
 "cells": [
  {
   "cell_type": "markdown",
   "metadata": {},
   "source": [
    "## Neural Network model (inflated data)"
   ]
  },
  {
   "cell_type": "code",
   "execution_count": 1,
   "metadata": {},
   "outputs": [],
   "source": [
    "import numpy as np\n",
    "import pandas as pd\n",
    "from sklearn.model_selection import train_test_split\n",
    "from sklearn.preprocessing import StandardScaler\n",
    "from mlxtend.plotting import plot_confusion_matrix\n",
    "from sklearn.metrics import confusion_matrix, accuracy_score, classification_report\n",
    "import matplotlib\n",
    "from sklearn.model_selection import cross_val_score"
   ]
  },
  {
   "cell_type": "code",
   "execution_count": 2,
   "metadata": {
    "scrolled": true
   },
   "outputs": [
    {
     "name": "stdout",
     "output_type": "stream",
     "text": [
      "Numero di esempi:  11905\n"
     ]
    },
    {
     "data": {
      "text/html": [
       "<div>\n",
       "<style scoped>\n",
       "    .dataframe tbody tr th:only-of-type {\n",
       "        vertical-align: middle;\n",
       "    }\n",
       "\n",
       "    .dataframe tbody tr th {\n",
       "        vertical-align: top;\n",
       "    }\n",
       "\n",
       "    .dataframe thead th {\n",
       "        text-align: right;\n",
       "    }\n",
       "</style>\n",
       "<table border=\"1\" class=\"dataframe\">\n",
       "  <thead>\n",
       "    <tr style=\"text-align: right;\">\n",
       "      <th></th>\n",
       "      <th>hashtag</th>\n",
       "      <th>tag</th>\n",
       "      <th>caption</th>\n",
       "      <th>is_video</th>\n",
       "      <th>n_comment</th>\n",
       "      <th>n_likes</th>\n",
       "      <th>target</th>\n",
       "      <th>timestamp_1</th>\n",
       "      <th>timestamp_2</th>\n",
       "      <th>timestamp_3</th>\n",
       "      <th>timestamp_4</th>\n",
       "      <th>timestamp_5</th>\n",
       "      <th>timestamp_6</th>\n",
       "    </tr>\n",
       "  </thead>\n",
       "  <tbody>\n",
       "    <tr>\n",
       "      <th>0</th>\n",
       "      <td>0</td>\n",
       "      <td>0</td>\n",
       "      <td>52</td>\n",
       "      <td>0</td>\n",
       "      <td>0.000116</td>\n",
       "      <td>0.042888</td>\n",
       "      <td>1</td>\n",
       "      <td>0</td>\n",
       "      <td>0</td>\n",
       "      <td>0</td>\n",
       "      <td>1</td>\n",
       "      <td>0</td>\n",
       "      <td>0</td>\n",
       "    </tr>\n",
       "    <tr>\n",
       "      <th>1</th>\n",
       "      <td>0</td>\n",
       "      <td>0</td>\n",
       "      <td>44</td>\n",
       "      <td>0</td>\n",
       "      <td>0.000174</td>\n",
       "      <td>0.057932</td>\n",
       "      <td>1</td>\n",
       "      <td>0</td>\n",
       "      <td>1</td>\n",
       "      <td>0</td>\n",
       "      <td>0</td>\n",
       "      <td>0</td>\n",
       "      <td>0</td>\n",
       "    </tr>\n",
       "    <tr>\n",
       "      <th>2</th>\n",
       "      <td>2</td>\n",
       "      <td>4</td>\n",
       "      <td>16</td>\n",
       "      <td>1</td>\n",
       "      <td>0.000044</td>\n",
       "      <td>0.019899</td>\n",
       "      <td>1</td>\n",
       "      <td>0</td>\n",
       "      <td>0</td>\n",
       "      <td>1</td>\n",
       "      <td>0</td>\n",
       "      <td>0</td>\n",
       "      <td>0</td>\n",
       "    </tr>\n",
       "    <tr>\n",
       "      <th>3</th>\n",
       "      <td>0</td>\n",
       "      <td>0</td>\n",
       "      <td>1</td>\n",
       "      <td>1</td>\n",
       "      <td>0.000256</td>\n",
       "      <td>0.042174</td>\n",
       "      <td>1</td>\n",
       "      <td>0</td>\n",
       "      <td>1</td>\n",
       "      <td>0</td>\n",
       "      <td>0</td>\n",
       "      <td>0</td>\n",
       "      <td>0</td>\n",
       "    </tr>\n",
       "    <tr>\n",
       "      <th>4</th>\n",
       "      <td>0</td>\n",
       "      <td>1</td>\n",
       "      <td>26</td>\n",
       "      <td>0</td>\n",
       "      <td>0.000099</td>\n",
       "      <td>0.042953</td>\n",
       "      <td>1</td>\n",
       "      <td>1</td>\n",
       "      <td>0</td>\n",
       "      <td>0</td>\n",
       "      <td>0</td>\n",
       "      <td>0</td>\n",
       "      <td>0</td>\n",
       "    </tr>\n",
       "  </tbody>\n",
       "</table>\n",
       "</div>"
      ],
      "text/plain": [
       "   hashtag  tag  caption  is_video  n_comment   n_likes  target  timestamp_1  \\\n",
       "0        0    0       52         0   0.000116  0.042888       1            0   \n",
       "1        0    0       44         0   0.000174  0.057932       1            0   \n",
       "2        2    4       16         1   0.000044  0.019899       1            0   \n",
       "3        0    0        1         1   0.000256  0.042174       1            0   \n",
       "4        0    1       26         0   0.000099  0.042953       1            1   \n",
       "\n",
       "   timestamp_2  timestamp_3  timestamp_4  timestamp_5  timestamp_6  \n",
       "0            0            0            1            0            0  \n",
       "1            1            0            0            0            0  \n",
       "2            0            1            0            0            0  \n",
       "3            1            0            0            0            0  \n",
       "4            0            0            0            0            0  "
      ]
     },
     "execution_count": 2,
     "metadata": {},
     "output_type": "execute_result"
    }
   ],
   "source": [
    "dataset = pd.read_csv('../dataset-processed/pre-processed-01.csv')\n",
    "print(\"Numero di esempi: \", len(dataset))\n",
    "dataset.head()"
   ]
  },
  {
   "cell_type": "markdown",
   "metadata": {},
   "source": [
    "### Caratteristiche iniziati del dataset"
   ]
  },
  {
   "cell_type": "code",
   "execution_count": 3,
   "metadata": {
    "scrolled": true
   },
   "outputs": [
    {
     "data": {
      "text/plain": [
       "1    11645\n",
       "0      260\n",
       "Name: target, dtype: int64"
      ]
     },
     "execution_count": 3,
     "metadata": {},
     "output_type": "execute_result"
    }
   ],
   "source": [
    "dataset['target'].value_counts()"
   ]
  },
  {
   "cell_type": "code",
   "execution_count": 4,
   "metadata": {},
   "outputs": [],
   "source": [
    "X = dataset.drop(labels=['target'], axis = 1)\n",
    "y = dataset['target']"
   ]
  },
  {
   "cell_type": "code",
   "execution_count": 5,
   "metadata": {
    "scrolled": true
   },
   "outputs": [
    {
     "data": {
      "text/html": [
       "<div>\n",
       "<style scoped>\n",
       "    .dataframe tbody tr th:only-of-type {\n",
       "        vertical-align: middle;\n",
       "    }\n",
       "\n",
       "    .dataframe tbody tr th {\n",
       "        vertical-align: top;\n",
       "    }\n",
       "\n",
       "    .dataframe thead th {\n",
       "        text-align: right;\n",
       "    }\n",
       "</style>\n",
       "<table border=\"1\" class=\"dataframe\">\n",
       "  <thead>\n",
       "    <tr style=\"text-align: right;\">\n",
       "      <th></th>\n",
       "      <th>hashtag</th>\n",
       "      <th>tag</th>\n",
       "      <th>caption</th>\n",
       "      <th>is_video</th>\n",
       "      <th>n_comment</th>\n",
       "      <th>n_likes</th>\n",
       "      <th>timestamp_1</th>\n",
       "      <th>timestamp_2</th>\n",
       "      <th>timestamp_3</th>\n",
       "      <th>timestamp_4</th>\n",
       "      <th>timestamp_5</th>\n",
       "      <th>timestamp_6</th>\n",
       "    </tr>\n",
       "  </thead>\n",
       "  <tbody>\n",
       "    <tr>\n",
       "      <th>0</th>\n",
       "      <td>0</td>\n",
       "      <td>0</td>\n",
       "      <td>52</td>\n",
       "      <td>0</td>\n",
       "      <td>0.000116</td>\n",
       "      <td>0.042888</td>\n",
       "      <td>0</td>\n",
       "      <td>0</td>\n",
       "      <td>0</td>\n",
       "      <td>1</td>\n",
       "      <td>0</td>\n",
       "      <td>0</td>\n",
       "    </tr>\n",
       "    <tr>\n",
       "      <th>1</th>\n",
       "      <td>0</td>\n",
       "      <td>0</td>\n",
       "      <td>44</td>\n",
       "      <td>0</td>\n",
       "      <td>0.000174</td>\n",
       "      <td>0.057932</td>\n",
       "      <td>0</td>\n",
       "      <td>1</td>\n",
       "      <td>0</td>\n",
       "      <td>0</td>\n",
       "      <td>0</td>\n",
       "      <td>0</td>\n",
       "    </tr>\n",
       "  </tbody>\n",
       "</table>\n",
       "</div>"
      ],
      "text/plain": [
       "   hashtag  tag  caption  is_video  n_comment   n_likes  timestamp_1  \\\n",
       "0        0    0       52         0   0.000116  0.042888            0   \n",
       "1        0    0       44         0   0.000174  0.057932            0   \n",
       "\n",
       "   timestamp_2  timestamp_3  timestamp_4  timestamp_5  timestamp_6  \n",
       "0            0            0            1            0            0  \n",
       "1            1            0            0            0            0  "
      ]
     },
     "execution_count": 5,
     "metadata": {},
     "output_type": "execute_result"
    }
   ],
   "source": [
    "X.head(2)"
   ]
  },
  {
   "cell_type": "code",
   "execution_count": 6,
   "metadata": {},
   "outputs": [],
   "source": [
    "X_train, X_test, y_train, y_test = train_test_split(X, y, test_size = 0.2, random_state = 0, stratify = y)"
   ]
  },
  {
   "cell_type": "code",
   "execution_count": 7,
   "metadata": {},
   "outputs": [],
   "source": [
    "X_test_pandas = X_test"
   ]
  },
  {
   "cell_type": "code",
   "execution_count": 8,
   "metadata": {},
   "outputs": [
    {
     "data": {
      "text/html": [
       "<div>\n",
       "<style scoped>\n",
       "    .dataframe tbody tr th:only-of-type {\n",
       "        vertical-align: middle;\n",
       "    }\n",
       "\n",
       "    .dataframe tbody tr th {\n",
       "        vertical-align: top;\n",
       "    }\n",
       "\n",
       "    .dataframe thead th {\n",
       "        text-align: right;\n",
       "    }\n",
       "</style>\n",
       "<table border=\"1\" class=\"dataframe\">\n",
       "  <thead>\n",
       "    <tr style=\"text-align: right;\">\n",
       "      <th></th>\n",
       "      <th>hashtag</th>\n",
       "      <th>tag</th>\n",
       "      <th>caption</th>\n",
       "      <th>is_video</th>\n",
       "      <th>n_comment</th>\n",
       "      <th>n_likes</th>\n",
       "      <th>timestamp_1</th>\n",
       "      <th>timestamp_2</th>\n",
       "      <th>timestamp_3</th>\n",
       "      <th>timestamp_4</th>\n",
       "      <th>timestamp_5</th>\n",
       "      <th>timestamp_6</th>\n",
       "    </tr>\n",
       "  </thead>\n",
       "  <tbody>\n",
       "    <tr>\n",
       "      <th>6212</th>\n",
       "      <td>0</td>\n",
       "      <td>2</td>\n",
       "      <td>8</td>\n",
       "      <td>1</td>\n",
       "      <td>0.000044</td>\n",
       "      <td>0.004897</td>\n",
       "      <td>0</td>\n",
       "      <td>0</td>\n",
       "      <td>0</td>\n",
       "      <td>0</td>\n",
       "      <td>0</td>\n",
       "      <td>0</td>\n",
       "    </tr>\n",
       "    <tr>\n",
       "      <th>11010</th>\n",
       "      <td>0</td>\n",
       "      <td>0</td>\n",
       "      <td>21</td>\n",
       "      <td>1</td>\n",
       "      <td>0.000487</td>\n",
       "      <td>0.025287</td>\n",
       "      <td>0</td>\n",
       "      <td>0</td>\n",
       "      <td>0</td>\n",
       "      <td>1</td>\n",
       "      <td>0</td>\n",
       "      <td>0</td>\n",
       "    </tr>\n",
       "  </tbody>\n",
       "</table>\n",
       "</div>"
      ],
      "text/plain": [
       "       hashtag  tag  caption  is_video  n_comment   n_likes  timestamp_1  \\\n",
       "6212         0    2        8         1   0.000044  0.004897            0   \n",
       "11010        0    0       21         1   0.000487  0.025287            0   \n",
       "\n",
       "       timestamp_2  timestamp_3  timestamp_4  timestamp_5  timestamp_6  \n",
       "6212             0            0            0            0            0  \n",
       "11010            0            0            1            0            0  "
      ]
     },
     "execution_count": 8,
     "metadata": {},
     "output_type": "execute_result"
    }
   ],
   "source": [
    "X_test.head(2)"
   ]
  },
  {
   "cell_type": "raw",
   "metadata": {},
   "source": [
    "X_test_index = X_test.index"
   ]
  },
  {
   "cell_type": "code",
   "execution_count": 9,
   "metadata": {},
   "outputs": [],
   "source": [
    "# z-score\n",
    "scaler = StandardScaler()\n",
    "X_train = scaler.fit_transform(X_train)\n",
    "X_test = scaler.fit_transform(X_test)"
   ]
  },
  {
   "cell_type": "markdown",
   "metadata": {},
   "source": [
    "### Inflate minority class\n",
    "\n",
    "\"By oversampling only on the training data, none of the information in the validation data is being used to create synthetic observations. So these results should be generalizable. Let’s see if that’s true.\"\n",
    "\n",
    "Classi:\n",
    "- paid = 0\n",
    "- standard = 1"
   ]
  },
  {
   "cell_type": "code",
   "execution_count": 10,
   "metadata": {},
   "outputs": [
    {
     "name": "stderr",
     "output_type": "stream",
     "text": [
      "Using TensorFlow backend.\n"
     ]
    }
   ],
   "source": [
    "from imblearn.over_sampling import SMOTE"
   ]
  },
  {
   "cell_type": "code",
   "execution_count": 11,
   "metadata": {},
   "outputs": [
    {
     "data": {
      "text/plain": [
       "((18632, 12), (18632,))"
      ]
     },
     "execution_count": 11,
     "metadata": {},
     "output_type": "execute_result"
    }
   ],
   "source": [
    "sm = SMOTE(random_state=2)\n",
    "X_train, y_train = sm.fit_sample(X_train, y_train.ravel())\n",
    "X_train.shape, y_train.shape"
   ]
  },
  {
   "cell_type": "code",
   "execution_count": 12,
   "metadata": {},
   "outputs": [
    {
     "name": "stdout",
     "output_type": "stream",
     "text": [
      "Esempi training standard:  9316\n",
      "Esempi training paid:  9316\n"
     ]
    }
   ],
   "source": [
    "print('Esempi training standard: ', sum(y_train == 1))\n",
    "print('Esempi training paid: ', len(X_train) - sum((y_train == 0)))"
   ]
  },
  {
   "cell_type": "code",
   "execution_count": 13,
   "metadata": {},
   "outputs": [
    {
     "name": "stdout",
     "output_type": "stream",
     "text": [
      "Esempi test standard:  2329\n",
      "Esempi test paid:  52\n"
     ]
    }
   ],
   "source": [
    "print('Esempi test standard: ', sum(y_test == 1))\n",
    "print('Esempi test paid: ', sum(y_test == 0))"
   ]
  },
  {
   "cell_type": "markdown",
   "metadata": {},
   "source": [
    "### Neural network model"
   ]
  },
  {
   "cell_type": "code",
   "execution_count": 14,
   "metadata": {},
   "outputs": [
    {
     "name": "stdout",
     "output_type": "stream",
     "text": [
      "2.1.0\n"
     ]
    }
   ],
   "source": [
    "import tensorflow as tf\n",
    "from tensorflow import keras\n",
    "from tensorflow.keras import Sequential\n",
    "from tensorflow.keras.layers import Flatten, Dense\n",
    "from tensorflow.keras.wrappers.scikit_learn import KerasClassifier\n",
    "print(tf.__version__)"
   ]
  },
  {
   "cell_type": "code",
   "execution_count": 15,
   "metadata": {},
   "outputs": [],
   "source": [
    "def create_model():\n",
    "    model = Sequential()\n",
    "    model.add(Dense(X.shape[1], activation=\"relu\", input_dim = X.shape[1]))\n",
    "    model.add(Dense(512, activation=\"relu\"))\n",
    "    model.add(Dense(256, activation=\"relu\"))\n",
    "    model.add(Dense(128, activation=\"relu\"))\n",
    "    model.add(Dense(1, activation='sigmoid'))\n",
    "    \n",
    "    model.compile(optimizer = \"adam\", loss = 'binary_crossentropy', metrics=['accuracy'])\n",
    "    \n",
    "    return model"
   ]
  },
  {
   "cell_type": "code",
   "execution_count": 16,
   "metadata": {
    "scrolled": false
   },
   "outputs": [
    {
     "name": "stdout",
     "output_type": "stream",
     "text": [
      "Train on 18632 samples\n",
      "Epoch 1/10\n",
      "18632/18632 [==============================] - 4s 213us/sample - loss: 0.3983 - accuracy: 0.8141\n",
      "Epoch 2/10\n",
      "18632/18632 [==============================] - 4s 194us/sample - loss: 0.2685 - accuracy: 0.8928\n",
      "Epoch 3/10\n",
      "18632/18632 [==============================] - 4s 196us/sample - loss: 0.2312 - accuracy: 0.9109\n",
      "Epoch 4/10\n",
      "18632/18632 [==============================] - 4s 196us/sample - loss: 0.2068 - accuracy: 0.9240\n",
      "Epoch 5/10\n",
      "18632/18632 [==============================] - 4s 195us/sample - loss: 0.1920 - accuracy: 0.9293\n",
      "Epoch 6/10\n",
      "18632/18632 [==============================] - 4s 203us/sample - loss: 0.1798 - accuracy: 0.9351\n",
      "Epoch 7/10\n",
      "18632/18632 [==============================] - 4s 205us/sample - loss: 0.1698 - accuracy: 0.9382\n",
      "Epoch 8/10\n",
      "18632/18632 [==============================] - 4s 197us/sample - loss: 0.1583 - accuracy: 0.9438\n",
      "Epoch 9/10\n",
      "18632/18632 [==============================] - 4s 196us/sample - loss: 0.1545 - accuracy: 0.9447\n",
      "Epoch 10/10\n",
      "18632/18632 [==============================] - 4s 195us/sample - loss: 0.1496 - accuracy: 0.9471\n"
     ]
    }
   ],
   "source": [
    "model = create_model()\n",
    "history = model.fit(X_train, y_train, batch_size = 10, epochs = 10, verbose = 1)"
   ]
  },
  {
   "cell_type": "markdown",
   "metadata": {},
   "source": [
    "### Evaluate the model"
   ]
  },
  {
   "cell_type": "code",
   "execution_count": 17,
   "metadata": {},
   "outputs": [
    {
     "data": {
      "text/plain": [
       "0.9143217135657287"
      ]
     },
     "execution_count": 17,
     "metadata": {},
     "output_type": "execute_result"
    }
   ],
   "source": [
    "y_pred = model.predict_classes(X_test)\n",
    "accuracy_score(y_test, y_pred)"
   ]
  },
  {
   "cell_type": "code",
   "execution_count": 18,
   "metadata": {},
   "outputs": [
    {
     "data": {
      "text/plain": [
       "(<Figure size 360x360 with 1 Axes>,\n",
       " <matplotlib.axes._subplots.AxesSubplot at 0x1413e0748>)"
      ]
     },
     "execution_count": 18,
     "metadata": {},
     "output_type": "execute_result"
    },
    {
     "data": {
      "image/png": "[encoded data removed]",
      "text/plain": [
       "<Figure size 360x360 with 1 Axes>"
      ]
     },
     "metadata": {
      "needs_background": "light"
     },
     "output_type": "display_data"
    }
   ],
   "source": [
    "class_names = ['paid', 'standard']\n",
    "font = {'size': 12}\n",
    "matplotlib.rc('font', **font)\n",
    "mat = confusion_matrix(y_test, y_pred)\n",
    "plot_confusion_matrix(conf_mat=mat, figsize=(5,5), class_names = class_names, show_normed=True)"
   ]
  },
  {
   "cell_type": "code",
   "execution_count": 19,
   "metadata": {},
   "outputs": [
    {
     "name": "stdout",
     "output_type": "stream",
     "text": [
      "              precision    recall  f1-score   support\n",
      "\n",
      "           0       0.14      0.56      0.22        52\n",
      "           1       0.99      0.92      0.95      2329\n",
      "\n",
      "    accuracy                           0.91      2381\n",
      "   macro avg       0.56      0.74      0.59      2381\n",
      "weighted avg       0.97      0.91      0.94      2381\n",
      "\n"
     ]
    }
   ],
   "source": [
    "print(classification_report(y_test, y_pred))"
   ]
  },
  {
   "cell_type": "raw",
   "metadata": {},
   "source": [
    "X_new, y_new = sm.fit_sample(X, y.ravel())\n",
    "\n",
    "clf_nn = KerasClassifier(build_fn=create_model, \n",
    "                                 epochs=10,\n",
    "                                 batch_size=10, \n",
    "                                 verbose=0)\n",
    "\n",
    "cv_score = cross_val_score(clf_nn, X_new, y_new, cv=10)"
   ]
  },
  {
   "cell_type": "markdown",
   "metadata": {},
   "source": [
    "### Considerazioni sui risultati ottenuti"
   ]
  },
  {
   "cell_type": "code",
   "execution_count": 20,
   "metadata": {},
   "outputs": [],
   "source": [
    "df = pd.read_csv('../dataset/influencer_dataset.csv')\n",
    "X_test = X_test_pandas"
   ]
  },
  {
   "cell_type": "markdown",
   "metadata": {},
   "source": [
    "##### Valutazione dei F_paid (False Paid)"
   ]
  },
  {
   "cell_type": "code",
   "execution_count": 21,
   "metadata": {},
   "outputs": [
    {
     "name": "stdout",
     "output_type": "stream",
     "text": [
      "181\n"
     ]
    },
    {
     "data": {
      "text/plain": [
       "[8345, 10825, 9979, 6695, 981]"
      ]
     },
     "execution_count": 21,
     "metadata": {},
     "output_type": "execute_result"
    }
   ],
   "source": [
    "false_paid = X_test[(y_test == 1) & (y_pred[:,0].T == 0)]\n",
    "print(len(false_paid))\n",
    "F_paid_index = false_paid.index.to_list()\n",
    "F_paid_index[:5]"
   ]
  },
  {
   "cell_type": "code",
   "execution_count": 22,
   "metadata": {
    "scrolled": false
   },
   "outputs": [
    {
     "data": {
      "text/html": [
       "<div>\n",
       "<style scoped>\n",
       "    .dataframe tbody tr th:only-of-type {\n",
       "        vertical-align: middle;\n",
       "    }\n",
       "\n",
       "    .dataframe tbody tr th {\n",
       "        vertical-align: top;\n",
       "    }\n",
       "\n",
       "    .dataframe thead th {\n",
       "        text-align: right;\n",
       "    }\n",
       "</style>\n",
       "<table border=\"1\" class=\"dataframe\">\n",
       "  <thead>\n",
       "    <tr style=\"text-align: right;\">\n",
       "      <th></th>\n",
       "      <th>index</th>\n",
       "      <th>username</th>\n",
       "      <th>photo_id</th>\n",
       "      <th>followed_by</th>\n",
       "      <th>hashtag</th>\n",
       "      <th>tag</th>\n",
       "      <th>caption</th>\n",
       "      <th>is_video</th>\n",
       "      <th>timestamp</th>\n",
       "      <th>n_comment</th>\n",
       "      <th>n_likes</th>\n",
       "      <th>target</th>\n",
       "    </tr>\n",
       "  </thead>\n",
       "  <tbody>\n",
       "    <tr>\n",
       "      <th>8345</th>\n",
       "      <td>4</td>\n",
       "      <td>taylorswift</td>\n",
       "      <td>taylorswift4</td>\n",
       "      <td>127156663</td>\n",
       "      <td>['#MissAmericana']</td>\n",
       "      <td>['@netflixfilm', '@lanawilson']</td>\n",
       "      <td>So it’s finally out is on and I’m really excit...</td>\n",
       "      <td>False</td>\n",
       "      <td>1580475734</td>\n",
       "      <td>0</td>\n",
       "      <td>1506117</td>\n",
       "      <td>standard</td>\n",
       "    </tr>\n",
       "    <tr>\n",
       "      <th>10825</th>\n",
       "      <td>0</td>\n",
       "      <td>paollaoliveirareal</td>\n",
       "      <td>paollaoliveirareal0</td>\n",
       "      <td>24801482</td>\n",
       "      <td>['#AmeSemModeração']</td>\n",
       "      <td>['@useamedigital.']</td>\n",
       "      <td>Eu amei essa cabeça feita pela Trazendo o colo...</td>\n",
       "      <td>False</td>\n",
       "      <td>1582386747</td>\n",
       "      <td>245</td>\n",
       "      <td>51204</td>\n",
       "      <td>standard</td>\n",
       "    </tr>\n",
       "    <tr>\n",
       "      <th>9979</th>\n",
       "      <td>6</td>\n",
       "      <td>annehathaway</td>\n",
       "      <td>annehathaway6</td>\n",
       "      <td>16725022</td>\n",
       "      <td>['#DarkWaters']</td>\n",
       "      <td>['@markruffalo,', '@Observer.']</td>\n",
       "      <td>I know my posting this will make you cringe so...</td>\n",
       "      <td>False</td>\n",
       "      <td>1574448596</td>\n",
       "      <td>253</td>\n",
       "      <td>113770</td>\n",
       "      <td>standard</td>\n",
       "    </tr>\n",
       "    <tr>\n",
       "      <th>6695</th>\n",
       "      <td>10</td>\n",
       "      <td>sonamkapoor</td>\n",
       "      <td>NaN</td>\n",
       "      <td>25645813</td>\n",
       "      <td>['#LAtheKapoorWay', '#discoverLA']</td>\n",
       "      <td>['@aviatornation', '@RheaKapoor', '@discoverLA']</td>\n",
       "      <td>Shopping has always been my guilty pleasure an...</td>\n",
       "      <td>True</td>\n",
       "      <td>1581595286</td>\n",
       "      <td>322</td>\n",
       "      <td>49037</td>\n",
       "      <td>standard</td>\n",
       "    </tr>\n",
       "    <tr>\n",
       "      <th>981</th>\n",
       "      <td>983</td>\n",
       "      <td>ayeshacurry</td>\n",
       "      <td>ayeshacurry11</td>\n",
       "      <td>7199502</td>\n",
       "      <td>['#exhibitionistmascara', '#ExhibitionistMasca...</td>\n",
       "      <td>['@covergirl']</td>\n",
       "      <td>NEW DROP 🚨 alert Check out my new commerial We...</td>\n",
       "      <td>False</td>\n",
       "      <td>1581442665</td>\n",
       "      <td>704</td>\n",
       "      <td>119217</td>\n",
       "      <td>standard</td>\n",
       "    </tr>\n",
       "  </tbody>\n",
       "</table>\n",
       "</div>"
      ],
      "text/plain": [
       "       index            username             photo_id  followed_by  \\\n",
       "8345       4         taylorswift         taylorswift4    127156663   \n",
       "10825      0  paollaoliveirareal  paollaoliveirareal0     24801482   \n",
       "9979       6        annehathaway        annehathaway6     16725022   \n",
       "6695      10         sonamkapoor                  NaN     25645813   \n",
       "981      983         ayeshacurry        ayeshacurry11      7199502   \n",
       "\n",
       "                                                 hashtag  \\\n",
       "8345                                  ['#MissAmericana']   \n",
       "10825                               ['#AmeSemModeração']   \n",
       "9979                                     ['#DarkWaters']   \n",
       "6695                  ['#LAtheKapoorWay', '#discoverLA']   \n",
       "981    ['#exhibitionistmascara', '#ExhibitionistMasca...   \n",
       "\n",
       "                                                    tag  \\\n",
       "8345                    ['@netflixfilm', '@lanawilson']   \n",
       "10825                               ['@useamedigital.']   \n",
       "9979                    ['@markruffalo,', '@Observer.']   \n",
       "6695   ['@aviatornation', '@RheaKapoor', '@discoverLA']   \n",
       "981                                      ['@covergirl']   \n",
       "\n",
       "                                                 caption  is_video  \\\n",
       "8345   So it’s finally out is on and I’m really excit...     False   \n",
       "10825  Eu amei essa cabeça feita pela Trazendo o colo...     False   \n",
       "9979   I know my posting this will make you cringe so...     False   \n",
       "6695   Shopping has always been my guilty pleasure an...      True   \n",
       "981    NEW DROP 🚨 alert Check out my new commerial We...     False   \n",
       "\n",
       "        timestamp  n_comment  n_likes    target  \n",
       "8345   1580475734          0  1506117  standard  \n",
       "10825  1582386747        245    51204  standard  \n",
       "9979   1574448596        253   113770  standard  \n",
       "6695   1581595286        322    49037  standard  \n",
       "981    1581442665        704   119217  standard  "
      ]
     },
     "execution_count": 22,
     "metadata": {},
     "output_type": "execute_result"
    }
   ],
   "source": [
    "df.loc[F_paid_index].head()"
   ]
  },
  {
   "cell_type": "markdown",
   "metadata": {},
   "source": [
    "##### Valutazione dei T_paid (True Paid)"
   ]
  },
  {
   "cell_type": "code",
   "execution_count": 23,
   "metadata": {},
   "outputs": [
    {
     "name": "stdout",
     "output_type": "stream",
     "text": [
      "29\n"
     ]
    },
    {
     "data": {
      "text/plain": [
       "[8087, 2680, 11064, 9791, 3512]"
      ]
     },
     "execution_count": 23,
     "metadata": {},
     "output_type": "execute_result"
    }
   ],
   "source": [
    "true_paid = X_test[(y_test == 0) & (y_pred[:,0].T == 0)]\n",
    "print(len(true_paid))\n",
    "T_paid_index = true_paid.index.to_list()\n",
    "T_paid_index[:5]"
   ]
  },
  {
   "cell_type": "code",
   "execution_count": 24,
   "metadata": {
    "scrolled": false
   },
   "outputs": [
    {
     "data": {
      "text/html": [
       "<div>\n",
       "<style scoped>\n",
       "    .dataframe tbody tr th:only-of-type {\n",
       "        vertical-align: middle;\n",
       "    }\n",
       "\n",
       "    .dataframe tbody tr th {\n",
       "        vertical-align: top;\n",
       "    }\n",
       "\n",
       "    .dataframe thead th {\n",
       "        text-align: right;\n",
       "    }\n",
       "</style>\n",
       "<table border=\"1\" class=\"dataframe\">\n",
       "  <thead>\n",
       "    <tr style=\"text-align: right;\">\n",
       "      <th></th>\n",
       "      <th>index</th>\n",
       "      <th>username</th>\n",
       "      <th>photo_id</th>\n",
       "      <th>followed_by</th>\n",
       "      <th>hashtag</th>\n",
       "      <th>tag</th>\n",
       "      <th>caption</th>\n",
       "      <th>is_video</th>\n",
       "      <th>timestamp</th>\n",
       "      <th>n_comment</th>\n",
       "      <th>n_likes</th>\n",
       "      <th>target</th>\n",
       "    </tr>\n",
       "  </thead>\n",
       "  <tbody>\n",
       "    <tr>\n",
       "      <th>8087</th>\n",
       "      <td>10</td>\n",
       "      <td>amandaeliselee</td>\n",
       "      <td>NaN</td>\n",
       "      <td>12070273</td>\n",
       "      <td>['#BangEnergy', '#EnergyDrink', '#Redline']</td>\n",
       "      <td>['@Redline_Energy', '@BangEnergy.CEO']</td>\n",
       "      <td>Today’s HIIT workout fueled by princess 💕 I’ve...</td>\n",
       "      <td>True</td>\n",
       "      <td>1576783307</td>\n",
       "      <td>787</td>\n",
       "      <td>51161</td>\n",
       "      <td>paid</td>\n",
       "    </tr>\n",
       "    <tr>\n",
       "      <th>2680</th>\n",
       "      <td>2709</td>\n",
       "      <td>garethbale11</td>\n",
       "      <td>garethbale119</td>\n",
       "      <td>42936370</td>\n",
       "      <td>['#Supercourt', '#HomeofClassics']</td>\n",
       "      <td>['@adidasoriginals']</td>\n",
       "      <td>👌🏼👟🔥</td>\n",
       "      <td>False</td>\n",
       "      <td>1572520154</td>\n",
       "      <td>3386</td>\n",
       "      <td>671935</td>\n",
       "      <td>paid</td>\n",
       "    </tr>\n",
       "    <tr>\n",
       "      <th>11064</th>\n",
       "      <td>11</td>\n",
       "      <td>adamlevine</td>\n",
       "      <td>adamlevine11</td>\n",
       "      <td>12463730</td>\n",
       "      <td>['#YSLbeauty', '#thatsY']</td>\n",
       "      <td>['@yslbeauty']</td>\n",
       "      <td>Y Live Yves Saint Laurent</td>\n",
       "      <td>False</td>\n",
       "      <td>1575046851</td>\n",
       "      <td>4301</td>\n",
       "      <td>544137</td>\n",
       "      <td>paid</td>\n",
       "    </tr>\n",
       "    <tr>\n",
       "      <th>9791</th>\n",
       "      <td>10</td>\n",
       "      <td>viihtube</td>\n",
       "      <td>NaN</td>\n",
       "      <td>13910782</td>\n",
       "      <td>['#TikTokFolia', '#TikTokFolia', '#Ad']</td>\n",
       "      <td>['@tiktokbrasil']</td>\n",
       "      <td>O que eu tentei explicar nesse vídeo foi sobre...</td>\n",
       "      <td>True</td>\n",
       "      <td>1581520053</td>\n",
       "      <td>488</td>\n",
       "      <td>168876</td>\n",
       "      <td>standard</td>\n",
       "    </tr>\n",
       "    <tr>\n",
       "      <th>3512</th>\n",
       "      <td>3547</td>\n",
       "      <td>hazardeden_10</td>\n",
       "      <td>hazardeden_107</td>\n",
       "      <td>26684701</td>\n",
       "      <td>['#TOTY', '#FIFA20']</td>\n",
       "      <td>['@EASPORTSFIFA']</td>\n",
       "      <td>‪My friends Its great to be nominated please c...</td>\n",
       "      <td>False</td>\n",
       "      <td>1576231737</td>\n",
       "      <td>4276</td>\n",
       "      <td>659524</td>\n",
       "      <td>paid</td>\n",
       "    </tr>\n",
       "  </tbody>\n",
       "</table>\n",
       "</div>"
      ],
      "text/plain": [
       "       index        username        photo_id  followed_by  \\\n",
       "8087      10  amandaeliselee             NaN     12070273   \n",
       "2680    2709    garethbale11   garethbale119     42936370   \n",
       "11064     11      adamlevine    adamlevine11     12463730   \n",
       "9791      10        viihtube             NaN     13910782   \n",
       "3512    3547   hazardeden_10  hazardeden_107     26684701   \n",
       "\n",
       "                                           hashtag  \\\n",
       "8087   ['#BangEnergy', '#EnergyDrink', '#Redline']   \n",
       "2680            ['#Supercourt', '#HomeofClassics']   \n",
       "11064                    ['#YSLbeauty', '#thatsY']   \n",
       "9791       ['#TikTokFolia', '#TikTokFolia', '#Ad']   \n",
       "3512                          ['#TOTY', '#FIFA20']   \n",
       "\n",
       "                                          tag  \\\n",
       "8087   ['@Redline_Energy', '@BangEnergy.CEO']   \n",
       "2680                     ['@adidasoriginals']   \n",
       "11064                          ['@yslbeauty']   \n",
       "9791                        ['@tiktokbrasil']   \n",
       "3512                        ['@EASPORTSFIFA']   \n",
       "\n",
       "                                                 caption  is_video  \\\n",
       "8087   Today’s HIIT workout fueled by princess 💕 I’ve...      True   \n",
       "2680                                                👌🏼👟🔥     False   \n",
       "11064                          Y Live Yves Saint Laurent     False   \n",
       "9791   O que eu tentei explicar nesse vídeo foi sobre...      True   \n",
       "3512   ‪My friends Its great to be nominated please c...     False   \n",
       "\n",
       "        timestamp  n_comment  n_likes    target  \n",
       "8087   1576783307        787    51161      paid  \n",
       "2680   1572520154       3386   671935      paid  \n",
       "11064  1575046851       4301   544137      paid  \n",
       "9791   1581520053        488   168876  standard  \n",
       "3512   1576231737       4276   659524      paid  "
      ]
     },
     "execution_count": 24,
     "metadata": {},
     "output_type": "execute_result"
    }
   ],
   "source": [
    "df.loc[T_paid_index].head()"
   ]
  },
  {
   "cell_type": "markdown",
   "metadata": {},
   "source": [
    "##### Valutazione dei F_standard (False Standard)"
   ]
  },
  {
   "cell_type": "code",
   "execution_count": 25,
   "metadata": {},
   "outputs": [
    {
     "name": "stdout",
     "output_type": "stream",
     "text": [
      "23\n"
     ]
    },
    {
     "data": {
      "text/plain": [
       "[10430, 9267, 8265, 3661, 9233]"
      ]
     },
     "execution_count": 25,
     "metadata": {},
     "output_type": "execute_result"
    }
   ],
   "source": [
    "false_standard = X_test[(y_test == 0) & (y_pred[:,0].T == 1)]\n",
    "print(len(false_standard))\n",
    "F_standard_index = false_standard.index.to_list()\n",
    "F_standard_index[:5]"
   ]
  },
  {
   "cell_type": "code",
   "execution_count": 26,
   "metadata": {
    "scrolled": false
   },
   "outputs": [
    {
     "data": {
      "text/html": [
       "<div>\n",
       "<style scoped>\n",
       "    .dataframe tbody tr th:only-of-type {\n",
       "        vertical-align: middle;\n",
       "    }\n",
       "\n",
       "    .dataframe tbody tr th {\n",
       "        vertical-align: top;\n",
       "    }\n",
       "\n",
       "    .dataframe thead th {\n",
       "        text-align: right;\n",
       "    }\n",
       "</style>\n",
       "<table border=\"1\" class=\"dataframe\">\n",
       "  <thead>\n",
       "    <tr style=\"text-align: right;\">\n",
       "      <th></th>\n",
       "      <th>index</th>\n",
       "      <th>username</th>\n",
       "      <th>photo_id</th>\n",
       "      <th>followed_by</th>\n",
       "      <th>hashtag</th>\n",
       "      <th>tag</th>\n",
       "      <th>caption</th>\n",
       "      <th>is_video</th>\n",
       "      <th>timestamp</th>\n",
       "      <th>n_comment</th>\n",
       "      <th>n_likes</th>\n",
       "      <th>target</th>\n",
       "    </tr>\n",
       "  </thead>\n",
       "  <tbody>\n",
       "    <tr>\n",
       "      <th>10430</th>\n",
       "      <td>1</td>\n",
       "      <td>brooklynbeckham</td>\n",
       "      <td>NaN</td>\n",
       "      <td>11996602</td>\n",
       "      <td>['#Thei8', '#racingbeyond', '#ad']</td>\n",
       "      <td>['@BMWMotorsport', '@BMWi']</td>\n",
       "      <td>Wrapping up an amazing week in Mexico City Got...</td>\n",
       "      <td>True</td>\n",
       "      <td>1582062946</td>\n",
       "      <td>111</td>\n",
       "      <td>31907</td>\n",
       "      <td>paid</td>\n",
       "    </tr>\n",
       "    <tr>\n",
       "      <th>9267</th>\n",
       "      <td>2</td>\n",
       "      <td>stevengerrard</td>\n",
       "      <td>stevengerrard2</td>\n",
       "      <td>8630960</td>\n",
       "      <td>['#stevengerrardliveoslo', '#ad', '#stevengerr...</td>\n",
       "      <td>['@oslokonserthus']</td>\n",
       "      <td>Looking forward to meeting everyone in Norway ...</td>\n",
       "      <td>False</td>\n",
       "      <td>1582282664</td>\n",
       "      <td>539</td>\n",
       "      <td>96044</td>\n",
       "      <td>standard</td>\n",
       "    </tr>\n",
       "    <tr>\n",
       "      <th>8265</th>\n",
       "      <td>8</td>\n",
       "      <td>claireholt</td>\n",
       "      <td>claireholt8</td>\n",
       "      <td>5120153</td>\n",
       "      <td>['#AvaPartner', '#ClairexAva']</td>\n",
       "      <td>['@avawomen', '@avawomen.', '@redcrossau', '@w...</td>\n",
       "      <td>I’ve been traveling a lot the last few months ...</td>\n",
       "      <td>False</td>\n",
       "      <td>1579711536</td>\n",
       "      <td>472</td>\n",
       "      <td>232194</td>\n",
       "      <td>paid</td>\n",
       "    </tr>\n",
       "    <tr>\n",
       "      <th>3661</th>\n",
       "      <td>3696</td>\n",
       "      <td>alvaroricoladera</td>\n",
       "      <td>alvaroricoladera0</td>\n",
       "      <td>3709011</td>\n",
       "      <td>['#thefurlasociety', '#adv', '#furlaillusions']</td>\n",
       "      <td>['@furla']</td>\n",
       "      <td>Gracias It was a pleasure 🇮🇹 🤟🏻</td>\n",
       "      <td>False</td>\n",
       "      <td>1582227741</td>\n",
       "      <td>897</td>\n",
       "      <td>298351</td>\n",
       "      <td>standard</td>\n",
       "    </tr>\n",
       "    <tr>\n",
       "      <th>9233</th>\n",
       "      <td>4</td>\n",
       "      <td>anllela_sagra</td>\n",
       "      <td>NaN</td>\n",
       "      <td>11504533</td>\n",
       "      <td>['#CandyAppleCrisp', '#BangEnergy', '#energydr...</td>\n",
       "      <td>['@BangEnergy', '@BangEnergy.CEO', '@Megliz.Sw...</td>\n",
       "      <td>Sooo delicious So WILD 🍬🍏Totally in LOVE with ...</td>\n",
       "      <td>True</td>\n",
       "      <td>1581873238</td>\n",
       "      <td>341</td>\n",
       "      <td>38384</td>\n",
       "      <td>paid</td>\n",
       "    </tr>\n",
       "  </tbody>\n",
       "</table>\n",
       "</div>"
      ],
      "text/plain": [
       "       index          username           photo_id  followed_by  \\\n",
       "10430      1   brooklynbeckham                NaN     11996602   \n",
       "9267       2     stevengerrard     stevengerrard2      8630960   \n",
       "8265       8        claireholt        claireholt8      5120153   \n",
       "3661    3696  alvaroricoladera  alvaroricoladera0      3709011   \n",
       "9233       4     anllela_sagra                NaN     11504533   \n",
       "\n",
       "                                                 hashtag  \\\n",
       "10430                 ['#Thei8', '#racingbeyond', '#ad']   \n",
       "9267   ['#stevengerrardliveoslo', '#ad', '#stevengerr...   \n",
       "8265                      ['#AvaPartner', '#ClairexAva']   \n",
       "3661     ['#thefurlasociety', '#adv', '#furlaillusions']   \n",
       "9233   ['#CandyAppleCrisp', '#BangEnergy', '#energydr...   \n",
       "\n",
       "                                                     tag  \\\n",
       "10430                        ['@BMWMotorsport', '@BMWi']   \n",
       "9267                                 ['@oslokonserthus']   \n",
       "8265   ['@avawomen', '@avawomen.', '@redcrossau', '@w...   \n",
       "3661                                          ['@furla']   \n",
       "9233   ['@BangEnergy', '@BangEnergy.CEO', '@Megliz.Sw...   \n",
       "\n",
       "                                                 caption  is_video  \\\n",
       "10430  Wrapping up an amazing week in Mexico City Got...      True   \n",
       "9267   Looking forward to meeting everyone in Norway ...     False   \n",
       "8265   I’ve been traveling a lot the last few months ...     False   \n",
       "3661                     Gracias It was a pleasure 🇮🇹 🤟🏻     False   \n",
       "9233   Sooo delicious So WILD 🍬🍏Totally in LOVE with ...      True   \n",
       "\n",
       "        timestamp  n_comment  n_likes    target  \n",
       "10430  1582062946        111    31907      paid  \n",
       "9267   1582282664        539    96044  standard  \n",
       "8265   1579711536        472   232194      paid  \n",
       "3661   1582227741        897   298351  standard  \n",
       "9233   1581873238        341    38384      paid  "
      ]
     },
     "execution_count": 26,
     "metadata": {},
     "output_type": "execute_result"
    }
   ],
   "source": [
    "df.loc[F_standard_index].head()"
   ]
  },
  {
   "cell_type": "code",
   "execution_count": null,
   "metadata": {},
   "outputs": [],
   "source": []
  }
 ],
 "metadata": {
  "kernelspec": {
   "display_name": "Python 3",
   "language": "python",
   "name": "python3"
  },
  "language_info": {
   "codemirror_mode": {
    "name": "ipython",
    "version": 3
   },
   "file_extension": ".py",
   "mimetype": "text/x-python",
   "name": "python",
   "nbconvert_exporter": "python",
   "pygments_lexer": "ipython3",
   "version": "3.6.9"
  }
 },
 "nbformat": 4,
 "nbformat_minor": 2
}
