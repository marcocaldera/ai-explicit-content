{
 "cells": [
  {
   "cell_type": "markdown",
   "metadata": {},
   "source": [
    "# Caption (word embedding)\n",
    "\n",
    "Guardiamo anche alla sintassi/semantica delle parole"
   ]
  },
  {
   "cell_type": "code",
   "execution_count": 1,
   "metadata": {},
   "outputs": [],
   "source": [
    "import numpy as np\n",
    "import pandas as pd\n",
    "from sklearn.model_selection import train_test_split\n",
    "from mlxtend.plotting import plot_confusion_matrix\n",
    "from sklearn.metrics import confusion_matrix, classification_report\n",
    "from sklearn.preprocessing import LabelEncoder\n",
    "import matplotlib\n",
    "import matplotlib.pyplot as plt"
   ]
  },
  {
   "cell_type": "code",
   "execution_count": 2,
   "metadata": {
    "scrolled": true
   },
   "outputs": [
    {
     "name": "stdout",
     "output_type": "stream",
     "text": [
      "Numero di esempi:  11905\n"
     ]
    },
    {
     "data": {
      "text/html": [
       "<div>\n",
       "<style scoped>\n",
       "    .dataframe tbody tr th:only-of-type {\n",
       "        vertical-align: middle;\n",
       "    }\n",
       "\n",
       "    .dataframe tbody tr th {\n",
       "        vertical-align: top;\n",
       "    }\n",
       "\n",
       "    .dataframe thead th {\n",
       "        text-align: right;\n",
       "    }\n",
       "</style>\n",
       "<table border=\"1\" class=\"dataframe\">\n",
       "  <thead>\n",
       "    <tr style=\"text-align: right;\">\n",
       "      <th></th>\n",
       "      <th>index</th>\n",
       "      <th>username</th>\n",
       "      <th>photo_id</th>\n",
       "      <th>followed_by</th>\n",
       "      <th>hashtag</th>\n",
       "      <th>tag</th>\n",
       "      <th>caption</th>\n",
       "      <th>is_video</th>\n",
       "      <th>timestamp</th>\n",
       "      <th>n_comment</th>\n",
       "      <th>n_likes</th>\n",
       "      <th>target</th>\n",
       "    </tr>\n",
       "  </thead>\n",
       "  <tbody>\n",
       "    <tr>\n",
       "      <th>0</th>\n",
       "      <td>0</td>\n",
       "      <td>viniciusjunior</td>\n",
       "      <td>viniciusjunior0</td>\n",
       "      <td>9012479</td>\n",
       "      <td>[]</td>\n",
       "      <td>[]</td>\n",
       "      <td>Obrigado pelo carinho de sempre a todos que ac...</td>\n",
       "      <td>False</td>\n",
       "      <td>1582322398</td>\n",
       "      <td>1043</td>\n",
       "      <td>386524</td>\n",
       "      <td>standard</td>\n",
       "    </tr>\n",
       "    <tr>\n",
       "      <th>1</th>\n",
       "      <td>1</td>\n",
       "      <td>viniciusjunior</td>\n",
       "      <td>viniciusjunior1</td>\n",
       "      <td>9012479</td>\n",
       "      <td>[]</td>\n",
       "      <td>[]</td>\n",
       "      <td>“Algumas pessoas querem que algo aconteça outr...</td>\n",
       "      <td>False</td>\n",
       "      <td>1582141911</td>\n",
       "      <td>1564</td>\n",
       "      <td>522107</td>\n",
       "      <td>standard</td>\n",
       "    </tr>\n",
       "    <tr>\n",
       "      <th>2</th>\n",
       "      <td>2</td>\n",
       "      <td>viniciusjunior</td>\n",
       "      <td>NaN</td>\n",
       "      <td>9012479</td>\n",
       "      <td>['#VOLTAFOOTBALL', '#FIFA20']</td>\n",
       "      <td>['@rodrygogoes', '@dani.carvajal.2', '@fedeeva...</td>\n",
       "      <td>Mi amigo y yo llevamos el equipo a las calles ...</td>\n",
       "      <td>True</td>\n",
       "      <td>1581615465</td>\n",
       "      <td>395</td>\n",
       "      <td>179341</td>\n",
       "      <td>standard</td>\n",
       "    </tr>\n",
       "    <tr>\n",
       "      <th>3</th>\n",
       "      <td>3</td>\n",
       "      <td>viniciusjunior</td>\n",
       "      <td>NaN</td>\n",
       "      <td>9012479</td>\n",
       "      <td>[]</td>\n",
       "      <td>[]</td>\n",
       "      <td>💪🏾</td>\n",
       "      <td>True</td>\n",
       "      <td>1581532095</td>\n",
       "      <td>2303</td>\n",
       "      <td>380096</td>\n",
       "      <td>standard</td>\n",
       "    </tr>\n",
       "    <tr>\n",
       "      <th>4</th>\n",
       "      <td>4</td>\n",
       "      <td>viniciusjunior</td>\n",
       "      <td>viniciusjunior4</td>\n",
       "      <td>9012479</td>\n",
       "      <td>[]</td>\n",
       "      <td>['@pedroscooby']</td>\n",
       "      <td>Day off 🏄🏼‍♂️ tava pro surf das ondas gigantes...</td>\n",
       "      <td>False</td>\n",
       "      <td>1581440777</td>\n",
       "      <td>895</td>\n",
       "      <td>387117</td>\n",
       "      <td>standard</td>\n",
       "    </tr>\n",
       "  </tbody>\n",
       "</table>\n",
       "</div>"
      ],
      "text/plain": [
       "   index        username         photo_id  followed_by  \\\n",
       "0      0  viniciusjunior  viniciusjunior0      9012479   \n",
       "1      1  viniciusjunior  viniciusjunior1      9012479   \n",
       "2      2  viniciusjunior              NaN      9012479   \n",
       "3      3  viniciusjunior              NaN      9012479   \n",
       "4      4  viniciusjunior  viniciusjunior4      9012479   \n",
       "\n",
       "                         hashtag  \\\n",
       "0                             []   \n",
       "1                             []   \n",
       "2  ['#VOLTAFOOTBALL', '#FIFA20']   \n",
       "3                             []   \n",
       "4                             []   \n",
       "\n",
       "                                                 tag  \\\n",
       "0                                                 []   \n",
       "1                                                 []   \n",
       "2  ['@rodrygogoes', '@dani.carvajal.2', '@fedeeva...   \n",
       "3                                                 []   \n",
       "4                                   ['@pedroscooby']   \n",
       "\n",
       "                                             caption  is_video   timestamp  \\\n",
       "0  Obrigado pelo carinho de sempre a todos que ac...     False  1582322398   \n",
       "1  “Algumas pessoas querem que algo aconteça outr...     False  1582141911   \n",
       "2  Mi amigo y yo llevamos el equipo a las calles ...      True  1581615465   \n",
       "3                                                 💪🏾      True  1581532095   \n",
       "4  Day off 🏄🏼‍♂️ tava pro surf das ondas gigantes...     False  1581440777   \n",
       "\n",
       "   n_comment  n_likes    target  \n",
       "0       1043   386524  standard  \n",
       "1       1564   522107  standard  \n",
       "2        395   179341  standard  \n",
       "3       2303   380096  standard  \n",
       "4        895   387117  standard  "
      ]
     },
     "execution_count": 2,
     "metadata": {},
     "output_type": "execute_result"
    }
   ],
   "source": [
    "dataset = pd.read_csv('../dataset/influencer_dataset.csv')\n",
    "print(\"Numero di esempi: \", len(dataset))\n",
    "dataset.head()"
   ]
  },
  {
   "cell_type": "markdown",
   "metadata": {},
   "source": [
    "#### Aggiungo come post sponsorizzati quelli che contengono come hashtag `adv`, `ad` etc."
   ]
  },
  {
   "cell_type": "code",
   "execution_count": 3,
   "metadata": {},
   "outputs": [],
   "source": [
    "mask = dataset.hashtag.str.lower().str.contains(\"'#adv'|'#ad'|'#sponsored'|'#supplied'\")\n",
    "column_name = 'target'\n",
    "dataset.loc[mask, column_name] = 'paid'\n",
    "# dataset.loc[mask_adv | mask_sponsored | mask_supplied, column_name] = 'paid'"
   ]
  },
  {
   "cell_type": "markdown",
   "metadata": {},
   "source": [
    "#### Aggiungo i post dei prend come fossero a pagamento"
   ]
  },
  {
   "cell_type": "code",
   "execution_count": 4,
   "metadata": {},
   "outputs": [],
   "source": [
    "brand_list = ['victoriassecret', 'nikefootball', 'nike',\n",
    "        'nikebasketball', 'chanelofficial', 'gucci',\n",
    "        'zara', 'louisvuitton', 'adidas',\n",
    "       'adidasfootball', 'adidasoriginals', 'bmw',\n",
    "       'mercedesbenz', 'kyliecosmetics', 'lamborghini',\n",
    "       'versace', 'starbucks']"
   ]
  },
  {
   "cell_type": "code",
   "execution_count": 5,
   "metadata": {},
   "outputs": [],
   "source": [
    "mask = dataset.username.str.lower().str.contains(\"|\".join(brand_list))\n",
    "column_name = 'target'\n",
    "dataset.loc[mask, column_name] = 'paid'"
   ]
  },
  {
   "cell_type": "markdown",
   "metadata": {},
   "source": [
    "#### Trasfromazione etichette in 0-1"
   ]
  },
  {
   "cell_type": "code",
   "execution_count": 6,
   "metadata": {},
   "outputs": [],
   "source": [
    "# paid = 0\n",
    "# standard = 1\n",
    "label = LabelEncoder()\n",
    "dataset['target'] = label.fit_transform(dataset['target'])"
   ]
  },
  {
   "cell_type": "markdown",
   "metadata": {},
   "source": [
    "#### Costruzione dataset"
   ]
  },
  {
   "cell_type": "code",
   "execution_count": 7,
   "metadata": {},
   "outputs": [],
   "source": [
    "X = dataset['caption'].values.astype('U') # U = unicode\n",
    "y = dataset['target']\n",
    "\n",
    "sentences_train, sentences_test, y_train, y_test = train_test_split(X, y, test_size=0.25, stratify=y, random_state=0)"
   ]
  },
  {
   "cell_type": "code",
   "execution_count": 8,
   "metadata": {},
   "outputs": [
    {
     "name": "stdout",
     "output_type": "stream",
     "text": [
      "Esempi training standard:  8564\n",
      "Esempi training paid:  364\n"
     ]
    }
   ],
   "source": [
    "print('Esempi training standard: ', sum(y_train == 1))\n",
    "print('Esempi training paid: ', sum((y_train == 0)))"
   ]
  },
  {
   "cell_type": "code",
   "execution_count": 9,
   "metadata": {},
   "outputs": [
    {
     "name": "stdout",
     "output_type": "stream",
     "text": [
      "Esempi test standard:  2856\n",
      "Esempi test paid:  121\n"
     ]
    }
   ],
   "source": [
    "print('Esempi test standard: ', sum(y_test == 1))\n",
    "print('Esempi test paid: ', sum(y_test == 0))"
   ]
  },
  {
   "cell_type": "code",
   "execution_count": 10,
   "metadata": {},
   "outputs": [
    {
     "name": "stdout",
     "output_type": "stream",
     "text": [
      "Emma GellerGreen 16 years later The Sheldon twins and swung by Central Perk to reflect on their time on the show\n",
      "\n",
      "brasilzão de volta no feed 💚💙\n"
     ]
    }
   ],
   "source": [
    "print(sentences_train[0])\n",
    "print()\n",
    "print(sentences_train[1])"
   ]
  },
  {
   "cell_type": "markdown",
   "metadata": {},
   "source": [
    "### Tokenizzazione\n"
   ]
  },
  {
   "cell_type": "code",
   "execution_count": 11,
   "metadata": {},
   "outputs": [],
   "source": [
    "from tensorflow.keras.preprocessing.text import Tokenizer"
   ]
  },
  {
   "cell_type": "code",
   "execution_count": 12,
   "metadata": {},
   "outputs": [],
   "source": [
    "tokenizer = Tokenizer() # num_words=5000 size del vocabolario = 5000\n",
    "tokenizer.fit_on_texts(sentences_train)"
   ]
  },
  {
   "cell_type": "code",
   "execution_count": 13,
   "metadata": {},
   "outputs": [
    {
     "name": "stdout",
     "output_type": "stream",
     "text": [
      "Emma GellerGreen 16 years later The Sheldon twins and swung by Central Perk to reflect on their time on the show\n",
      "[5414, 11689, 782, 146, 1189, 1, 11690, 4331, 4, 7266, 22, 3548, 11691, 2, 2390, 15, 113, 57, 15, 1, 118]\n"
     ]
    }
   ],
   "source": [
    "X_train = tokenizer.texts_to_sequences(sentences_train)\n",
    "X_test = tokenizer.texts_to_sequences(sentences_test)\n",
    "\n",
    "\"\"\"\n",
    "+ 1 perchè abbiamo l'indice '0' riservato per \"pad\" le frasi in modo\n",
    "che siano tutte lughe allo stesso modo\n",
    "\"\"\"\n",
    "vocab_size = len(tokenizer.word_index) + 1\n",
    "print(sentences_train[0])\n",
    "print(X_train[0])\n",
    "# L'indice assegnato alla parola è basato sulla popolarità secondo cui compare nel corpus"
   ]
  },
  {
   "cell_type": "code",
   "execution_count": 14,
   "metadata": {},
   "outputs": [
    {
     "data": {
      "text/plain": [
       "(1, 2, 15)"
      ]
     },
     "execution_count": 14,
     "metadata": {},
     "output_type": "execute_result"
    }
   ],
   "source": [
    "tokenizer.word_index['the'], tokenizer.word_index['to'], tokenizer.word_index['on'] "
   ]
  },
  {
   "cell_type": "markdown",
   "metadata": {},
   "source": [
    "##### In questa situazione ogni esempo potrebbe avere lunghezza differente\n",
    "(nel caso della matrice sparsa gli esempi erano tutti della stessa dimensione)\n",
    "\n",
    "Ricorda:\n",
    "Nella matrice sparsa le righe erano nei \"count vector\" qua invece il valore di una cella indica semplicemente la popolarità secondo cui quella parola compare"
   ]
  },
  {
   "cell_type": "code",
   "execution_count": 15,
   "metadata": {},
   "outputs": [],
   "source": [
    "from tensorflow.keras.preprocessing.sequence import pad_sequences"
   ]
  },
  {
   "cell_type": "markdown",
   "metadata": {},
   "source": [
    "Impostiamo tutte le caption alla stessa lunghezza, aggiungendo degli zero a quelle più corte di 100 parole e togliendo delle parole da quelle più lunghe di 100"
   ]
  },
  {
   "cell_type": "code",
   "execution_count": 16,
   "metadata": {},
   "outputs": [],
   "source": [
    "X_train = pad_sequences(X_train, padding='post', maxlen=100)\n",
    "X_test = pad_sequences(X_test, padding='post', maxlen=100)"
   ]
  },
  {
   "cell_type": "code",
   "execution_count": 17,
   "metadata": {
    "scrolled": true
   },
   "outputs": [
    {
     "name": "stdout",
     "output_type": "stream",
     "text": [
      "[ 5414 11689   782   146  1189     1 11690  4331     4  7266    22  3548\n",
      " 11691     2  2390    15   113    57    15     1   118     0     0     0\n",
      "     0     0     0     0     0     0     0     0     0     0     0     0\n",
      "     0     0     0     0     0     0     0     0     0     0     0     0\n",
      "     0     0     0     0     0     0     0     0     0     0     0     0\n",
      "     0     0     0     0     0     0     0     0     0     0     0     0\n",
      "     0     0     0     0     0     0     0     0     0     0     0     0\n",
      "     0     0     0     0     0     0     0     0     0     0     0     0\n",
      "     0     0     0     0]\n"
     ]
    }
   ],
   "source": [
    "print(X_train[0])"
   ]
  },
  {
   "cell_type": "code",
   "execution_count": 18,
   "metadata": {},
   "outputs": [
    {
     "data": {
      "text/plain": [
       "1    8564\n",
       "0     364\n",
       "Name: target, dtype: int64"
      ]
     },
     "execution_count": 18,
     "metadata": {},
     "output_type": "execute_result"
    }
   ],
   "source": [
    "y_train.value_counts()"
   ]
  },
  {
   "cell_type": "code",
   "execution_count": 19,
   "metadata": {},
   "outputs": [
    {
     "data": {
      "text/plain": [
       "1    2856\n",
       "0     121\n",
       "Name: target, dtype: int64"
      ]
     },
     "execution_count": 19,
     "metadata": {},
     "output_type": "execute_result"
    }
   ],
   "source": [
    "y_test.value_counts()"
   ]
  },
  {
   "cell_type": "markdown",
   "metadata": {},
   "source": [
    "### Inflate\n",
    "\n",
    "(migliora la classificazione per gli esempi paid)"
   ]
  },
  {
   "cell_type": "code",
   "execution_count": 20,
   "metadata": {},
   "outputs": [],
   "source": [
    "from imblearn.over_sampling import SMOTE"
   ]
  },
  {
   "cell_type": "code",
   "execution_count": 21,
   "metadata": {},
   "outputs": [
    {
     "data": {
      "text/plain": [
       "((17128, 100), (17128,))"
      ]
     },
     "execution_count": 21,
     "metadata": {},
     "output_type": "execute_result"
    }
   ],
   "source": [
    "sm = SMOTE(random_state=2)\n",
    "X_train, y_train = sm.fit_sample(X_train, y_train.ravel())\n",
    "X_train.shape, y_train.shape"
   ]
  },
  {
   "cell_type": "code",
   "execution_count": null,
   "metadata": {},
   "outputs": [],
   "source": []
  },
  {
   "cell_type": "markdown",
   "metadata": {},
   "source": [
    "### Building model"
   ]
  },
  {
   "cell_type": "code",
   "execution_count": 22,
   "metadata": {},
   "outputs": [],
   "source": [
    "from tensorflow.keras import Sequential\n",
    "from tensorflow.keras.layers import Embedding, Flatten, Dense, GlobalMaxPool1D"
   ]
  },
  {
   "cell_type": "code",
   "execution_count": 23,
   "metadata": {},
   "outputs": [],
   "source": [
    "embedding_dim = 50\n",
    "\n",
    "model = Sequential()\n",
    "model.add(Embedding(input_dim=vocab_size, \n",
    "                           output_dim=embedding_dim, # size del vettore di output\n",
    "                           input_length=100 #maxLen\n",
    "                   ))\n",
    "model.add(Flatten())\n",
    "model.add(Dense(10, activation='relu'))\n",
    "model.add(Dense(1, activation='sigmoid'))"
   ]
  },
  {
   "cell_type": "code",
   "execution_count": 24,
   "metadata": {},
   "outputs": [],
   "source": [
    "model.compile(optimizer='adam', loss='binary_crossentropy', metrics=['accuracy'])"
   ]
  },
  {
   "cell_type": "code",
   "execution_count": 25,
   "metadata": {},
   "outputs": [
    {
     "name": "stdout",
     "output_type": "stream",
     "text": [
      "Model: \"sequential\"\n",
      "_________________________________________________________________\n",
      "Layer (type)                 Output Shape              Param #   \n",
      "=================================================================\n",
      "embedding (Embedding)        (None, 100, 50)           1719750   \n",
      "_________________________________________________________________\n",
      "flatten (Flatten)            (None, 5000)              0         \n",
      "_________________________________________________________________\n",
      "dense (Dense)                (None, 10)                50010     \n",
      "_________________________________________________________________\n",
      "dense_1 (Dense)              (None, 1)                 11        \n",
      "=================================================================\n",
      "Total params: 1,769,771\n",
      "Trainable params: 1,769,771\n",
      "Non-trainable params: 0\n",
      "_________________________________________________________________\n"
     ]
    }
   ],
   "source": [
    "model.summary()"
   ]
  },
  {
   "cell_type": "code",
   "execution_count": 26,
   "metadata": {},
   "outputs": [
    {
     "name": "stdout",
     "output_type": "stream",
     "text": [
      "Train on 17128 samples, validate on 2977 samples\n",
      "Epoch 1/7\n",
      "17128/17128 [==============================] - 26s 2ms/sample - loss: 0.5422 - accuracy: 0.7247 - val_loss: 0.4433 - val_accuracy: 0.8035\n",
      "Epoch 2/7\n",
      "17128/17128 [==============================] - 26s 2ms/sample - loss: 0.2032 - accuracy: 0.9235 - val_loss: 0.6787 - val_accuracy: 0.7575\n",
      "Epoch 3/7\n",
      "17128/17128 [==============================] - 27s 2ms/sample - loss: 0.0473 - accuracy: 0.9869 - val_loss: 0.9432 - val_accuracy: 0.7440\n",
      "Epoch 4/7\n",
      "17128/17128 [==============================] - 31s 2ms/sample - loss: 0.0198 - accuracy: 0.9950 - val_loss: 1.7952 - val_accuracy: 0.6292\n",
      "Epoch 5/7\n",
      "17128/17128 [==============================] - 29s 2ms/sample - loss: 0.0130 - accuracy: 0.9968 - val_loss: 1.3185 - val_accuracy: 0.7464\n",
      "Epoch 6/7\n",
      "17128/17128 [==============================] - 30s 2ms/sample - loss: 0.0105 - accuracy: 0.9975 - val_loss: 2.0909 - val_accuracy: 0.5892\n",
      "Epoch 7/7\n",
      "17128/17128 [==============================] - 28s 2ms/sample - loss: 0.0088 - accuracy: 0.9980 - val_loss: 2.4791 - val_accuracy: 0.6268\n"
     ]
    }
   ],
   "source": [
    "history = model.fit(X_train, y_train,\n",
    "                    epochs=7,\n",
    "                    verbose=1,\n",
    "                    validation_data=(X_test, y_test),\n",
    "                    batch_size=10)"
   ]
  },
  {
   "cell_type": "code",
   "execution_count": 27,
   "metadata": {},
   "outputs": [],
   "source": [
    "model.save('word-embedding.h5')"
   ]
  },
  {
   "cell_type": "code",
   "execution_count": 28,
   "metadata": {},
   "outputs": [
    {
     "name": "stdout",
     "output_type": "stream",
     "text": [
      "Training Accuracy: 0.9984\n",
      "Testing Accuracy:  0.6268\n"
     ]
    }
   ],
   "source": [
    "loss, accuracy = model.evaluate(X_train, y_train, verbose=False)\n",
    "print(\"Training Accuracy: {:.4f}\".format(accuracy))\n",
    "loss, accuracy = model.evaluate(X_test, y_test, verbose=False)\n",
    "print(\"Testing Accuracy:  {:.4f}\".format(accuracy))"
   ]
  },
  {
   "cell_type": "code",
   "execution_count": 29,
   "metadata": {},
   "outputs": [
    {
     "data": {
      "image/png": "[encoded data removed]",
      "text/plain": [
       "<Figure size 432x288 with 1 Axes>"
      ]
     },
     "metadata": {
      "needs_background": "light"
     },
     "output_type": "display_data"
    },
    {
     "data": {
      "image/png": "[encoded data removed]",
      "text/plain": [
       "<Figure size 432x288 with 1 Axes>"
      ]
     },
     "metadata": {
      "needs_background": "light"
     },
     "output_type": "display_data"
    }
   ],
   "source": [
    "# Plot training & validation accuracy\n",
    "epoch_range = range(1, 8)\n",
    "plt.plot(epoch_range, history.history['accuracy'])\n",
    "plt.plot(epoch_range, history.history['val_accuracy'])\n",
    "plt.title('Model accuracy')\n",
    "plt.ylabel('Accuracy')\n",
    "plt.xlabel('Epoch')\n",
    "plt.legend(['Train', 'Val'], loc='upper left')\n",
    "plt.show()\n",
    "\n",
    "# Plot training & validation loss\n",
    "plt.plot(epoch_range, history.history['loss'])\n",
    "plt.plot(epoch_range, history.history['val_loss'])\n",
    "plt.title('Model loss')\n",
    "plt.ylabel('Loss')\n",
    "plt.xlabel('Epoch')\n",
    "plt.legend(['Train', 'Val'], loc='upper left')\n",
    "plt.show()"
   ]
  },
  {
   "cell_type": "code",
   "execution_count": 30,
   "metadata": {},
   "outputs": [
    {
     "data": {
      "text/plain": [
       "0.6268055089015788"
      ]
     },
     "execution_count": 30,
     "metadata": {},
     "output_type": "execute_result"
    }
   ],
   "source": [
    "from sklearn.metrics import accuracy_score\n",
    "\n",
    "y_pred = model.predict_classes(X_test)\n",
    "accuracy_score(y_test, y_pred)"
   ]
  },
  {
   "cell_type": "code",
   "execution_count": 31,
   "metadata": {},
   "outputs": [
    {
     "data": {
      "text/plain": [
       "(<Figure size 360x360 with 1 Axes>,\n",
       " <matplotlib.axes._subplots.AxesSubplot at 0x1a5087ccf8>)"
      ]
     },
     "execution_count": 31,
     "metadata": {},
     "output_type": "execute_result"
    },
    {
     "data": {
      "image/png": "[encoded data removed]",
      "text/plain": [
       "<Figure size 360x360 with 1 Axes>"
      ]
     },
     "metadata": {
      "needs_background": "light"
     },
     "output_type": "display_data"
    }
   ],
   "source": [
    "class_names = ['paid', 'standard']\n",
    "font = {'size': 12}\n",
    "matplotlib.rc('font', **font)\n",
    "mat = confusion_matrix(y_test, y_pred)\n",
    "plot_confusion_matrix(conf_mat=mat, figsize=(5,5), class_names = class_names, show_normed=True)"
   ]
  },
  {
   "cell_type": "code",
   "execution_count": 32,
   "metadata": {},
   "outputs": [
    {
     "name": "stdout",
     "output_type": "stream",
     "text": [
      "              precision    recall  f1-score   support\n",
      "\n",
      "           0       0.07      0.70      0.13       121\n",
      "           1       0.98      0.62      0.76      2856\n",
      "\n",
      "    accuracy                           0.63      2977\n",
      "   macro avg       0.53      0.66      0.45      2977\n",
      "weighted avg       0.94      0.63      0.74      2977\n",
      "\n"
     ]
    }
   ],
   "source": [
    "print(classification_report(y_test, y_pred))"
   ]
  },
  {
   "cell_type": "markdown",
   "metadata": {},
   "source": [
    "### New model with max-pooling"
   ]
  },
  {
   "cell_type": "code",
   "execution_count": 33,
   "metadata": {},
   "outputs": [],
   "source": [
    "embedding_dim = 50\n",
    "\n",
    "model = Sequential()\n",
    "model.add(Embedding(input_dim=vocab_size, \n",
    "                           output_dim=embedding_dim, \n",
    "                           input_length=100, #maxLen\n",
    "                   ))\n",
    "#model.add(Flatten())\n",
    "model.add(GlobalMaxPool1D()) #riduciamo la grandezza dell'input vector, vediamo se generalizziamo meglio\n",
    "model.add(Dense(10, activation='relu'))\n",
    "model.add(Dense(1, activation='sigmoid'))"
   ]
  },
  {
   "cell_type": "code",
   "execution_count": 34,
   "metadata": {},
   "outputs": [],
   "source": [
    "model.compile(optimizer='adam', loss='binary_crossentropy', metrics=['accuracy'])"
   ]
  },
  {
   "cell_type": "code",
   "execution_count": 35,
   "metadata": {},
   "outputs": [
    {
     "name": "stdout",
     "output_type": "stream",
     "text": [
      "Train on 17128 samples, validate on 2977 samples\n",
      "Epoch 1/7\n",
      "17128/17128 [==============================] - 29s 2ms/sample - loss: 0.5315 - accuracy: 0.7244 - val_loss: 0.5151 - val_accuracy: 0.6688\n",
      "Epoch 2/7\n",
      "17128/17128 [==============================] - 29s 2ms/sample - loss: 0.2924 - accuracy: 0.8904 - val_loss: 0.2421 - val_accuracy: 0.9237\n",
      "Epoch 3/7\n",
      "17128/17128 [==============================] - 30s 2ms/sample - loss: 0.1306 - accuracy: 0.9599 - val_loss: 0.2394 - val_accuracy: 0.9140\n",
      "Epoch 4/7\n",
      "17128/17128 [==============================] - 30s 2ms/sample - loss: 0.0615 - accuracy: 0.9828 - val_loss: 0.3076 - val_accuracy: 0.8922\n",
      "Epoch 5/7\n",
      "17128/17128 [==============================] - 30s 2ms/sample - loss: 0.0302 - accuracy: 0.9925 - val_loss: 0.3891 - val_accuracy: 0.8603\n",
      "Epoch 6/7\n",
      "17128/17128 [==============================] - 30s 2ms/sample - loss: 0.0159 - accuracy: 0.9968 - val_loss: 0.3288 - val_accuracy: 0.8928\n",
      "Epoch 7/7\n",
      "17128/17128 [==============================] - 30s 2ms/sample - loss: 0.0111 - accuracy: 0.9978 - val_loss: 0.3954 - val_accuracy: 0.8794\n"
     ]
    }
   ],
   "source": [
    "history = model.fit(X_train, y_train,\n",
    "                    epochs=7,\n",
    "                    verbose=1,\n",
    "                    validation_data=(X_test, y_test),\n",
    "                    batch_size=10)"
   ]
  },
  {
   "cell_type": "code",
   "execution_count": 36,
   "metadata": {},
   "outputs": [],
   "source": [
    "model.save('word-embedding-max-pool.h5')"
   ]
  },
  {
   "cell_type": "code",
   "execution_count": 37,
   "metadata": {},
   "outputs": [
    {
     "name": "stdout",
     "output_type": "stream",
     "text": [
      "Training Accuracy: 0.9984\n",
      "Testing Accuracy:  0.8794\n"
     ]
    }
   ],
   "source": [
    "loss, accuracy = model.evaluate(X_train, y_train, verbose=False)\n",
    "print(\"Training Accuracy: {:.4f}\".format(accuracy))\n",
    "loss, accuracy = model.evaluate(X_test, y_test, verbose=False)\n",
    "print(\"Testing Accuracy:  {:.4f}\".format(accuracy))"
   ]
  },
  {
   "cell_type": "code",
   "execution_count": 38,
   "metadata": {},
   "outputs": [
    {
     "data": {
      "image/png": "[encoded data removed]",
      "text/plain": [
       "<Figure size 432x288 with 1 Axes>"
      ]
     },
     "metadata": {
      "needs_background": "light"
     },
     "output_type": "display_data"
    },
    {
     "data": {
      "image/png": "[encoded data removed]",
      "text/plain": [
       "<Figure size 432x288 with 1 Axes>"
      ]
     },
     "metadata": {
      "needs_background": "light"
     },
     "output_type": "display_data"
    }
   ],
   "source": [
    "# Plot training & validation accuracy\n",
    "epoch_range = range(1, 8)\n",
    "plt.plot(epoch_range, history.history['accuracy'])\n",
    "plt.plot(epoch_range, history.history['val_accuracy'])\n",
    "plt.title('Model accuracy')\n",
    "plt.ylabel('Accuracy')\n",
    "plt.xlabel('Epoch')\n",
    "plt.legend(['Train', 'Val'], loc='upper left')\n",
    "plt.show()\n",
    "\n",
    "# Plot training & validation loss\n",
    "plt.plot(epoch_range, history.history['loss'])\n",
    "plt.plot(epoch_range, history.history['val_loss'])\n",
    "plt.title('Model loss')\n",
    "plt.ylabel('Loss')\n",
    "plt.xlabel('Epoch')\n",
    "plt.legend(['Train', 'Val'], loc='upper left')\n",
    "plt.show()"
   ]
  },
  {
   "cell_type": "code",
   "execution_count": 39,
   "metadata": {},
   "outputs": [
    {
     "data": {
      "text/plain": [
       "0.8794088008061807"
      ]
     },
     "execution_count": 39,
     "metadata": {},
     "output_type": "execute_result"
    }
   ],
   "source": [
    "from sklearn.metrics import accuracy_score\n",
    "\n",
    "y_pred = model.predict_classes(X_test)\n",
    "accuracy_score(y_test, y_pred)"
   ]
  },
  {
   "cell_type": "code",
   "execution_count": 40,
   "metadata": {},
   "outputs": [
    {
     "data": {
      "text/plain": [
       "(<Figure size 360x360 with 1 Axes>,\n",
       " <matplotlib.axes._subplots.AxesSubplot at 0x1a50f1f240>)"
      ]
     },
     "execution_count": 40,
     "metadata": {},
     "output_type": "execute_result"
    },
    {
     "data": {
      "image/png": "[encoded data removed]",
      "text/plain": [
       "<Figure size 360x360 with 1 Axes>"
      ]
     },
     "metadata": {
      "needs_background": "light"
     },
     "output_type": "display_data"
    }
   ],
   "source": [
    "class_names = ['paid', 'standard']\n",
    "font = {'size': 12}\n",
    "matplotlib.rc('font', **font)\n",
    "mat = confusion_matrix(y_test, y_pred)\n",
    "plot_confusion_matrix(conf_mat=mat, figsize=(5,5), class_names = class_names, show_normed=True)"
   ]
  },
  {
   "cell_type": "code",
   "execution_count": 41,
   "metadata": {},
   "outputs": [
    {
     "name": "stdout",
     "output_type": "stream",
     "text": [
      "              precision    recall  f1-score   support\n",
      "\n",
      "           0       0.16      0.45      0.23       121\n",
      "           1       0.97      0.90      0.93      2856\n",
      "\n",
      "    accuracy                           0.88      2977\n",
      "   macro avg       0.57      0.67      0.58      2977\n",
      "weighted avg       0.94      0.88      0.91      2977\n",
      "\n"
     ]
    }
   ],
   "source": [
    "print(classification_report(y_test, y_pred))"
   ]
  },
  {
   "cell_type": "code",
   "execution_count": null,
   "metadata": {},
   "outputs": [],
   "source": []
  }
 ],
 "metadata": {
  "kernelspec": {
   "display_name": "Python 3",
   "language": "python",
   "name": "python3"
  },
  "language_info": {
   "codemirror_mode": {
    "name": "ipython",
    "version": 3
   },
   "file_extension": ".py",
   "mimetype": "text/x-python",
   "name": "python",
   "nbconvert_exporter": "python",
   "pygments_lexer": "ipython3",
   "version": "3.6.10"
  }
 },
 "nbformat": 4,
 "nbformat_minor": 2
}
