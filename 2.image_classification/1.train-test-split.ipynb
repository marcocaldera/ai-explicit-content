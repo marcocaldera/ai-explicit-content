{
 "cells": [
  {
   "cell_type": "code",
   "execution_count": 1,
   "metadata": {},
   "outputs": [],
   "source": [
    "from pathlib import Path, PosixPath\n",
    "import os\n",
    "import numpy as np\n",
    "import pandas as pd\n",
    "from sklearn.model_selection import train_test_split\n",
    "import math\n",
    "import shutil"
   ]
  },
  {
   "cell_type": "code",
   "execution_count": 2,
   "metadata": {},
   "outputs": [],
   "source": [
    "main_folder_path = Path('../../instagram-dataset')"
   ]
  },
  {
   "cell_type": "code",
   "execution_count": 3,
   "metadata": {},
   "outputs": [],
   "source": [
    "ml_dataset = main_folder_path.joinpath('ml-dataset')\n",
    "ml_dataset.mkdir(parents=True, exist_ok=True)"
   ]
  },
  {
   "cell_type": "code",
   "execution_count": 4,
   "metadata": {},
   "outputs": [],
   "source": [
    "ml_dataset.joinpath('train').mkdir(parents=True, exist_ok=True)\n",
    "ml_dataset.joinpath('test').mkdir(parents=True, exist_ok=True)"
   ]
  },
  {
   "cell_type": "code",
   "execution_count": 5,
   "metadata": {},
   "outputs": [],
   "source": [
    "label_list = os.listdir(path=main_folder_path.joinpath('dataset-formatted'))\n",
    "\n",
    "for label in label_list:\n",
    "    ml_dataset.joinpath('train').joinpath(label).mkdir(parents=True, exist_ok=True)\n",
    "    ml_dataset.joinpath('test').joinpath(label).mkdir(parents=True, exist_ok=True)"
   ]
  },
  {
   "cell_type": "code",
   "execution_count": null,
   "metadata": {},
   "outputs": [],
   "source": []
  },
  {
   "cell_type": "code",
   "execution_count": null,
   "metadata": {},
   "outputs": [],
   "source": []
  },
  {
   "cell_type": "code",
   "execution_count": 6,
   "metadata": {},
   "outputs": [
    {
     "name": "stdout",
     "output_type": "stream",
     "text": [
      "music\n",
      "entertainment\n",
      "sport\n",
      "fashion\n",
      "actor\n"
     ]
    }
   ],
   "source": [
    "for label in label_list:\n",
    "    print(label)\n",
    "    train_path = ml_dataset.joinpath('train').joinpath(label)\n",
    "    test_path = ml_dataset.joinpath('test').joinpath(label)\n",
    "    \n",
    "    label_formatted_path = main_folder_path.joinpath('dataset-formatted').joinpath(label)\n",
    "    label_images = np.array(os.listdir(label_formatted_path)) # sono randomizzati in automatico\n",
    "\n",
    "    label_train, label_test = train_test_split(label_images, test_size=0.20, random_state=42)\n",
    "\n",
    "    for file in label_train:\n",
    "        my_file = label_formatted_path.joinpath(file)\n",
    "        to_file = train_path.joinpath(file)\n",
    "        shutil.copy(str(my_file), str(to_file))\n",
    "    \n",
    "    for file in label_test:\n",
    "        my_file = label_formatted_path.joinpath(file)\n",
    "        to_file = test_path.joinpath(file)\n",
    "        shutil.copy(str(my_file), str(to_file))"
   ]
  },
  {
   "cell_type": "code",
   "execution_count": null,
   "metadata": {},
   "outputs": [],
   "source": []
  }
 ],
 "metadata": {
  "kernelspec": {
   "display_name": "Python 3",
   "language": "python",
   "name": "python3"
  },
  "language_info": {
   "codemirror_mode": {
    "name": "ipython",
    "version": 3
   },
   "file_extension": ".py",
   "mimetype": "text/x-python",
   "name": "python",
   "nbconvert_exporter": "python",
   "pygments_lexer": "ipython3",
   "version": "3.6.10"
  }
 },
 "nbformat": 4,
 "nbformat_minor": 4
}
