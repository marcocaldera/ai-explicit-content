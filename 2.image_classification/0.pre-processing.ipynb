{
 "cells": [
  {
   "cell_type": "code",
   "execution_count": 1,
   "metadata": {},
   "outputs": [],
   "source": [
    "from pathlib import Path, PosixPath\n",
    "import os\n",
    "import numpy as np\n",
    "import pandas as pd\n",
    "from sklearn.model_selection import train_test_split\n",
    "import math\n",
    "import shutil"
   ]
  },
  {
   "cell_type": "markdown",
   "metadata": {},
   "source": [
    "### Gestione path"
   ]
  },
  {
   "cell_type": "code",
   "execution_count": 2,
   "metadata": {},
   "outputs": [],
   "source": [
    "main_folder_path = Path('../../instagram-dataset')"
   ]
  },
  {
   "cell_type": "code",
   "execution_count": 3,
   "metadata": {},
   "outputs": [],
   "source": [
    "path = main_folder_path.joinpath('dataset')"
   ]
  },
  {
   "cell_type": "code",
   "execution_count": 4,
   "metadata": {},
   "outputs": [],
   "source": [
    "images = os.listdir(path=path)"
   ]
  },
  {
   "cell_type": "code",
   "execution_count": 5,
   "metadata": {},
   "outputs": [],
   "source": [
    "main_formatted_path = main_folder_path.joinpath('dataset-formatted')\n",
    "main_formatted_path.mkdir(parents=True, exist_ok=True)"
   ]
  },
  {
   "cell_type": "code",
   "execution_count": 6,
   "metadata": {},
   "outputs": [
    {
     "name": "stdout",
     "output_type": "stream",
     "text": [
      "Numero di esempi:  1000\n"
     ]
    },
    {
     "data": {
      "text/html": [
       "<div>\n",
       "<style scoped>\n",
       "    .dataframe tbody tr th:only-of-type {\n",
       "        vertical-align: middle;\n",
       "    }\n",
       "\n",
       "    .dataframe tbody tr th {\n",
       "        vertical-align: top;\n",
       "    }\n",
       "\n",
       "    .dataframe thead th {\n",
       "        text-align: right;\n",
       "    }\n",
       "</style>\n",
       "<table border=\"1\" class=\"dataframe\">\n",
       "  <thead>\n",
       "    <tr style=\"text-align: right;\">\n",
       "      <th></th>\n",
       "      <th>Unnamed: 0</th>\n",
       "      <th>name</th>\n",
       "      <th>topic</th>\n",
       "    </tr>\n",
       "  </thead>\n",
       "  <tbody>\n",
       "    <tr>\n",
       "      <th>0</th>\n",
       "      <td>0</td>\n",
       "      <td>cristiano</td>\n",
       "      <td>Soccer</td>\n",
       "    </tr>\n",
       "    <tr>\n",
       "      <th>1</th>\n",
       "      <td>1</td>\n",
       "      <td>kyliejenner</td>\n",
       "      <td>Modeling</td>\n",
       "    </tr>\n",
       "    <tr>\n",
       "      <th>2</th>\n",
       "      <td>2</td>\n",
       "      <td>selenagomez</td>\n",
       "      <td>Actors</td>\n",
       "    </tr>\n",
       "    <tr>\n",
       "      <th>3</th>\n",
       "      <td>3</td>\n",
       "      <td>leomessi</td>\n",
       "      <td>Soccer</td>\n",
       "    </tr>\n",
       "    <tr>\n",
       "      <th>4</th>\n",
       "      <td>4</td>\n",
       "      <td>beyonce</td>\n",
       "      <td>Singer</td>\n",
       "    </tr>\n",
       "  </tbody>\n",
       "</table>\n",
       "</div>"
      ],
      "text/plain": [
       "   Unnamed: 0         name     topic\n",
       "0           0    cristiano    Soccer\n",
       "1           1  kyliejenner  Modeling\n",
       "2           2  selenagomez    Actors\n",
       "3           3     leomessi    Soccer\n",
       "4           4      beyonce    Singer"
      ]
     },
     "execution_count": 6,
     "metadata": {},
     "output_type": "execute_result"
    }
   ],
   "source": [
    "dt_inf_list = pd.read_csv('../dataset/influencer_list.csv')\n",
    "print(\"Numero di esempi: \", len(dt_inf_list))\n",
    "dt_inf_list.head()"
   ]
  },
  {
   "cell_type": "code",
   "execution_count": 7,
   "metadata": {},
   "outputs": [],
   "source": [
    "dt_inf_list = dt_inf_list[dt_inf_list['topic'].notna()]"
   ]
  },
  {
   "cell_type": "code",
   "execution_count": 8,
   "metadata": {},
   "outputs": [
    {
     "data": {
      "text/plain": [
       "Actors         251\n",
       "Singer         104\n",
       "Music           84\n",
       "Modeling        83\n",
       "Fashion         60\n",
       "              ... \n",
       "Comedy           1\n",
       "Apparel          1\n",
       "Band             1\n",
       "Comics           1\n",
       "Journalists      1\n",
       "Name: topic, Length: 65, dtype: int64"
      ]
     },
     "execution_count": 8,
     "metadata": {},
     "output_type": "execute_result"
    }
   ],
   "source": [
    "dt_inf_list['topic'].value_counts()"
   ]
  },
  {
   "cell_type": "code",
   "execution_count": 9,
   "metadata": {
    "scrolled": true
   },
   "outputs": [
    {
     "data": {
      "text/plain": [
       "65"
      ]
     },
     "execution_count": 9,
     "metadata": {},
     "output_type": "execute_result"
    }
   ],
   "source": [
    "len(dt_inf_list['topic'].unique())"
   ]
  },
  {
   "cell_type": "markdown",
   "metadata": {},
   "source": [
    "### Accorpamento categorie"
   ]
  },
  {
   "cell_type": "code",
   "execution_count": 10,
   "metadata": {},
   "outputs": [],
   "source": [
    "mask_sport = dt_inf_list.topic.str.contains(\"Journalists|Coaching|Mixed martial arts|Riders|Cricket|Sports|Surfing|Soccer|American football|Tennis|Boxing|Basketball|Gym|Fitness|Training\")\n",
    "dt_inf_list.loc[mask_sport, 'topic'] = 'sport'"
   ]
  },
  {
   "cell_type": "code",
   "execution_count": 11,
   "metadata": {},
   "outputs": [],
   "source": [
    "mask_music = dt_inf_list.topic.str.contains(\"Rap|Music|Band|DJ|Music of Asia|Songwriting|Singer|Producers\")\n",
    "dt_inf_list.loc[mask_music, 'topic'] = 'music'"
   ]
  },
  {
   "cell_type": "code",
   "execution_count": 12,
   "metadata": {},
   "outputs": [],
   "source": [
    "mask_actor = dt_inf_list.topic.str.contains(\"Actors|Film|Movies\")\n",
    "dt_inf_list.loc[mask_actor, 'topic'] = 'actor'"
   ]
  },
  {
   "cell_type": "code",
   "execution_count": 13,
   "metadata": {},
   "outputs": [],
   "source": [
    "mask_fashion = dt_inf_list.topic.str.contains(\"Photography|Design|Illustrator|Interior Design|Art|Beauty|Celebrities|Events|Fashion|Apparel|Modeling|Beauty|Streetwear|Styling\")\n",
    "dt_inf_list.loc[mask_fashion, 'topic'] = 'fashion'"
   ]
  },
  {
   "cell_type": "raw",
   "metadata": {},
   "source": [
    "mask_art = dt_inf_list.topic.str.contains(\"Art|Photography|Design|Illustrator|Interior Design\")\n",
    "dt_inf_list.loc[mask_art, 'topic'] = 'art'"
   ]
  },
  {
   "cell_type": "code",
   "execution_count": 14,
   "metadata": {},
   "outputs": [],
   "source": [
    "mask_art = dt_inf_list.topic.str.contains(\"Editing|Politics|Medical Center|Chef|Anime|Entrepreneur|Business|Moms|Dance|Video Games|Humor|Lifestyle|Video Blogger|Entertainment|TV Host|Travel\")\n",
    "dt_inf_list.loc[mask_art, 'topic'] = 'entertainment' #influencer"
   ]
  },
  {
   "cell_type": "code",
   "execution_count": 15,
   "metadata": {},
   "outputs": [
    {
     "data": {
      "text/html": [
       "<div>\n",
       "<style scoped>\n",
       "    .dataframe tbody tr th:only-of-type {\n",
       "        vertical-align: middle;\n",
       "    }\n",
       "\n",
       "    .dataframe tbody tr th {\n",
       "        vertical-align: top;\n",
       "    }\n",
       "\n",
       "    .dataframe thead th {\n",
       "        text-align: right;\n",
       "    }\n",
       "</style>\n",
       "<table border=\"1\" class=\"dataframe\">\n",
       "  <thead>\n",
       "    <tr style=\"text-align: right;\">\n",
       "      <th></th>\n",
       "      <th>Unnamed: 0</th>\n",
       "      <th>name</th>\n",
       "      <th>topic</th>\n",
       "    </tr>\n",
       "  </thead>\n",
       "  <tbody>\n",
       "    <tr>\n",
       "      <th>0</th>\n",
       "      <td>0</td>\n",
       "      <td>cristiano</td>\n",
       "      <td>sport</td>\n",
       "    </tr>\n",
       "    <tr>\n",
       "      <th>1</th>\n",
       "      <td>1</td>\n",
       "      <td>kyliejenner</td>\n",
       "      <td>fashion</td>\n",
       "    </tr>\n",
       "    <tr>\n",
       "      <th>2</th>\n",
       "      <td>2</td>\n",
       "      <td>selenagomez</td>\n",
       "      <td>actor</td>\n",
       "    </tr>\n",
       "    <tr>\n",
       "      <th>3</th>\n",
       "      <td>3</td>\n",
       "      <td>leomessi</td>\n",
       "      <td>sport</td>\n",
       "    </tr>\n",
       "    <tr>\n",
       "      <th>4</th>\n",
       "      <td>4</td>\n",
       "      <td>beyonce</td>\n",
       "      <td>music</td>\n",
       "    </tr>\n",
       "  </tbody>\n",
       "</table>\n",
       "</div>"
      ],
      "text/plain": [
       "   Unnamed: 0         name    topic\n",
       "0           0    cristiano    sport\n",
       "1           1  kyliejenner  fashion\n",
       "2           2  selenagomez    actor\n",
       "3           3     leomessi    sport\n",
       "4           4      beyonce    music"
      ]
     },
     "execution_count": 15,
     "metadata": {},
     "output_type": "execute_result"
    }
   ],
   "source": [
    "dt_inf_list.head()"
   ]
  },
  {
   "cell_type": "code",
   "execution_count": 16,
   "metadata": {},
   "outputs": [],
   "source": [
    "dt_inf_list = dt_inf_list.drop(\n",
    "    dt_inf_list[\n",
    "        dt_inf_list.topic.isin(['Cars','News&amp;Politics','Food', 'Comics','Memes','Children','Comedy','Interior Design','Xbox','TV Shows','TV Channel'])\n",
    "    ].index\n",
    ")"
   ]
  },
  {
   "cell_type": "code",
   "execution_count": 17,
   "metadata": {},
   "outputs": [
    {
     "data": {
      "text/plain": [
       "actor            262\n",
       "music            222\n",
       "fashion          185\n",
       "entertainment    149\n",
       "sport            144\n",
       "Name: topic, dtype: int64"
      ]
     },
     "execution_count": 17,
     "metadata": {},
     "output_type": "execute_result"
    }
   ],
   "source": [
    "dt_inf_list['topic'].value_counts()"
   ]
  },
  {
   "cell_type": "markdown",
   "metadata": {},
   "source": [
    "### Costruzione cartelle\n",
    "\n",
    "Categorie eliminate:\n",
    "\n",
    "- Xbox\n",
    "- TV Shows\n",
    "- TV Channel\n",
    "- ..."
   ]
  },
  {
   "cell_type": "code",
   "execution_count": 18,
   "metadata": {},
   "outputs": [
    {
     "data": {
      "text/plain": [
       "5"
      ]
     },
     "execution_count": 18,
     "metadata": {},
     "output_type": "execute_result"
    }
   ],
   "source": [
    "len(dt_inf_list['topic'].unique())"
   ]
  },
  {
   "cell_type": "code",
   "execution_count": 19,
   "metadata": {},
   "outputs": [],
   "source": [
    "for elem in dt_inf_list['topic'].unique():\n",
    "    if str(elem) == elem:\n",
    "        account = dt_inf_list.loc[dt_inf_list['topic'] == elem]\n",
    "        main_formatted_path.joinpath(str(elem)).mkdir(parents=True, exist_ok=True)\n",
    "\n",
    "        for acc in account['name']:\n",
    "            for i in range(12):\n",
    "                try:\n",
    "                    acc_path = acc + str(i) + '.jpg'\n",
    "                    my_file = path.joinpath(acc_path)\n",
    "                    to_file = main_formatted_path.joinpath(elem)\n",
    "                    shutil.copy(str(my_file), str(to_file))\n",
    "                except OSError as e:\n",
    "                    pass"
   ]
  },
  {
   "cell_type": "code",
   "execution_count": null,
   "metadata": {},
   "outputs": [],
   "source": []
  }
 ],
 "metadata": {
  "kernelspec": {
   "display_name": "Python 3",
   "language": "python",
   "name": "python3"
  },
  "language_info": {
   "codemirror_mode": {
    "name": "ipython",
    "version": 3
   },
   "file_extension": ".py",
   "mimetype": "text/x-python",
   "name": "python",
   "nbconvert_exporter": "python",
   "pygments_lexer": "ipython3",
   "version": "3.6.10"
  }
 },
 "nbformat": 4,
 "nbformat_minor": 4
}
